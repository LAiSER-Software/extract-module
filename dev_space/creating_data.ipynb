{
 "cells": [
  {
   "cell_type": "code",
   "execution_count": null,
   "id": "initial_id",
   "metadata": {
    "ExecuteTime": {
     "end_time": "2025-05-22T04:31:38.370673Z",
     "start_time": "2025-05-22T04:31:38.321630Z"
    },
    "collapsed": true
   },
   "outputs": [],
   "source": [
    "import pandas as pd\n",
    "import requests\n",
    "import json\n",
    "import time"
   ]
  },
  {
   "cell_type": "code",
   "execution_count": null,
   "id": "dd3613fe30dc0bc2",
   "metadata": {
    "ExecuteTime": {
     "end_time": "2025-05-22T04:31:39.019221Z",
     "start_time": "2025-05-22T04:31:38.956754Z"
    }
   },
   "outputs": [],
   "source": [
    "from openai import OpenAI\n"
   ]
  },
  {
   "cell_type": "code",
   "execution_count": null,
   "id": "7389e5b998b39100",
   "metadata": {
    "ExecuteTime": {
     "end_time": "2025-05-22T12:08:43.388429Z",
     "start_time": "2025-05-22T12:08:41.991235Z"
    }
   },
   "outputs": [],
   "source": [
    "client = OpenAI(\n",
    "    api_key=\"\",\n",
    "    base_url=\"https://api.kluster.ai/v1\"\n",
    ")"
   ]
  },
  {
   "cell_type": "code",
   "execution_count": null,
   "id": "3c6fe90fb65e0986",
   "metadata": {
    "ExecuteTime": {
     "end_time": "2025-05-22T04:31:42.834133Z",
     "start_time": "2025-05-22T04:31:41.335333Z"
    }
   },
   "outputs": [],
   "source": [
    "df = pd.read_csv(\"R1_input_data.csv\")\n",
    "df"
   ]
  },
  {
   "cell_type": "code",
   "execution_count": null,
   "id": "728b0e24f6f80420",
   "metadata": {
    "ExecuteTime": {
     "end_time": "2025-05-22T04:31:48.954324Z",
     "start_time": "2025-05-22T04:31:48.949139Z"
    }
   },
   "outputs": [],
   "source": [
    "# df = df[:4]\n"
   ]
  },
  {
   "cell_type": "code",
   "execution_count": null,
   "id": "f6a8f6d73fa82b52",
   "metadata": {
    "ExecuteTime": {
     "end_time": "2025-05-22T04:31:50.032816Z",
     "start_time": "2025-05-22T04:31:49.964627Z"
    }
   },
   "outputs": [],
   "source": [
    "df"
   ]
  },
  {
   "cell_type": "code",
   "execution_count": null,
   "id": "a7fb7a66836d18f",
   "metadata": {
    "ExecuteTime": {
     "end_time": "2025-05-22T04:32:01.223822Z",
     "start_time": "2025-05-22T04:32:01.174169Z"
    }
   },
   "outputs": [],
   "source": [
    "def reasoning_prompt(job_description):\n",
    "    return f\"\"\"\n",
    "You are an experienced skill extraction model. Your task is to extract skills from the given job description using a 4-step reasoning process. Be concise and precise in your reasoning.\n",
    "\n",
    "Step 1: Understand the Role and Context\n",
    "Describe how the job title fits into the company’s structure or industry. Consider the function, domain, and purpose of the role.\n",
    "\n",
    "Step 2: Extract Explicit Skills\n",
    "List all tools, technologies, certifications, and named skills that are clearly and directly mentioned in the job description.\n",
    "For each skill, provide a short reason explaining why it was extracted.\n",
    "\n",
    "Step 3: Infer Implicit Skills\n",
    "Using the context from Step 1 and the explicit skills from Step 2, infer additional skills that are not directly stated but are clearly implied by the responsibilities or expectations.\n",
    "For each inferred skill, provide a short reason tied to the job description or context.\n",
    "\n",
    "Step 4: Thinking Log\n",
    "show your detailed reasoning process for each step above. This will be used to help train smaller models to mimic your thinking.\n",
    "\n",
    "Output format:\n",
    "## Thinking\n",
    "step 1: ...\n",
    "step 2: ...\n",
    "step 3: ...\n",
    "\n",
    "## Skills\n",
    "skill 1(implicit): reason 1\n",
    "skill 2(explicit): reason 2\n",
    "...\n",
    "\n",
    "Begin analysis using the job description below:\n",
    "\n",
    "\\\"\\\"\\\"\n",
    "{job_description}\n",
    "\\\"\\\"\\\"\n",
    "\"\"\""
   ]
  },
  {
   "cell_type": "code",
   "execution_count": null,
   "id": "42b8978f80e152bf",
   "metadata": {
    "ExecuteTime": {
     "end_time": "2025-05-22T04:32:01.394128Z",
     "start_time": "2025-05-22T04:32:01.381492Z"
    }
   },
   "outputs": [],
   "source": [
    "import re\n",
    "\n",
    "def clean_output(output_text):\n",
    "    \"\"\"\n",
    "    Removes the <think>...</think> block from the output string.\n",
    "    Returns the cleaned JSON string.\n",
    "    \"\"\"\n",
    "    # Regex pattern to match <think> ... </think> including newlines\n",
    "    think_pattern = re.compile(r\"<think>.*?</think>\", re.DOTALL)\n",
    "\n",
    "    # Remove the think block\n",
    "    cleaned_text = re.sub(think_pattern, \"\", output_text)\n",
    "\n",
    "    # Strip whitespace\n",
    "    return cleaned_text.strip()"
   ]
  },
  {
   "cell_type": "code",
   "execution_count": null,
   "id": "293cbc2f8369c00c",
   "metadata": {
    "ExecuteTime": {
     "end_time": "2025-05-22T04:32:08.118848Z",
     "start_time": "2025-05-22T04:32:08.112811Z"
    }
   },
   "outputs": [],
   "source": [
    "import os\n",
    "import time\n",
    "import re"
   ]
  },
  {
   "cell_type": "code",
   "execution_count": null,
   "id": "df0f07a75662b033",
   "metadata": {
    "ExecuteTime": {
     "end_time": "2025-05-22T17:04:28.193410Z",
     "start_time": "2025-05-22T12:09:58.943316Z"
    }
   },
   "outputs": [],
   "source": [
    "output_csv = \"reasoning_outputs.csv\"\n",
    "\n",
    "start_idx = 592\n",
    "calls = 0\n",
    "\n",
    "if not os.path.isfile(output_csv):\n",
    "    pd.DataFrame(columns=[\"input\", \"output\"]).to_csv(output_csv, index=False)\n",
    "\n",
    "for idx in range(start_idx, len(df)):\n",
    "    job_description = df.loc[idx, \"input\"]\n",
    "    prompt = reasoning_prompt(job_description)\n",
    "\n",
    "    try:\n",
    "        completion = client.chat.completions.create(\n",
    "            model=\"deepseek-ai/DeepSeek-R1\",\n",
    "            max_completion_tokens=4000,\n",
    "            temperature=0.6,\n",
    "            top_p=1,\n",
    "            messages=[\n",
    "                {\n",
    "                    \"role\": \"system\",\n",
    "                    \"content\": \"You are an experienced skill extraction model.\",\n",
    "                },\n",
    "                {\"role\": \"user\", \"content\": prompt},\n",
    "            ],\n",
    "        )\n",
    "\n",
    "        raw_output = completion.choices[0].message.content\n",
    "        cleaned_output = clean_output(raw_output)\n",
    "\n",
    "        current_row = pd.DataFrame({\n",
    "            \"input\": [job_description],\n",
    "            \"output\": [cleaned_output]\n",
    "        })\n",
    "        current_row.to_csv(output_csv, mode='a', index=False, header=False)\n",
    "\n",
    "        print(f\"Saved output for job description {idx+1}\")\n",
    "\n",
    "        if (idx + 1) % 25 == 0:\n",
    "            checkpoint_df = pd.read_csv(output_csv)\n",
    "            checkpoint_filename = f\"checkpoint_{idx + 1}.csv\"\n",
    "            checkpoint_df.to_csv(checkpoint_filename, index=False)\n",
    "            print(f\"Checkpoint saved: {checkpoint_filename}\")\n",
    "            print(\"Sleeping for 60s to respect rate limits\")\n",
    "            time.sleep(60)\n",
    "    except Exception as e:\n",
    "        print(f\"Error at index {idx}: {e}\")\n"
   ]
  },
  {
   "cell_type": "code",
   "execution_count": null,
   "id": "e9007d04bcc7a5f",
   "metadata": {
    "ExecuteTime": {
     "end_time": "2025-05-22T17:45:58.666101Z",
     "start_time": "2025-05-22T17:45:54.839274Z"
    }
   },
   "outputs": [],
   "source": [
    "results = pd.read_csv(\"reasoning_outputs.csv\")"
   ]
  },
  {
   "cell_type": "code",
   "execution_count": null,
   "id": "f113aabec37cf03a",
   "metadata": {
    "ExecuteTime": {
     "end_time": "2025-05-22T17:46:03.033662Z",
     "start_time": "2025-05-22T17:46:00.724228Z"
    }
   },
   "outputs": [],
   "source": [
    "results"
   ]
  },
  {
   "cell_type": "code",
   "execution_count": null,
   "id": "b0d6a3f7f99118b8",
   "metadata": {},
   "outputs": [],
   "source": []
  }
 ],
 "metadata": {
  "kernelspec": {
   "display_name": "Python 3",
   "language": "python",
   "name": "python3"
  },
  "language_info": {
   "codemirror_mode": {
    "name": "ipython",
    "version": 2
   },
   "file_extension": ".py",
   "mimetype": "text/x-python",
   "name": "python",
   "nbconvert_exporter": "python",
   "pygments_lexer": "ipython2",
   "version": "2.7.6"
  }
 },
 "nbformat": 4,
 "nbformat_minor": 5
}
