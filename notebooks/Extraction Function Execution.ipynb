{
 "cells": [
  {
   "cell_type": "code",
   "execution_count": 1,
   "id": "460e328d-4242-4272-aa36-21db5c196ce1",
   "metadata": {},
   "outputs": [],
   "source": [
    "import pandas as pd\n",
    "import os\n",
    "import sys\n",
    "sys.path.append('../')"
   ]
  },
  {
   "cell_type": "code",
   "execution_count": 2,
   "id": "4a944dbc-fa7b-4e3f-b1b1-81149a857643",
   "metadata": {},
   "outputs": [],
   "source": [
    "from laiser.skill_extractor import Skill_Extractor\n",
    "from laiser.params import INPUT_PATH"
   ]
  },
  {
   "cell_type": "code",
   "execution_count": 3,
   "id": "460144d2-8792-4783-b312-c1c63e81eba0",
   "metadata": {},
   "outputs": [],
   "source": [
    "nlx_sample = pd.read_csv(os.path.join(INPUT_PATH, 'nlx_tx_sample_data_gwu.csv'))\n",
    "\n",
    "nlx_sample = nlx_sample[['description', 'job_id']]\n",
    "nlx_sample = nlx_sample[1:3]"
   ]
  },
  {
   "cell_type": "code",
   "execution_count": 4,
   "id": "852c06b6-6a80-4ee3-ae21-986df72883cd",
   "metadata": {},
   "outputs": [],
   "source": [
    "se = Skill_Extractor()"
   ]
  },
  {
   "cell_type": "code",
   "execution_count": 5,
   "id": "bae02085-bf38-4a9a-8ab5-afbb258123bd",
   "metadata": {},
   "outputs": [
    {
     "data": {
      "text/html": [
       "<div>\n",
       "<style scoped>\n",
       "    .dataframe tbody tr th:only-of-type {\n",
       "        vertical-align: middle;\n",
       "    }\n",
       "\n",
       "    .dataframe tbody tr th {\n",
       "        vertical-align: top;\n",
       "    }\n",
       "\n",
       "    .dataframe thead th {\n",
       "        text-align: right;\n",
       "    }\n",
       "</style>\n",
       "<table border=\"1\" class=\"dataframe\">\n",
       "  <thead>\n",
       "    <tr style=\"text-align: right;\">\n",
       "      <th></th>\n",
       "      <th>description</th>\n",
       "      <th>job_id</th>\n",
       "    </tr>\n",
       "  </thead>\n",
       "  <tbody>\n",
       "    <tr>\n",
       "      <th>1</th>\n",
       "      <td>Enters data using computer applications. Assis...</td>\n",
       "      <td>70014023</td>\n",
       "    </tr>\n",
       "    <tr>\n",
       "      <th>2</th>\n",
       "      <td>Kforce has a client in Austin, Texas (TX) that...</td>\n",
       "      <td>70241308</td>\n",
       "    </tr>\n",
       "  </tbody>\n",
       "</table>\n",
       "</div>"
      ],
      "text/plain": [
       "                                         description    job_id\n",
       "1  Enters data using computer applications. Assis...  70014023\n",
       "2  Kforce has a client in Austin, Texas (TX) that...  70241308"
      ]
     },
     "execution_count": 5,
     "metadata": {},
     "output_type": "execute_result"
    }
   ],
   "source": [
    "nlx_sample"
   ]
  },
  {
   "cell_type": "code",
   "execution_count": 6,
   "id": "095acd03",
   "metadata": {},
   "outputs": [],
   "source": [
    "raw_skills = [['Technical Knowledge', 'Platform Skills', 'Learning/Principals of Adult Learning', 'Communication for Impact', 'Consulting for Solutions', 'Maximizing Work Practices', 'Data Analysis', 'Critical Thinking', 'Problem Solving', 'Strategic Planning'], ['Computer applications', 'Technical repairs', 'General office detail work', 'Filing', 'Answering phones', 'Scheduling', 'Delivery'], ['Data Analysis', 'SQL Development', 'Data Migration', 'Business Domain Skills', 'SQL Server Development', 'Structured/Unstructured Data Analysis'], ['Data Modeling', 'Data Analysis', 'ETL/ELT', 'Data Warehousing', 'Data Reporting', 'Business Intelligence', 'Communication', 'Problem Solving', 'Teamwork', 'Project Management', 'Financial Management', 'Human Resources', 'Diversity and Inclusion'], ['Data Entry', 'Data Quality Audit', 'Data Entry Quality Control', 'Data Abstraction', 'Clinical Data Analysis', 'CMS Validation', 'Data Integrity', 'Performance Improvement', 'Data Management', 'Communication', 'Problem Solving'], ['Business Intelligence (BI)', 'Data Management', 'Business Solutions', 'Data Analysis', 'Data Science', 'Data Warehouse', 'Hadoop', 'Infrastructure', 'IT Security', 'Management', 'Risk Management', 'Leadership', 'Teamwork', 'Communication', 'Mentorship', 'Coaching', 'Budgeting', 'Scheduling'], ['Data Analysis', 'Communication', 'Excel', 'Information Technology', 'Leadership', 'Data Interpretation', 'Critical Thinking', 'Auditing', 'Data Writing', 'Project Management', 'Statistical Analysis', 'Data Modelling'], ['Network', 'Server Hardware', 'Linux', 'Project Management', 'Tool and Automation', 'Hardware and OS repair'], ['Infrastructure Deployment Catalog Requests', 'Cabling', 'Communication', 'Problem Solving', 'Communication', 'Teamwork', 'Time Management', 'Microsoft Office', 'Lotus Notes', 'Project Management', 'Network & SAN SFPs/GBICs', 'Data Center Equipment Knowledge', 'Change Management', 'Asset Management', 'Troubleshooting', 'Database Management', 'Server administration', 'Network administration', 'Storage Administration'], ['Network Switches and Routers', 'Firewalls', 'Data Center Equipment', 'Operating Systems', 'Servers', 'Storage Area Networks', 'Microsoft Office'], ['Database Administration', 'Database Analysis', 'Database Design and Modeling', 'Database Encryption Tools', 'Database Performance Management', 'Database Security', 'Database Testing', 'DBMS (Microsoft SQL Server and Oracle)', 'SQL Server', 'Oracle', 'Database Support', 'Database Tools', 'Database Design and Implementation', 'Information Technology', 'Agile Methodology', 'Cloud Computing', 'Scripting', 'Coding', 'Customer Service', 'Project Management', 'Microsoft Dynamics', 'SQL Server Mgmt Studio', 'Redgate Studio', 'Erwin', 'Oracle Toad'], ['Data collection', 'Customer service', 'Time keeping', 'Communication', 'Teamwork', 'Customer assessment', 'Project management', 'Computer skills', 'Customer service', 'Data analysis', 'Customer service', 'Leadership', 'Accountability', 'Dependability'], ['Database Administration', 'Security', 'Programming', 'SQL Server', 'Microsoft SQL Server', 'Operating Systems', 'Structured Programming', 'Change Management', 'AS400', 'Software Development', 'Data Integrity', 'Data Security', 'Performance Optimization', 'Data Maintenance'], ['Query and Report Writing', 'Data Analysis', 'Reporting and Analysis', 'Communication', 'Database Management', 'Problem Solving', 'Critical Thinking', 'Initiative', 'Teamwork', 'Leadership'], ['SIP trunking solutions', 'VoIP call flows', 'Client architecture', 'Diagnosis tests', 'Event logs', 'VoIP protocols & applications', 'DDoS configurations', 'Configuration & coordination of schedules', 'Agile team environment', 'Problem and Incident resolution', 'Troubleshooting and configuration of IP telephony gateways', 'Communication protocols and codecs', 'DDoS configurations', 'Agile team environment', 'Leadership and mentoring skills'], ['Skills: Database Performance Management, High Availability, Development, Back-Up and Recovery, Space and Capacity Management, Administration Tool Set Knowledge and Experience', 'Abilities: Comprehensive knowledge ofMicrosoft SQL and Oracle database administrationactivities', 'Other characteristics: Ability to provide technical consulting support for database policies and procedures. Ability to provide broad mastery ofinformation technology in database systems.'], ['Data analysis', 'Data collection', 'Data management', 'Reporting', 'Data quality control', 'System analysis', 'System design', 'Data reporting', 'Data entry', 'Data submission', 'Regulatory compliance', 'Data review', 'Clinical data analysis'], ['Cisco Enterprise Network', 'Cisco Nexus', 'MDS', 'Fiber Channel', 'Cisco UCS', 'F5', 'VMware', 'Storage', 'Network Management', 'Routing', 'VPN', 'IP Communication', 'Patchwork', 'Network monitoring'], ['Data quality analysis', 'Data modeling', 'Communication', 'Root cause analysis', 'Data transformation', 'Test case development', 'Business rule development', 'Reporting', 'Data profiling', 'Business analysis'], ['Database Administration', 'T-SQL', 'SQL Server', 'Database Design', 'SSIS', 'VB.NET', 'C#', 'Reporting Services', 'IT Systems Work'], ['Data Entry Numeric', 'Data Entry Alphanumeric', 'Critical Thinking', 'Problem Solving', 'Precision', 'Focus', 'Attention to Detail', 'Independence', 'Instruction Taking', 'Information Extraction', 'Conclusion Making'], [], ['Anomaly & Failure Resolution', 'Technical Data Authoring', 'Documentation Standards & Procedures', 'Collaboration', 'Technical Knowledge'], ['Statistical tools development', 'Advanced analytics', 'Data visualization', 'Data analysis', 'Web scraping', 'Management consulting', 'Quantitative analysis', 'Data modeling', 'SQL server', 'Statistical operations research', 'Data mining & optimization'], ['Research', 'Website exploration', 'Data input', 'Phone Answering', 'Computer experience', 'Medical billing', 'Insurance experience', 'Bilingual'], ['Nexidia Speech Analytics', 'Call Study Design', 'Statistical Analysis', 'Report Writing'], ['Data Extraction, Transformation, and Loading (ETL)', 'Data Quality Audits/Verification', 'Data Modeling/Mapping/Mining', 'Data Management', 'Data Configuration Management', 'Configuration Management', 'Collaboration', 'Problem-Solving', 'Communication', 'Microsoft Office Applications', 'Joint Technical Data (JTD)', 'XML'], ['SAP CRM', 'SAP interaction Center', 'Microsoft Office', 'Data integrity', 'Business process compliance', 'Teamwork', 'Problem solving', 'Customer service', 'Benefits administration'], ['Analytical Skills', 'Communication Skills', 'Problem-Solving Skills', 'SQL', 'SQL Scripting', 'Database Design', 'Python', 'Ruby', 'Shell', 'ETL', 'Data Analysis', 'SQL Query Optimization', 'Customer Experience', 'Process Improvement', 'Stakeholder Management', 'Strong Work Ethic'], ['Customer Relationship Management', 'Project Management', 'User Experience', 'Technical Support', 'Business Analysis', 'Data Analysis', 'Communication', 'Client Management', 'Data Reporting', 'Business Acumen', 'Collaboration', 'Risk Management', 'Time Management'], ['Leadership', 'Project Management', 'Business Intelligence', 'Cloud Computing', 'Data Warehousing', 'SQL', 'Communication', 'Problem Solving', 'Data Quality', 'Stakeholder Management', 'Change Management'], ['Strategy Consulting', 'Digital Finance', 'Data Integration', 'Digital Transformation', 'Enterprise Value', 'Enterprise Data Strategy', 'Business Value', 'Digital Finance Adoption', 'Strategic Planning', 'Feasibility Studies', 'Strategic Marketing'], ['Business Development', 'Sales', 'Customer Service', 'Communication', 'Relationship Building', 'Leadership', 'Problem-Solving', 'Time Management'], ['Data analysis', 'Data manipulation', 'Statistical analysis', 'SQL', 'MS Excel', 'Statistical analysis programs', 'Tableau', 'Monte Carlo simulation'], ['Preventative Maintenance', 'Equipment Repair', 'Troubleshooting', 'Critical Infrastructure', 'Computer Skills', 'Physical Ability', 'Teamwork', 'Communication'], ['DataStage', 'Java', 'SQL', 'DB2', 'J2EE', 'JDBC', 'JSP', 'XML', 'SOAP', 'EJB', 'Web', 'InfoSphere', 'C++', 'Visual Basic', 'SQL', 'DB2', 'J2EE', 'JSP'], ['Apache Hadoop', 'Java', 'Linux', 'SQL', 'NoSQL', 'ETL', 'Studio', 'Business Intelligence', 'Reporting'], ['Database Management', 'Facility Management', 'CAD', 'Data Entry and Maintenance', 'Communication', 'Training & Development', 'Technology Skills', 'Remote and On-site Support', 'Data Accuracy', 'Strategic Thinking'], ['Conceptual', 'Logical', 'Physical', 'Replication', 'SQL', 'Database Design', 'DataStage', 'SQL Replication', 'Database Monitoring', 'Database Maintenance', 'SQL Tuning', 'Unit Test', 'Requirements Gathering', 'Problem/Change Management', 'AIX/Linux Servers', 'ClearCase tool', 'DB Application Testing'], ['DataStage', 'Java', 'SQL', 'DB2', 'Reporting', 'Software development', 'Healthcare', 'Technology services', 'Energy', 'Financial services', 'Programming & Application Development'], ['Project Management', 'Data Verifications', 'SQL Coding', 'ETL', 'Metadata', 'Business Intelligence Reporting', 'Ticket System'], ['Data Evaluation', 'Data Entry', 'Data Management', 'Data Visualization', 'Data Editing', 'Data Collection', 'Data Security', 'Data Analysis', 'Data Reporting'], ['Data Analysis', 'Data Management', 'Data Quality', 'Data Reporting', 'Data Collection', 'Data Analysis', 'Data Presentation', 'Data Mining', 'Data Segmentation'], ['Data Entry', 'Windows PC Applications', 'Claim Processing', 'Turnaround Time', 'Quality Standards', 'Customer Service', 'Leadership', 'Initiative', 'Teamwork', 'Communication'], ['Apache Cassandra Expertise', 'NoSQL Databases', 'Database Technologies', 'Database Administration', 'Database Monitoring', 'Database Operations', 'Backup/Recovery', 'Database Testing'], ['SQL', 'Oracle', 'MS SQL', 'SQRW', 'BIRT', 'Actuate', 'Crystal', 'Maximo', 'SQRW', 'BIRT'], ['Unix Systems Administration', 'Red Hat', 'AIX', 'BigData Solutions', 'Hadoop', 'Oracle', 'HP', 'IBM', 'Solaris', 'SSH Tectia', 'Oracle RAC', 'Customer Support', 'Teamwork', 'Problem-Solving', 'ITIL', 'Security', 'Management'], ['Keyboard Skills', 'Excel Skills', 'Critical Thinking', 'Problem Solving', 'Communication', 'Time Management', 'Writing', 'Arithmetic', 'Multitasking', 'Microsoft Office Suite', 'Customer Service Skills', 'Negotiation'], ['Business Information Consultant', 'Data Analysis', 'Data Reporting', 'Managerial Analytics', 'Clinical Systems Reporting', 'Quality Management Reporting', 'Maternal Child Health Industry Experience', 'Medicaid Business Knowledge', 'Claims Analysis', 'Data Visualization'], ['Problem/Incident Management', 'Release/Deployment', 'Operational Readiness', 'Capacity/Availability Management', 'Application Monitoring', 'Service Analytics and Reporting', 'Production Governance', 'Triage', 'Associate Support', 'Change/Configuration Management', 'SQL coding and understanding of ETL best practices', 'HADOOP', 'DMX Express', 'Data analysis', 'SQL expertise', 'Performance Statistics', 'Utilities and DBA', 'Developer tools', 'SQL Assistant', 'Teradata Administrator 14, Teradata Viewpoint 15', 'SQL Assistant', 'TASM']]"
   ]
  },
  {
   "cell_type": "code",
   "execution_count": 7,
   "id": "aed05d16-0636-4b52-9dc2-a5f25991f6f6",
   "metadata": {},
   "outputs": [
    {
     "name": "stderr",
     "output_type": "stream",
     "text": [
      "i:\\US Vachesam\\Personal\\GWU Summer Research\\Codebase\\GitHub\\GWU Codebase (Fall 2023)\\code-repo\\notebooks\\..\\laiser\\skill_extractor.py:333: FutureWarning: The behavior of DataFrame concatenation with empty or all-NA entries is deprecated. In a future version, this will no longer exclude empty or all-NA columns when determining the result dtypes. To retain the old behavior, exclude the relevant entries before the concat operation.\n",
      "  skill_matches = pd.concat([skill_matches, temp], ignore_index=True)\n",
      "C:\\Users\\phani\\AppData\\Local\\Temp\\ipykernel_10400\\3980181498.py:5: FutureWarning: The behavior of DataFrame concatenation with empty or all-NA entries is deprecated. In a future version, this will no longer exclude empty or all-NA columns when determining the result dtypes. To retain the old behavior, exclude the relevant entries before the concat operation.\n",
      "  extracted = extracted._append(output, ignore_index=True)\n",
      "i:\\US Vachesam\\Personal\\GWU Summer Research\\Codebase\\GitHub\\GWU Codebase (Fall 2023)\\code-repo\\notebooks\\..\\laiser\\skill_extractor.py:333: FutureWarning: The behavior of DataFrame concatenation with empty or all-NA entries is deprecated. In a future version, this will no longer exclude empty or all-NA columns when determining the result dtypes. To retain the old behavior, exclude the relevant entries before the concat operation.\n",
      "  skill_matches = pd.concat([skill_matches, temp], ignore_index=True)\n"
     ]
    },
    {
     "name": "stdout",
     "output_type": "stream",
     "text": [
      "    Research ID                              Raw Skill Skill Tag  \\\n",
      "0      70014023                  Computer applications   ESCO.40   \n",
      "1      70014023                  Computer applications   ESCO.80   \n",
      "2      70014023                  Computer applications  ESCO.105   \n",
      "3      70014023                  Computer applications  ESCO.115   \n",
      "4      70014023                  Computer applications  ESCO.128   \n",
      "..          ...                                    ...       ...   \n",
      "753    70241308  Structured/Unstructured Data Analysis   OSN.766   \n",
      "754    70241308  Structured/Unstructured Data Analysis   OSN.789   \n",
      "755    70241308  Structured/Unstructured Data Analysis   OSN.810   \n",
      "756    70241308  Structured/Unstructured Data Analysis   OSN.814   \n",
      "757    70241308  Structured/Unstructured Data Analysis   OSN.861   \n",
      "\n",
      "     Correlation Coefficient  \n",
      "0                   0.843025  \n",
      "1                   0.771289  \n",
      "2                   0.753585  \n",
      "3                   0.777936  \n",
      "4                   0.752465  \n",
      "..                       ...  \n",
      "753                 0.834779  \n",
      "754                 0.807250  \n",
      "755                 0.819382  \n",
      "756                 0.771033  \n",
      "757                 0.756973  \n",
      "\n",
      "[758 rows x 4 columns]\n"
     ]
    }
   ],
   "source": [
    "# output = se.extractor(nlx_sample, 'job_id', 'description')\n",
    "extracted = pd.DataFrame(columns=['Research ID', 'Raw Skill', 'Skill Tag', 'Correlation Coefficient'])\n",
    "for idx, row in nlx_sample.iterrows():\n",
    "    output = se.align_skills(raw_skills[idx], row['job_id'])\n",
    "    extracted = extracted._append(output, ignore_index=True)\n",
    "print(extracted)"
   ]
  },
  {
   "cell_type": "code",
   "execution_count": 8,
   "id": "c7795d4f-8927-4324-a1d3-bee8393aeaf7",
   "metadata": {},
   "outputs": [],
   "source": [
    "# save the extracted skills to a csv file\n",
    "extracted.to_csv('extracted_skills.csv', index=False)"
   ]
  },
  {
   "cell_type": "code",
   "execution_count": null,
   "id": "ab89f63d",
   "metadata": {},
   "outputs": [],
   "source": []
  }
 ],
 "metadata": {
  "kernelspec": {
   "display_name": "Python 3 (ipykernel)",
   "language": "python",
   "name": "python3"
  },
  "language_info": {
   "codemirror_mode": {
    "name": "ipython",
    "version": 3
   },
   "file_extension": ".py",
   "mimetype": "text/x-python",
   "name": "python",
   "nbconvert_exporter": "python",
   "pygments_lexer": "ipython3",
   "version": "3.12.1"
  }
 },
 "nbformat": 4,
 "nbformat_minor": 5
}
