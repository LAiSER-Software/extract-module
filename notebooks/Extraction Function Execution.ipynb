{
 "cells": [
  {
   "cell_type": "code",
   "execution_count": 1,
   "id": "460e328d-4242-4272-aa36-21db5c196ce1",
   "metadata": {},
   "outputs": [],
   "source": [
    "import pandas as pd\n",
    "import os\n",
    "import sys\n",
    "sys.path.append('../')"
   ]
  },
  {
   "cell_type": "code",
   "execution_count": 2,
   "id": "4a944dbc-fa7b-4e3f-b1b1-81149a857643",
   "metadata": {},
   "outputs": [],
   "source": [
    "from laiser.skill_extractor import Skill_Extractor\n",
    "from laiser.params import INPUT_PATH"
   ]
  },
  {
   "cell_type": "code",
   "execution_count": 3,
   "id": "460144d2-8792-4783-b312-c1c63e81eba0",
   "metadata": {},
   "outputs": [],
   "source": [
    "nlx_sample = pd.read_csv(os.path.join(INPUT_PATH, 'nlx_tx_sample_data_gwu.csv'))\n",
    "\n",
    "nlx_sample = nlx_sample[['description', 'job_id']]\n",
    "nlx_sample = nlx_sample[1:3]"
   ]
  },
  {
   "cell_type": "code",
   "execution_count": 4,
   "id": "852c06b6-6a80-4ee3-ae21-986df72883cd",
   "metadata": {},
   "outputs": [
    {
     "name": "stdout",
     "output_type": "stream",
     "text": [
      "GPU is not available. Using CPU for SkillNer model initialization.\n",
      "loading full_matcher ...\n",
      "loading abv_matcher ...\n",
      "loading full_uni_matcher ...\n",
      "loading low_form_matcher ...\n",
      "loading token_matcher ...\n"
     ]
    }
   ],
   "source": [
    "se = Skill_Extractor()"
   ]
  },
  {
   "cell_type": "code",
   "execution_count": 5,
   "id": "bae02085-bf38-4a9a-8ab5-afbb258123bd",
   "metadata": {},
   "outputs": [
    {
     "data": {
      "text/html": [
       "<div>\n",
       "<style scoped>\n",
       "    .dataframe tbody tr th:only-of-type {\n",
       "        vertical-align: middle;\n",
       "    }\n",
       "\n",
       "    .dataframe tbody tr th {\n",
       "        vertical-align: top;\n",
       "    }\n",
       "\n",
       "    .dataframe thead th {\n",
       "        text-align: right;\n",
       "    }\n",
       "</style>\n",
       "<table border=\"1\" class=\"dataframe\">\n",
       "  <thead>\n",
       "    <tr style=\"text-align: right;\">\n",
       "      <th></th>\n",
       "      <th>description</th>\n",
       "      <th>job_id</th>\n",
       "    </tr>\n",
       "  </thead>\n",
       "  <tbody>\n",
       "    <tr>\n",
       "      <th>1</th>\n",
       "      <td>Enters data using computer applications. Assis...</td>\n",
       "      <td>70014023</td>\n",
       "    </tr>\n",
       "    <tr>\n",
       "      <th>2</th>\n",
       "      <td>Kforce has a client in Austin, Texas (TX) that...</td>\n",
       "      <td>70241308</td>\n",
       "    </tr>\n",
       "  </tbody>\n",
       "</table>\n",
       "</div>"
      ],
      "text/plain": [
       "                                         description    job_id\n",
       "1  Enters data using computer applications. Assis...  70014023\n",
       "2  Kforce has a client in Austin, Texas (TX) that...  70241308"
      ]
     },
     "execution_count": 5,
     "metadata": {},
     "output_type": "execute_result"
    }
   ],
   "source": [
    "nlx_sample"
   ]
  },
  {
   "cell_type": "code",
   "execution_count": 6,
   "id": "aed05d16-0636-4b52-9dc2-a5f25991f6f6",
   "metadata": {},
   "outputs": [
    {
     "name": "stdout",
     "output_type": "stream",
     "text": [
      "GPU is not available. Using SkillNer model for extraction.\n"
     ]
    },
    {
     "name": "stderr",
     "output_type": "stream",
     "text": [
      "c:\\Users\\phani\\AppData\\Local\\Programs\\Python\\Python312\\Lib\\site-packages\\skillNer\\utils.py:99: UserWarning: [W008] Evaluating Token.similarity based on empty vectors.\n",
      "  vec_similarity = token1.similarity(token2)\n",
      "i:\\US Vachesam\\Personal\\GWU Summer Research\\Codebase\\GitHub\\GWU Codebase (Fall 2023)\\code-repo\\notebooks\\..\\laiser\\skill_extractor.py:251: FutureWarning: The behavior of DataFrame concatenation with empty or all-NA entries is deprecated. In a future version, this will no longer exclude empty or all-NA columns when determining the result dtypes. To retain the old behavior, exclude the relevant entries before the concat operation.\n",
      "  skill_matches = pd.concat([skill_matches, temp], ignore_index=True)\n",
      "i:\\US Vachesam\\Personal\\GWU Summer Research\\Codebase\\GitHub\\GWU Codebase (Fall 2023)\\code-repo\\notebooks\\..\\laiser\\skill_extractor.py:290: FutureWarning: The behavior of DataFrame concatenation with empty or all-NA entries is deprecated. In a future version, this will no longer exclude empty or all-NA columns when determining the result dtypes. To retain the old behavior, exclude the relevant entries before the concat operation.\n",
      "  extracted = extracted._append(aligned_skills, ignore_index=True)\n"
     ]
    },
    {
     "name": "stdout",
     "output_type": "stream",
     "text": [
      "GPU is not available. Using SkillNer model for extraction.\n"
     ]
    },
    {
     "name": "stderr",
     "output_type": "stream",
     "text": [
      "c:\\Users\\phani\\AppData\\Local\\Programs\\Python\\Python312\\Lib\\site-packages\\skillNer\\utils.py:99: UserWarning: [W008] Evaluating Token.similarity based on empty vectors.\n",
      "  vec_similarity = token1.similarity(token2)\n",
      "i:\\US Vachesam\\Personal\\GWU Summer Research\\Codebase\\GitHub\\GWU Codebase (Fall 2023)\\code-repo\\notebooks\\..\\laiser\\skill_extractor.py:251: FutureWarning: The behavior of DataFrame concatenation with empty or all-NA entries is deprecated. In a future version, this will no longer exclude empty or all-NA columns when determining the result dtypes. To retain the old behavior, exclude the relevant entries before the concat operation.\n",
      "  skill_matches = pd.concat([skill_matches, temp], ignore_index=True)\n"
     ]
    }
   ],
   "source": [
    "output = se.extractor(nlx_sample, 'job_id', 'description')"
   ]
  },
  {
   "cell_type": "code",
   "execution_count": 7,
   "id": "c7795d4f-8927-4324-a1d3-bee8393aeaf7",
   "metadata": {},
   "outputs": [
    {
     "data": {
      "text/html": [
       "<div>\n",
       "<style scoped>\n",
       "    .dataframe tbody tr th:only-of-type {\n",
       "        vertical-align: middle;\n",
       "    }\n",
       "\n",
       "    .dataframe tbody tr th {\n",
       "        vertical-align: top;\n",
       "    }\n",
       "\n",
       "    .dataframe thead th {\n",
       "        text-align: right;\n",
       "    }\n",
       "</style>\n",
       "<table border=\"1\" class=\"dataframe\">\n",
       "  <thead>\n",
       "    <tr style=\"text-align: right;\">\n",
       "      <th></th>\n",
       "      <th>Research ID</th>\n",
       "      <th>Raw Skill</th>\n",
       "      <th>Skill Tag</th>\n",
       "      <th>Correlation Coefficient</th>\n",
       "    </tr>\n",
       "  </thead>\n",
       "  <tbody>\n",
       "    <tr>\n",
       "      <th>0</th>\n",
       "      <td>70014023</td>\n",
       "      <td>additional</td>\n",
       "      <td>ESCO.2</td>\n",
       "      <td>0.750915</td>\n",
       "    </tr>\n",
       "    <tr>\n",
       "      <th>1</th>\n",
       "      <td>70014023</td>\n",
       "      <td>additional</td>\n",
       "      <td>ESCO.360</td>\n",
       "      <td>0.758142</td>\n",
       "    </tr>\n",
       "    <tr>\n",
       "      <th>2</th>\n",
       "      <td>70014023</td>\n",
       "      <td>additional</td>\n",
       "      <td>ESCO.775</td>\n",
       "      <td>0.770659</td>\n",
       "    </tr>\n",
       "    <tr>\n",
       "      <th>3</th>\n",
       "      <td>70014023</td>\n",
       "      <td>mechanically</td>\n",
       "      <td>ESCO.19</td>\n",
       "      <td>0.755740</td>\n",
       "    </tr>\n",
       "    <tr>\n",
       "      <th>4</th>\n",
       "      <td>70014023</td>\n",
       "      <td>mechanically</td>\n",
       "      <td>ESCO.294</td>\n",
       "      <td>0.770419</td>\n",
       "    </tr>\n",
       "    <tr>\n",
       "      <th>...</th>\n",
       "      <td>...</td>\n",
       "      <td>...</td>\n",
       "      <td>...</td>\n",
       "      <td>...</td>\n",
       "    </tr>\n",
       "    <tr>\n",
       "      <th>579</th>\n",
       "      <td>70241308</td>\n",
       "      <td>sql databases</td>\n",
       "      <td>ESCO.210</td>\n",
       "      <td>0.776287</td>\n",
       "    </tr>\n",
       "    <tr>\n",
       "      <th>580</th>\n",
       "      <td>70241308</td>\n",
       "      <td>sql databases</td>\n",
       "      <td>ESCO.322</td>\n",
       "      <td>0.910668</td>\n",
       "    </tr>\n",
       "    <tr>\n",
       "      <th>581</th>\n",
       "      <td>70241308</td>\n",
       "      <td>sql databases</td>\n",
       "      <td>ESCO.350</td>\n",
       "      <td>0.759439</td>\n",
       "    </tr>\n",
       "    <tr>\n",
       "      <th>582</th>\n",
       "      <td>70241308</td>\n",
       "      <td>sql databases</td>\n",
       "      <td>ESCO.802</td>\n",
       "      <td>0.800960</td>\n",
       "    </tr>\n",
       "    <tr>\n",
       "      <th>583</th>\n",
       "      <td>70241308</td>\n",
       "      <td>sql databases</td>\n",
       "      <td>ESCO.1091</td>\n",
       "      <td>0.789093</td>\n",
       "    </tr>\n",
       "  </tbody>\n",
       "</table>\n",
       "<p>584 rows × 4 columns</p>\n",
       "</div>"
      ],
      "text/plain": [
       "    Research ID      Raw Skill  Skill Tag  Correlation Coefficient\n",
       "0      70014023     additional     ESCO.2                 0.750915\n",
       "1      70014023     additional   ESCO.360                 0.758142\n",
       "2      70014023     additional   ESCO.775                 0.770659\n",
       "3      70014023   mechanically    ESCO.19                 0.755740\n",
       "4      70014023   mechanically   ESCO.294                 0.770419\n",
       "..          ...            ...        ...                      ...\n",
       "579    70241308  sql databases   ESCO.210                 0.776287\n",
       "580    70241308  sql databases   ESCO.322                 0.910668\n",
       "581    70241308  sql databases   ESCO.350                 0.759439\n",
       "582    70241308  sql databases   ESCO.802                 0.800960\n",
       "583    70241308  sql databases  ESCO.1091                 0.789093\n",
       "\n",
       "[584 rows x 4 columns]"
      ]
     },
     "execution_count": 7,
     "metadata": {},
     "output_type": "execute_result"
    }
   ],
   "source": [
    "# save the extracted skills to a csv file\n",
    "output\n",
    "# extracted.to_csv('extracted_skills.csv', index=False)"
   ]
  },
  {
   "cell_type": "code",
   "execution_count": null,
   "id": "ab89f63d",
   "metadata": {},
   "outputs": [],
   "source": []
  }
 ],
 "metadata": {
  "kernelspec": {
   "display_name": "Python 3 (ipykernel)",
   "language": "python",
   "name": "python3"
  },
  "language_info": {
   "codemirror_mode": {
    "name": "ipython",
    "version": 3
   },
   "file_extension": ".py",
   "mimetype": "text/x-python",
   "name": "python",
   "nbconvert_exporter": "python",
   "pygments_lexer": "ipython3",
   "version": "3.12.1"
  }
 },
 "nbformat": 4,
 "nbformat_minor": 5
}
