{
  "cells": [
    {
      "cell_type": "code",
      "execution_count": 1,
      "metadata": {
        "colab": {
          "base_uri": "https://localhost:8080/"
        },
        "id": "OH4aE6bCWeph",
        "outputId": "1dbb0cda-9a6d-4366-e29d-4cb71a7822c0"
      },
      "outputs": [
        {
          "name": "stdout",
          "output_type": "stream",
          "text": [
            "Drive already mounted at /content/drive; to attempt to forcibly remount, call drive.mount(\"/content/drive\", force_remount=True).\n"
          ]
        }
      ],
      "source": [
        "from google.colab import drive\n",
        "drive.mount('/content/drive')"
      ]
    },
    {
      "cell_type": "code",
      "execution_count": null,
      "metadata": {
        "colab": {
          "base_uri": "https://localhost:8080/"
        },
        "id": "dAXhCo53ZZ6u",
        "outputId": "69922b13-9087-4775-e718-1b28382e21dc"
      },
      "outputs": [],
      "source": [
        "!pip3 install BitsAndBytes\n",
        "!pip3 install accelerate"
      ]
    },
    {
      "cell_type": "code",
      "execution_count": 1,
      "metadata": {
        "colab": {
          "base_uri": "https://localhost:8080/",
          "height": 145,
          "referenced_widgets": [
            "eff89b33ce31458a94a2b8a70854fc48",
            "2cc7fd758e924772aa025ef9b7e3cac0",
            "12b9e0f15e564297ab35036b3fa2fd08",
            "799699b0656c4ef8841ccccf0c2fb8d2",
            "08ac76f2e31e42d38fb0afd16db8149f",
            "239fc539d76c40d59f57553b760c8ef4",
            "14cd29d1a8bf47049c6f2fe8dda4707d",
            "baa9aac6455d4b25acd795b88051ff78",
            "d9e2e026d98f4edc870618ca271e8e1c",
            "17cfff0f23c242218c614fbe7bb6e65f",
            "5b03d9256ef64d229adc2aaf1d8d05ba",
            "ccd8f510ff424eb1a85fc16097c1ec82",
            "e3622d0ec9554b9da09b6223dc741ec4",
            "64ffce6616b747b6942c8f1b1988d89d",
            "63cf78491fdd4fd28e3b01c2a3c27a98",
            "6a8b3f12f2da402faaf7bc5ebd83bae8",
            "2b58d958594d44f5bad8da9172daeebe",
            "68b6135f90a647ce9b5d0606a6db77f7",
            "9a4c6f44734441f3bed8966a07347b14",
            "33f010c92b7848b880f2da8854f09cff",
            "58daf2f0a2e843d8aab0f714d2c77ce0",
            "3080522e52f84060959f8c333d7d4a80",
            "53e401753cfe4c2d95e9472149b44bb7",
            "28c58992d54c4ef39e42ccbeca070864",
            "3deba572bc49482a86eeaf48c875112f",
            "154d8868736d49e6bc7ffc03941625be",
            "f5c6413969f84b55bdd852d426e4295d",
            "36411baa4eeb47099a51045cfbfa3c17",
            "fd938fddc4984428a8259dcabb96f1e1",
            "a89f9ccd447e4d8bbb73abfd6b7ece7a",
            "8dff7ef09cb147268b7a32f9ab90e4bd",
            "b7e11a24511e4fda8e55ce6d5757642c"
          ]
        },
        "id": "-JbX9gFWdRw8",
        "outputId": "93ab33fa-c1a7-4595-8ff9-8f8140b3e4c6"
      },
      "outputs": [
        {
          "data": {
            "application/vnd.jupyter.widget-view+json": {
              "model_id": "eff89b33ce31458a94a2b8a70854fc48",
              "version_major": 2,
              "version_minor": 0
            },
            "text/plain": [
              "VBox(children=(HTML(value='<center> <img\\nsrc=https://huggingface.co/front/assets/huggingface_logo-noborder.sv…"
            ]
          },
          "metadata": {},
          "output_type": "display_data"
        }
      ],
      "source": [
        "from huggingface_hub import notebook_login\n",
        "notebook_login()"
      ]
    },
    {
      "cell_type": "code",
      "execution_count": null,
      "metadata": {
        "colab": {
          "base_uri": "https://localhost:8080/",
          "height": 246,
          "referenced_widgets": [
            "f2f0969934174ac8a9ba0e1d59f999d4",
            "32cdc24944c04b73943f63cd5bae51ea",
            "2446c826e4f1476283d0b399c81486ce",
            "b7148dda4426414bbb4a24147c6aa1c9",
            "8536a9058aa24212aca1dea936938c47",
            "82a2dc8bdc8245ba94b9e613f977eab0",
            "56ca63dfd16240ac8771339f6984d854",
            "b456f2766ada46e7b1537b6ac0ec27ce",
            "eb2b86a4bd3c48659a38c44010ba0b21",
            "69c768b847a445ac9dd29fc9abc6d253",
            "7da7399020b2428d9710f7fffd9fdcb4"
          ]
        },
        "id": "iYIKOYmPWQTw",
        "outputId": "8f860952-a875-49e4-8e8a-011cdb51c644"
      },
      "outputs": [],
      "source": [
        "import torch\n",
        "from transformers import AutoTokenizer, AutoModelForCausalLM, BitsAndBytesConfig\n",
        "\n",
        "torch.cuda.empty_cache\n",
        "\n",
        "model_id = \"google/gemma-2b-it\"\n",
        "\n",
        "bnb_config = BitsAndBytesConfig(\n",
        "    load_in_4bit=True,\n",
        "    bnb_4bit_use_double_quant=True,\n",
        "    bnb_4bit_quant_type=\"nf4\",\n",
        "    bnb_4bit_compute_dtype=torch.bfloat16\n",
        ")\n",
        "\n",
        "model = AutoModelForCausalLM.from_pretrained(model_id, quantization_config=bnb_config, device_map={\"\":0})\n",
        "tokenizer = AutoTokenizer.from_pretrained(model_id, add_eos_token=True, padding_side='left')\n",
        "\n",
        "\n",
        "# device = torch.device(\"cuda\" if torch.cuda.is_available() else \"cpu\")\n",
        "# model.to(device)"
      ]
    },
    {
      "cell_type": "code",
      "execution_count": 4,
      "metadata": {
        "colab": {
          "base_uri": "https://localhost:8080/"
        },
        "id": "r-Y3b3UVYFD_",
        "outputId": "fadbe3b0-5bfb-44a7-ee60-3123d7d48275"
      },
      "outputs": [
        {
          "name": "stdout",
          "output_type": "stream",
          "text": [
            "[\"Req ID: 29534BR\\n\\nPOSITION SUMMARY\\n\\nThis position is open to any ASO location listed and will consider existing internal WAH employees in any area\\n\\nWill only consider External candidates located near the Phoenix office location listed in posting.\\n\\nThis trainer position will be a technical training position for the Aetna Medicaid Provider Data Services teams, including HPRA, CSS, RCAR, MPST, Testing and Provider Maintenance. This position will report directly into the Medicaid Service Operations team, not Learning and Performance.\\n\\nFundamental Components:\\n-Responsible for the creation of the training curriculum from ground up for the Aetna Medicaid Provider Data Services teams, including, HPRA, CSS, Provider Maintenance, testing, RCAR and MPST teams.\\n-Ability to understand the technical aspects of the current roles within these teams and convert them to learning components for new hire and up training opportunities.\\n-Understanding of the Medicaid state web sites and how to read and understand state methodologies.\\n-Clear understanding of the QNXT system, including all modules.\\nBACKGROUND/EXPERIENCE desired:\\n-Strong technical knowledge of the function being trained.\\n-Excellent platform skills and the ability to interact effectively with people at all levels of the organization.\\n-Knowledge and previous application of Aetna policies and human resource processes.\\n-3-5 years experience in appropriate technical function.\\n-3-5 years previous training experience or proven platform skills required.\\nEDUCATION\\nThe highest level of education desired for candidates in this position is a Associate's degree or equivalent experience.\\n\\nFUNCTIONAL EXPERIENCES\\nFunctional - Claims/Claim processing - Medical or Hospital- HMO/4-6 Years\\nFunctional - Network Management/Provider data services/1-3 Years\\nFunctional - Learning/Principals of Adult Learning/1-3 Years\\nTECHNOLOGY EXPERIENCES\\nTechnical - Aetna Applications/QNXT/1-3 Years/End User\\nREQUIRED SKILLS\\nGeneral Business/Communicating for Impact/FOUNDATION\\nGeneral Business/Demonstrating Business and Industry Acumen/FOUNDATION\\nLeadership/Collaborating for Results/FOUNDATION\\nDESIRED SKILLS\\nGeneral Business/Consulting for Solutions/FOUNDATION\\nGeneral Business/Maximizing Work Practices/ADVANCED\\nGeneral Business/Turning Data into Information/FOUNDATION\\nADDITIONAL JOB INFORMATION\\n\\nOpportunity to build a training curriculum from the ground up\\nInvolved in the development of training that has not yet before been developed\\nAbility to support the development of a critical area of the Medicaid organization\\nAetna is about more than just doing a job. This is our opportunity to re-shape healthcare for America and across the globe. We are developing solutions to improve the quality and affordability of healthcare. What we do will benefit generations to come.\\n\\nWe care about each other, our customers and our communities. We are inspired to make a difference, and we are committed to integrity and excellence.\\n\\nTogether we will empower people to live healthier lives.\\n\\nAetna is an equal opportunity & affirmative action employer. All qualified applicants will receive consideration for employment regardless of personal characteristics or status. We take affirmative action to recruit, select and develop women, people of color, veterans and individuals with disabilities.\\n\\nWe are a company built on excellence. We have a culture that values growth, achievement and diversity and a workplace where your voice can be heard.\\nWe conduct pre-employment drug and background testing. Benefit eligibility may vary by position. Clickhereto review the benefits associated with this position.\\n\\nJob Function: Workforce and Talent Development\", 'Enters data using computer applications. Assistance with technical repairs of equipment, must be mechanically inclined. No additional training or certifications required.     Also performs some general office detail work to include filing, answering phones and scheduling. Delivery of product to clients and customers represents 40% of job duties.     Pay rate is $10.00/hour for entry level position.', 'Kforce has a client in Austin, Texas (TX) that is searching for a Financial Data Analyst / Developer with SQL experience. The project will include working with data from multiple sources and consolidating into one standardized system where it can be easily understood. These sources shall include Salesforce, SharePoint, and SQL databases among others.\\n\\n* 3 - 5 years experience working as a Data Analyst in Financial domain\\n\\n* Data Migration experience\\n\\n* Experience in the financial services domain - functional business side\\n\\n* Technical skills with Excel and Access DB / SQL server development\\n\\n* Hands-on experience with SQL Server development for financial revenue recognition systems / logic\\n\\n* Hands-on experience with complex structured and unstructured data analysis with successful migration of data using tools such as Excel, Access, SQL Server, etc\\n\\n* Understanding of other financial functions', \"*We believe that*, when done right, investing liberates people to create their own destiny. *We are driven* by our purpose to champion every client’s goals with passion and integrity. *We respect* and appreciate the diversity of our employees, our clients, and the communities we serve. *We challenge* conventions strategically to create value for our clients, our firm and the world. We live and bring to life the concept of ‘own your tomorrow’ every day. *We champion* our employee strengths, guide their development, and invest in their long-term success. *We hire* optimistic, results-oriented, curious, innovative, and adaptable people with the desire to help our clients and one another succeed.\\n\\n* Our Opportunity:*\\n\\nThe Information Management Tech (IMT) organization governs the strategy and implementation of the enterprise data warehouse and corresponding analytical and reporting capabilities.  The organization supports various functions most notably marketing, finance, operations and risk by providing critical information.  \\n\\nAt Charles Schwab, our Technology Services enable our business to connect with clients by leveraging emerging technology and delivering nimble solutions that empower clients to achieve their financial goals in a secure and reliable environment. We do this by continuing to be innovators in our space while ensuring that Schwab's tens of thousands of systems, network devices, and applications stay up and running to promote a consistent client experience and protect client assets.\\n\\nWith $2.5 trillion in assets and 325 offices worldwide, we are the largest, publically traded investment banking organization in the world. . . . but perhaps our greatest achievements, are all the Best Place to Work accolades we continue to receive year after year.  Our success is not accidental, our great achievements are directly attributed to having the right people making the right decisions at the right time.  As we approach 2016, we are looking to continue our investments in technology and looking for great technology innovators in their field who are not afraid to challenge the status quo.  Are you up for the challenge?  Are you ready to own your tomorrow?\\n\\nWe are looking for individuals who are passionate about technology to help develop and support the 1,000+ applications that keep our business competitive and running day after day. These roles will support a number of initiatives across a variety of business lines across our organization.  We are particularly interested in speaking with individuals who are passionate about Data.  We will consider candidates with all levels of experience in Data Warehousing for this opportunity. \\n\\n* What you’ll do:*\\n\\nThe Data Warehouse Analyst will work with business users of the EDW to gather data, usage and reporting requirements for new initiatives.  The Sr. Analyst will explore the data and business model involved in the initiative to further refine the requirements, research and propose alternative questions, and finally recommend a solution.  The Sr. Analyst will review the current data warehouse data in the ODS layer (3NF format) and build new Star/Snowflake schemas and other reporting and analytical structures.  The Sr. Analyst will be required to quickly learn Schwab’s business model, business vision and the associated analytical/reporting requirements.  A successful candidate will be curious about the business and the data that enables it.  A successful candidate will also be passionate about partnering with our business teams and exploring data to find the best solutions. \\n\\nDetailed duties include: \\n\\n  * Gathering user reporting and analytical requirements by working with business and reporting teams\\n  * Analyzing source system data, existing data models, and profiling data (using SQL) \\n  * Creating star schema models (using ERwin) with data flow diagrams, well documented metadata definitions and source-to-target data mappings\\n  * Working with data architect to help build the conceptual vision of information layer strategy (aka semantic layer), which involves dimensional synthesis, building of conformed dimensions, and ease-of-use reporting structures\\n  * Coordinating data model review and handoff with the ETL development team (vendor) \\n  * Partnering with business users and acting as a liaison between business and technical teams \\n  * Building deep understanding of the warehouse data and capabilities \\n\\n* What you have:*\\n\\n  * Experience as a Data warehouse specialist with expertise in learning business requirements and converting data into insights\\n  * Experience in data modeling (logical and/or physical) with solid understanding of 3NF and Star Schemas  \\n  * Experience with the Kimball style of data modeling and an understanding of Inmon concepts\\n  * Knowledge of SQL and database technologies and industry data modeling tools such as Erwin is required\\n  * Experience in Data Warehousing / Information Management preferably using Teradata database platform\\n  * Good understanding of current developments in data warehousing and Big Data space\\n  * Knowledge of developments in Hadoop and other emerging technologies  \\n  * Experience building high performing physical and logical models that work with reporting tools such as Business objects, OBIEE, Cognos, or other Enterprise Reporting Tool        \\n  * Good understanding of ETL/ELT methodologies using Informatica, Datastage, or other Enterprise ETL Tools \\n  * Experience working with business partners/data modelers/architects in building consensus, socializing data solutions/designs \\n  * Strong interpersonal, analytical, problem-solving, influencing, prioritization, decision- making and conflict resolution skills in working with senior executives, peers in matrix organization \\n  * Project management experience/knowledge, with ability to drive projects to successful completion\\n  * Excellent written/verbal presentation and communication skills\\n  * Strong knowledge of MS Project, Excel, MS Word and Visio Drawing tool along with general familiarity with Outlook and other MS Office applications is preferred  \\n\\n* What you’ll get:*\\n\\n  * Everyday Wellness: Healthy Rewards, Onsite Fitness Classes, Healthy Choices, Wellness Champions\\n  * Financial Fitness: 401k Match, Employee Discounts, Personalized advice, Brokerage discounts\\n  * Work/Life Balance: Sabbatical, New Mothers returning to work Program, Tuition Reimbursement Programs, Time off to volunteer\\n  * Inclusion: Employee Resource Groups, Commitment to diversity, Strategic partnerships\\n  * Not just a job, but a career, with an opportunity to do the best work of your life\\n\\nLearn more about Life@Schwab.\\n\\nCharles Schwab & Co., Inc. is an equal opportunity/affirmative action employer committed to diversifying its workforce. All applications are considered without regard to race, color, religion, sex, sexual orientation, national origin, age, disability, protected veteran status (disabled veterans, recently separated veterans, active duty wartime or campaign badge veterans, Armed Forces service medal veterans), or based on any individual’s status in any group or class protected by applicable federal, state or local law.\\n\\n\\nPosition Located In:TX - Austin, CO - Denver\", '**Description:**  \\nBaylor St. Luke’s Medical Center\\nA quaternary care facility that is home of the Texas Heart® Institute, a world-class cardiovascular research and education institution founded in 1962 by Denton A. Cooley, MD–consistently ranked as one of the nation’s best in Cardiovascular Services & Heart Surgery. The first hospital in Texas and the Southwest designated a Magnet® hospital for Nursing Excellence by the American Nurses Credentialing Center, receiving the award four consecutive times. Baylor St. Luke’s is home to three freestanding community emergency centers (Holcombe, Pearland, and San Felipe) offering adult and pediatric care–treating more than 51,000 patients annually. The hospital holds a collaborative partnership with Baylor College of Medicine and affiliations with The University of Texas Medical School at Houston, The University of Texas Medical Branch (Galveston), Houston Baptist University, and Prairie View A&M University.\\n\\nCollects and evaluates clinical data as a part of the Performance Improvement Program.\\n    \\n  \\n**Qualifications:**  \\n*Minimum Qualifications:\\n*\\nMinimum Education: High School Diploma/GED\\n\\nMinimum years in field previous to employment: Three (3) years of related work experience\\n\\n*Position Responsibilities:*\\n1. Develop and maintain expert knowledge of measure and indicator specific inclusion and exclusion criteria for assigned measure sets\\n2. Abstraction of both electronic and paper patient records based on established tools\\n3. Data entry into web tools of required data elements as specified by assigned national data bases and/or clinical registries\\n4. Conduct quality control audits of data entry via the web tool to assure accuracy of data entry\\n5. Correct or assist in resolution of data quality errors and transmission errors prior to upload of data\\n6. Participate in activities related to CMS validation audits\\n7. Participate in internal reliability studies on data abstraction\\n8. Participate in CPT meetings by providing education to hospital staff keeping the team apprised of changes or pending changes to measurement requirements\\n9. Assist in problem solving and formulation of performance improvement strategies related to compliance with measurement specifications\\n\\nMinimum Knowledge/Skills/Abilities\\n1. Computer keyboarding skills, knowledge of basic Word, Excel and Power Point, knowledge and understanding of medical terminology and familiarity with medical records, ability to interact effectively with healthcare providers of all disciplines, excellent time management and organizational skills\\n\\n*Preferred Experience:*\\n1. Extensive data and quality experience: gathering data, analysis, etc.\\n2. Experience with dashboards, audits, quality regulatory practices, and special projects\\n3. Transplant huge plus - Kidney, Liver, Heart, or Lung\\n    \\n**Job:** Quality Management  \\n**Primary Location:** TEXAS-HOUSTON-ST LUKE%27S MEDICAL CENTER  \\n**Shift:** M-F 8a-5p  \\n**Scheduled Hours per 2-week Pay Period:** 80  \\n**Weekends Required:** None  \\n**Req ID:** 2015-R0034695', \"The position will manage efforts and lead staff delivering Lockheed Martin (LM) Aeronautics' Business Intelligence and Analytics implementations. The efforts are key to the executive-led transformation into a data-driven company. Current business focus areas include manufacturing, supply chain, and after-market product support and logistics. This position is a Leadership role, reporting through both the LM Aeronautics Information Technology (Aero IT) and the LM Enterprise Business Services (EBS) Analytics Center of Excellence (ACE) organizations. Work location is at the Lockheed Martin Aeronautics Fort Worth site. Limited travel requirements are anticipated. LM Aeronautics Analytics builds state of the art data products using SAP HANA high speed, in-memory database, as well as a large Oracle Enterprise Data Warehouse (EDW). SAP Data Services and Informatica provide large-scale, scheduled data integration. Hadoop will add to future integration capabilities. The R software environment is used for large-volume statistical models and advanced visualization. The SAP Business Objects reporting and dashboard suite is widely used, both for IT-driven solutions and self-service. Self-service data discovery is currently provided by SAP Business Objects Explorer, with a 2016 movement to either Tableau or SAP Lumira. Duties include, but are not limited to: - Oversight of assigned Aeronautics Business Intelligence / Analytics development and support efforts, including responsibility for cost, schedule, quality, and system performance. - Leadership of staff, who perform the development and support efforts, toward performance excellence, including mentoring and coaching on best practices. - Contribution to Aero IT and ACE BI / Analytics strategies, and tactical implementation of those strategy components. - Management of assigned staff development (performance management, merit, promotions, etc.) and policy compliance, as well as all aspects of staff hiring, resource planning, & assignments. - Management of staff training and skill development to ensure required skills are available and deployed as needed. - Management of assigned budgets (Project Investment, Sustainment, EBS Overhead, Travel, Training, and Awards) for optimal use and achievement of organizational goals This position requires US Citizenship and ability to obtain a US government issued secret security clearance..\\n\\nBasic Qualifications\\n- Experience working with business communities to develop and deploy business analytics solutions. - Demonstrated ability to lead Business Intelligence (BI) / Advanced Analytics and/or Data Warehouse technical teams to develop, release and support deliverables. - Demonstrated management skills including budget management and scheduling. - Experience with in-memory database and ETL products, preferably SAP HANA, Data Services - Experience with Business Intelligence products, preferably Business Objects and Tableau\\n\\nDesired skills\\n- Staff management (performance management, merit, promotions, hiring, training skill development, etc.) experience. - Experience leading a diverse team with multiple components across geographic locations. - Demonstrated business acumen and ability to balance technical requirements with business needs. - Ability to proactively identify and mitigate risks. - Experience mentoring and coaching. - Demonstrated ability to perform well and multi-task in a fast-paced environment. - Demonstrated ability to coordinate effectively across both Information Technology and Business Functional organizations. - Experience in implementation, upgrade, migration, and/or retirement of BI and analytics platforms, including collaboration with Infrastructure and IT Security organizations - Experience with distributed big data architectures\\n\\nAs a leading technology innovation company, Lockheed Martin’s vast team works with partners around the world to bring proven performance to our customers’ toughest challenges. Lockheed Martin has employees based in many states throughout the U.S., and Internationally, with business locations in many nations and territories.\\n\\nJoin us at Lockheed Martin, where we’re engineering a better tomorrow.\\n\\n*Lockheed Martin is an Equal Opportunity/Affirmative Action Employer. All qualified applicants will receive consideration for employment without regard to race, color, religion, sex, pregnancy, sexual orientation, gender identity, national origin, age, protected veteran status, or disability status.*\\n\\nJob Location(s): Fort Worth Texas\", \"Job Duties:   Filtering data by utilizing various reporting applications   Interpreting supply chain audit data and analyze results   Creating applicable reporting mechanisms to convey data into a meaningful useful format   Constructing business critical reports to meet customer deadlines   Designing new and refine existing reporting   Identifying patterns in complex data sets, using the outcomes to drive process improvements   Executing unit testing to ensure new features work correctly within various systems   Working closely with management to prioritize business and information needs    Required Qualities and Experience:   A BA/BS degree in a relevant field such as: Information Systems, Statistics, Mathematics, Supply Chain   Two (2) related working experiences   Strong analytical skills including the ability to organize and disseminate information with accuracy and attention to detail   High proficiency in Excel, ability to use the tool for data analysis purposes (reconciliation of multiple data sets, pivot tables, formulas, etc)   Experience organizing information into a cohesive conveyable medium   Understanding of the importance of valid, reliable data for reporting   Ability to communicate effectively across multiple organizational departments   Motivation to drive tasks to completion effectively, initiative / entrepreneurial attitude   Experience with the Microsoft Office suite (PowerPoint, Word, and Excel)   Excellent time management and organizational skills    Preferred Qualities and Experience   Technical experience with database design and data modeling   Experience testing new application and system features   Experience applying statistical methods to business decisions   Project Management experience   Familiarity with documentation creation and maintenance    Job Type: Full-time  Salary: $40,000.00 /year  Local candidates only: Dallas, TX  Required experience: Data Analyst: 1 year  Required education: Bachelor's\", 'Facebook was built to help people connect and share, and over the last decade our tools have played a critical part in changing how people around the world communicate with one another. With over a billion people using the service and more than fifty offices around the globe, a career at Facebook offers countless ways to make an impact in a fast growing organization.\\n\\nFacebook is seeking a forward thinking experienced individual to join the Data Center Operations Team in our new Fort Worth Data Center. The person should enjoy working in a fast paced environment where adaptability and flexibility is key to their success. This position is full-time and will be based in somewhere, state. We seek an IT professional with advanced hands-on technical skills in Networks, Server Hardware and Linux (Ideally in a Data Center environment). Having depth and breadth knowledge of managing servers in a large-scale distributed environment is a core competency of this individual. The candidate should also have deep knowledge and experience in at least one of the following core areas: Networking, Project Management, Tool and Automation, Hardware and OS repair.\\n\\n**Responsibilities:**  \\n  * Manage capacity-related projects and sustainability throughout the Data Center\\n\\n  * Manage teams to deploy new data center infrastructure\\n\\n  * Manage server upgrades, integration, rebuild and other projects as required\\n\\n  * Manage/Plan server deployments to optimize power, cooling space and network\\n\\n  * Understand and debug network, hardware, and Linux OS related issues\\n\\n  * Identify and help create documentation for the global DC knowledge base\\n\\n  * Predict data center growth and scaling issues before they occur and implement solutions\\n\\n  * Be forward thinking to support all DC teams on to reduce potential risks to upcoming projects\\n\\n  * Track issues and analyze data looking for trends and systemic issues\\n\\n  * reporting out globally\\n\\n  * Drive specifications for tools that facilitate deployment and decommissioning of server hardware at scale\\n\\n  * Implement process improvements and inform best practices in data center operations\\n\\n\\n\\n**Requirements:**  \\n  * BS or BA in technical field or commensurate experience\\n\\n  * Comfortable with Linux and hardware systems support in an Internet operations environment\\n\\n  * Familiarity with Python, SQL and/or shell scripting knowledge\\n\\n  * 4+ years of experience in large-scale data center hardware deployments and building scaling infrastructure is desired\\n\\n  * 2+ years of managing multiple projects within the same time schedule\\n\\n  * Solid understanding of enterprise level networking and storage equipment installs\\n\\n  * Understanding of out-of-band/lights-out server communication methods, such as IPMI and serial console\\n\\n  * Excellent communication skills\\n\\n  * Must possess excellent time and project management skills\\n\\n  * Able to lift/move 20-30 lbs equipment on a daily basis\\n\\n  * Experience supervising, training, mentoring, and leading other technicians a plus\\n\\n\\n\\n**Industry:** Internet\\n\\nAs part of our dedication to the diversity of our workforce, Facebook is committed to Equal Employment Opportunity without regard for race, color, national origin, ethnicity, gender, protected veteran status, disability, sexual orientation, gender identity, or religion. We are also committed to providing reasonable accommodations for qualified individuals with disabilities and disabled veterans in our job application procedures. If you need assistance or an accommodation due to a disability, you may contact us at accommodations-ext@fb.com or you may call us at 1+650-308-7837.', 'Senior Systems Specialist - Data Center Facilities & Infrastructure Deployments (96350)\\nTX - Austin\\n\\n\\n\\n\\nPosition Description\\n&ldquo;Want to know what it&rsquo;s like to work in IT at The Home Depot?&rdquo;\\nhttps://vimeo.com/70037824\\n\\n\\n\\n\\n\\nPOSITION PURPOSE&ndash;\\n\\nMonitor, maintain, and support end-user hardware and software applications.\\n\\n\\n\\nMAJOR TASKS, RESPONSIBILITIES AND KEY ACCOUNTABILITIES&ndash;\\n\\nPlan, manage, & drive assigned Information Deployment Catalog Requests (IDCs) to completion:\\n\\nGather requirements, interpret network requirements, develop cabling schematics and produce task assignments to complete deployments\\n\\nInvestigate port availability and define port assignments\\n\\nPartner with Mechanical/Electrical technicians to determine power requirements and proper matrix to grid location for new hardware\\n\\nDeliver detailed daily updates on progress and work scheduled to the Project Manager/Coordinator for communication to customers\\n\\nReview work completed by data center technicians to ensure THD & industry standards are followed for work completed during the week\\n\\nTrack hours by project worked and present the information to the project manager on a weekly & monthly basis for chargebacks\\n\\nAttend appropriate meetings to drive work efforts to completion\\n\\nDrive multiple assigned tasks and work efforts to completion across multiple infrastructure teams\\n\\nDrive matrix teams to complete infrastructure deployments to the data center\\n\\nProvide a daily work plan to the Data Center Techs and/or Data Center Facilities mechanical/electrical engineers\\n\\nSupport infrastructure within data center:\\n\\nPhysical layer troubleshooting support contact\\n\\nTrace and/or test cables as requested for project planning or troubleshooting\\n\\nInvestigate and research hardware locations and cable routing as needed to assist in troubleshooting.\\n\\nEnsure asset management of received, installed, moved, and removed equipment is administered\\n\\nEnsure stock rooms have the appropriate levels of stock for deployments e.g. racks, cables, components, rack PDUs, and cable management, etc.\\n\\nEscalate issues when necessary to the appropriate resources, IT Operations groups, and/or leadership\\n\\nDrive assigned issues/incidents to resolution, & determine root cause of issues as appropriate\\n\\nRequest quotes for materials required for data center deployments or ad hoc requests e.g. power circuits, Racks, rack PDU&rsquo;s, cut tiles, cabling, etc.\\n\\nDevelop and mature data center standards, support, and deployment process documentation (SOPs)\\n\\nFollow Home Depot data center infrastructure standards as documented, otherwise use industry standards\\n\\nProvide IT equipment installation and removal services for, racks, servers, network devices, appliances, storage arrays, etc., install rail kits, rack pdu&rsquo;s, cable management, etc., run, build, and terminate cables, and label IT equipment and cables\\n\\nEnsure proper hot/cold aisle standards are followed by installing perforated or solid tiles during installs and equipment removals\\n\\nLabel cables and perform cable management to maintain integrity and the Home Depot standards\\n\\nCommunicate status towards the completion of assigned tasks before the shift ends\\n\\nMaintain & update spreadsheets detailing decommissions and equipment removals\\n\\nInterface with THD systems such as \"SharePoint\", ServiceNow for Change Management, Incident Mgt., Problem Mgt., & Break/Fix, and IDC \"Infrastructure Deployment Catalog Requests\" to determine workload requirements\\n\\nAttend daily meetings as appropriate to discuss current activities or escalate issues\\n\\nEnsure the Data Centers, MDFs, and storage areas are clean, organized, and safe\\n\\nEnsure Walk off mats are removed prior to the end of the shift as required\\n\\nOrganize and prepare manifests for pallets of decommissioned equipment or legacy components that will be picked up by our 3rd party equipment disposal company\\n\\nCoordinate equipment removal pick-ups with the 3rd party equipment disposal company including ensuring the proper equipment removal procedures are followed and the property removal forms are filled out\\n\\nMove equipment from storage to data center and from datacenter to storage as needed\\n\\nUpdate IDCs as appropriate with requirements, tasks, and/or information\\n\\nPhotograph before and after shots of work efforts, e.g. decommissioning work, cable clean-up, and site organization, etc.\\n\\nProvide onsite support to contractors performing infrastructure projects\\n\\nProvide support for the mechanical/electrical team members and vendors as needed\\n\\nEnsure resources or 3rd parties we work with follow the proper security policies as it pertains to data center access controls\\n\\nFollow Data Center, Corporate Security, and IT Security policies and procedures\\n\\nTrack hours by project worked and present the information to the project manager on a weekly & monthly basis for chargebacks\\n\\nEscalate issues when necessary to the appropriate resources, IT Operations groups, leadership, etc.\\n\\n\\n\\nNATURE AND SCOPE&ndash;\\n\\nTypically reports to a Manager, Assistant Manager, or Team Lead. May have supervisory responsibilities; may guide/lead newer associates and/or interns. Direct reports may include Associate Systems Specialist, Systems Specialist, Associate Operations Specialists, and/or Operations Specialists. Typically requires frequent persuasion or influencing of others. Usually assigns and reviews work of others. Typically procedures for analyzing situations and making conclusions are very diverse. Typically considers among many different options or procedures when solving problems. Typically, once given general assignments, determines priorities and defines what should be done and how to do it.\\n\\n\\n\\nENVIRONMENTAL JOB REQUIREMENTS&ndash;\\n\\nUnder regular pressure to meet deadlines, quotas and/or must frequently deal with difficult issues related to people or situations.\\n\\nESSENTIAL SKILLS\\n\\nMINIMUM QUALIFICATIONS&ndash;\\n\\n\\n\\nEDUCATION REQUIRED&ndash;\\n\\nThe knowledge, skills and abilities typically acquired through the completion of a associate\\'s degree program or equivalent degree in a field of study related to the job.\\n\\n\\n\\nYEARS OF RELEVANT WORK EXPERIENCE- 5\\n\\n\\n\\nPHYSICAL JOB REQUIREMENTS&ndash;\\n\\nMost of the time is spent sitting in a comfortable position and there is frequent opportunity to move about. On rare occasions there may be a need to move or lift light articles.\\n\\n\\n\\nADDITIONAL QUALIFICATIONS&ndash;\\n\\n6+ years\\' experience working within a data center\\n\\nExperience working in Tier III and/or IV data centers\\n\\nMust have experience with the technical infrastructure components required for infrastructure deployments in a data center including physical installations and structured cabling standards\\n\\nExperience with the following cabling types: Fiber, Ethernet, Twinax, and Infiniband\\n\\nExperience with Data Center equipment decommissions and equipment moves\\n\\nExperience with change control\\n\\nExperience with a Break/Fix ticketing systems\\n\\nExperience with Network & SAN SFPs/GBICs\\n\\nAbility to work in a matrixed resource environment to accomplish goals and meet schedules\\n\\nRequired to be an &ldquo;Effective&rdquo; communicator\\n\\nAbility to facilitate discussions with other matrixed resources to develop requirements\\n\\nExperience with Microsoft Office\\n\\nOrganized & detail oriented\\n\\nAttention to detail\\n\\nPlanner/Coordinator\\n\\nTask Driven\\n\\nSelf-motivated\\n\\nTransparent\\n\\nExperience with Data Center infrastructure technology components including but not limited to, Servers, SAN Switches, Networks, Security Appliances, SAN/NAS/Flash storage, structured cabling, Rack PDUs, Racks & Components, Engineered Solutions (Mainframe, Oracle Exadata, HP Tandem, Hadoop, Teradata, etc.)\\n\\nExperience with ServiceNow\\n\\nExperience with DCIM/Asset Management/CMDB tools\\n\\nTechnical School degree or higher\\n\\n\\n\\nKNOWLEDGE, SKILLS, ABILITIES AND COMPETENCIES&ndash;\\n\\nKnowledge of MS Office and Lotus Notes. Functional and/or business knowledge of assigned user groups. Technical knowledge which may include experience with Basic, MVS and UNIX as well as data connectivity. Problem solving and general analytical skills. Supervisory skills/people management. Subject matter expertise in a functional area. Presentation, facilitation, and writing skills. Project management-estimating, planning, controlling, and execution.\\n\\n\\nDate Posted: Dec 30, 2015\\nFunctional Area: Information Technology\\nCompany: The Home Depot\\nPosition Type: Full-Time\\nTravel: None\\nRelocation Provided: No', 'Associate Systems Specialist - Data Center Facilities & Infrastructure Deployments (96353)\\nTX - Austin\\n\\n\\n\\n\\nPosition Description\\n&ldquo;Want to know what it&rsquo;s like to work in IT at The Home Depot?&rdquo;\\nhttps://vimeo.com/70037824\\n\\n\\n\\n\\n\\nPOSITION PURPOSE-\\n\\nThe Associate Systems Specialist is an advanced level of troubleshooting support for the IT Operations team. These associates may monitor a phone queue, alerts, and team inboxes in an effort to ensure teams are at a high state of readiness, and team metrics are being met. This particular role is for a night time shift.\\n\\n\\n\\nMAJOR TASKS, RESPONSIBILITIES AND KEY ACCOUNTABILITIES&ndash;\\n\\nProvide IT equipment installation and removal services for, racks, servers, network devices, appliances, storage arrays, etc., install rail kits, rack pdu&rsquo;s, cable management, etc., run, build, terminate, and label cables & IT equipment\\n\\nProvide troubleshooting services for the application and infrastructure teams as it pertains to equipment in the data center and connectivity\\n\\nTrace and/or test cables as requested for project planning or troubleshooting\\n\\nFollow industry standards/best practices as it pertains to work requested\\n\\nEnsure proper hot/cold aisle standards are followed by installing perforated or solid tiles during IT equipment installs and removals\\n\\nLabel cables and perform cable management to maintain integrity and The Home Depot standards\\n\\nFollow Home Depot data center infrastructure standards as documented, otherwise use industry standards\\n\\nCommunicate status towards the completion of assigned tasks before the shift ends\\n\\nMaintain & update spreadsheets detailing decommissions and equipment removals\\n\\nInterface with THD systems such as \"SharePoint\", ServiceNow for Change Management, Incident Mgt., Problem Mgt., & Break/Fix, and IDC \"Infrastructure Deployment Catalog Requests\" to determine workload requirements\\n\\nAttend daily meetings as appropriate to discuss current activities or escalate issues\\n\\nPartner with Matrixed teams as necessary to coordinate & complete work that is assigned\\n\\nEnsure the data centers, MDFs, and storage areas are clean, organized, and safe\\n\\nEnsure Walk off mats are removed prior to the end of the shift as required\\n\\nOrganize and prepare manifests for pallets of decommissioned equipment or legacy components that will be picked up by our 3rd party equipment disposal company\\n\\nMonitor inventory of supplies that are used to deploy equipment to the data center & escalate to the Senior Data Center Techs and project manager when the inventory is low. ((e.g. EoR Network or Storage switches, cables [fiber, Cat6, TwinX), etc.])\\n\\nPlace property tags and appropriate labels on equipment being installed and ensure asset information is updated in our asset management system\\n\\nUpdate IDCs as appropriate with requirements, tasks, and/or information\\n\\nPhotograph before and after shots of work efforts, e.g. decommissioning work, cable clean-up, site organization, etc.\\n\\nProvide onsite support to contractors performing infrastructure projects\\n\\nProvide support for the mechanical/electrical team members & vendors as needed\\n\\nEnsure resources or 3rd parties we work with follow the proper security policies as it pertains to data center access controls.\\n\\nFollow Data Center, Corporate Security, and IT Security policies and procedures\\n\\nTrack hours by project worked and present the information to the project manager on a weekly & monthly basis for chargebacks\\n\\nEscalate issues when necessary to the appropriate resources, IT Operations groups, and/or leadership\\nNATURE AND SCOPE-\\n\\nPosition Reports to: IT Supervisor; no direct responsibility for supervising others.\\n\\n\\n\\nENVIRONMENTAL JOB REQUIREMENTS&ndash;\\n\\nLocated in a comfortable indoor area. Any unpleasant conditions would be infrequent and not objectionable.\\n\\nESSENTIAL SKILLS\\n\\nMINIMUM QUALIFICATIONS&ndash;\\n\\nEDUCATION REQUIRED&ndash;\\n\\nThe knowledge, skills and abilities typically acquired through the completion of a high school diplomas and/or GED.\\nYEARS OF RELEVANT WORK EXPERIENCE- 07\\nPHYSICAL JOB REQUIREMENTS&ndash;\\n\\nMost of the time is spent sitting in a comfortable position and there is frequent opportunity to move about. On rare occasions there may be a need to move or lift light articles.\\nADDITIONAL QUALIFICATIONS&ndash;\\n\\nBachelor&rsquo;s Degree is preferred. Knowledge of Network Switches, Routers, Firewalls, and Access Points Knowledge of Operating Systems (Windows, UNIX, and IOS) Knowledge of Server Hardware Knowledge of Host Systems Knowledge of Storage Area Networks (SANs)\\nPREFERRED QUALIFICATIONS&ndash;\\n\\n4+ years\\' experience working within a Data Center\\n\\nMust have experience with the technical infrastructure components required for infrastructure deployments in a data center including physical installations and structured cabling standards\\n\\nExperience with the following cabling types: Fiber, Ethernet, Twinax, and Infiniband\\n\\nExperience with Data Center equipment decommissions and equipment moves\\n\\nExperience with change control\\n\\nExperience with a Break/Fix ticketing systems\\n\\nExperience with Network & SAN SFPs/GBICs\\n\\nAbility to work in a matrixed resource environment to accomplish goals and meet schedules\\n\\nExperience with Microsoft Office\\n\\nOrganized & detail oriented\\n\\nAttention to detail\\n\\nTask Driven\\n\\nSelf-motivated\\n\\nTransparent\\n\\nExperience with Data Center infrastructure technology components including but not limited to, Servers, SAN Switches, Networks, Security Appliances, SAN/NAS/Flash storage, structured cabling, Rack PDUs, Racks & Components, Engineered Solutions (Mainframe, Oracle Exadata, HP Tandem, Hadoop, Teradata, etc.)\\n\\nExperience with ServiceNow\\n\\nExperience with DCIM/Asset Management/CMDB tools\\n\\nTechnical School degree or higher\\n\\n\\n\\nKNOWLEDGE, SKILLS, ABILITIES AND COMPETENCIES&ndash;\\n\\nMaintaining a high degree of technical competence and knowledge that involves the understanding of concepts and facilities utilized in support of computer and network systems. Ability to communicate effectively with all levels of personnel, both verbally and in writing. Ability to quickly analyze and resolve systems problems as they occur. Ability to utilize operational experience and knowledge to effectively write methods, standards and procedures in a clear and concise manner to ensure ease of use. Ability to verbally communicate with all levels of associates within the organizations.\\nDate Posted: Dec 30, 2015\\nFunctional Area: Information Technology\\nCompany: The Home Depot\\nPosition Type: Full-Time\\nTravel: None\\nRelocation Provided: No', \"Information Technology Specialist (DATA MANAGEMENT)\\nAustin, TX\\nDuties:\\nDUTY LOCATION:\\xa0 VA Financial Service Center, Austin, TX.\\n\\n\\xa0\\n\\nIncumbent serves as an Information Technology Specialist under the Information and Technology Service, Operations & Maintenance Division for the Department of Veterans Affairs (VA) Financial Services Center (FSC) located in Austin, Texas. The incumbent serves as Database Administrator (DBA) for the Financial Services Center and is responsible for the FSC's Microsoft SQL Server and Oracle databases. Incumbent performs other related duties as assigned.\\xa0\\xa0\\nWork Schedule:\\xa0 Full-time Employment;\\xa0 Monday thru Friday: 8:00am to 4:30pm.\\n\\n* Summary \\n* \\nOUR MISSION:To fulfill President Lincoln s promise ? ?To care for him who shall have borne the battle, and for his widow, and his orphan ? by serving and honoring the men and women who are America s Veterans. How would you like to become a part of a team providing compassionate care to Veterans?\\n\\nTheDepartment of Veterans Affairs(VA) needs employees who possess the energy, compassion, and commitment to serve those who served our Country. Whatever the job title, every position in VA will give you a chance to make a meaningful and personal contribution to the lives of truly special and deserving people - our Veterans. VA professionals feel good about their careers and their ability to balance work and home life. VA offers generous paid time off and a variety of predictable and flexible scheduling opportunities. Working for VA is one of the most emotionally satisfying and professionally rewarding ways to dedicate the best within you to your Country's service.  If you are transitioning from the military or a Veteran already, we invite you to explore the benefits of continuing your career at the VA.The VA is committed to hiring Veterans.\\n\\nThe VA is much more than just another employer. It is an honorable, open and welcoming community of those who care. Gratitude is our motivation and service is our mission.\\n\\nThe VA has adopted Core Values and Characteristics that apply universally across the Department. The five Core Values define ?who we are, our culture, and how we care for Veterans, their families and other beneficiaries. The Values areIntegrity,Commitment,Advocacy,Respect andExcellence (?I CARE ).\\n\\nAmerica's Veterans need you!To find out more, go tohttp://www.va.gov/jobs/.\\n\\n* Qualifications & Evaluations \\n* \\n\\xa0\\nSPECIALIZED EXPERIENCE\\n\\n\\xa0\\n\\nFor GS-13:\\xa0\\nPossess one year of specialized experience equivalent to the next lower grade level (GS-12). \\xa0Specialized Experience includes but is not limited to: \\xa0having specific database performance, management, high availability, development, back-up and recovery, space and capacity management, and administration tool set knowledge and experience that includes: Database encryption tools, ldera toolset suite, Apex SQL and Redgate database toolset suites, Database design and modeling tools, Toad for SQL and Oracle, Erwin, Microsoft Team Foundation Suite; performing work \\xa0involving isolating and defining issues or conditions related to data management, resolving critical problems in agency wide systems, or developing \\xa0new approaches and techniques for use by other database staff;\\xa0 serving as a consultant or project coordinator in carrying out one-of-a-kind efforts;\\xa0 providing advice, guidance, or results of the work affect development of major aspects of administrative or scientific efforts throughout an agency; work significantly affects development of a major aspects or results of the work of other database experts throughout the agency and often in other agencies. \\xa0Application of knowledge should produce reliable estimates of demand on IT resources, i.e., computer and peripheral usage, staff and user implementation time requirements.\\nAttention to Detail- Is thorough when performing work and conscientious about attending to detail.\\nCustomer Service- Works with clients and customers (that is, any individuals who use or receive the services or products that your work unit produces, including the general public, individuals who work in the agency, other agencies, or organizations outside the Government) to assess their needs, provide information or assistance, resolve their problems, or satisfy their expectations; knows about available products and services; is committed to providing quality products and services.\\nOral Communication- Expresses information (for example, ideas or facts) to individuals or groups effectively, taking into account the audience and nature of the information (for example, technical, sensitive, controversial); makes clear and convincing oral presentations; listens to others, attends to nonverbal cues, and responds appropriately.\\nProblem Solving- Identifies problems; determines accuracy and relevance of information; uses sound judgment to generate, evaluate alternatives, and to make recommendations and the number of hours a week spent in such employment.\\xa0AND\\n\\n\\xa0\\n\\nThis position includes aSelective Placement Factor(skill, knowledge, ability or other worker characteristic basic to - and essential for - satisfactory performance of the job).\\xa0 Selective Placement Factors are a prerequisite to appointment and represent minimum requirements for a position. Applicants who do not meet it are ineligible for further consideration.\\xa0\\xa0\\n\\n\\xa0\\n\\nTheSelective Placement Factorfor this position is:\\xa0possess specific database performance management, high availability, development, back-up and recovery, space and capacity management and administration tool set knowledge and experience.\\xa0\\xa0\\n\\n\\xa0\\n\\n\\xa0\\n\\n\\xa0\\n\\nYou will be rated on the following Knowledge, Skills, Abilities and Other characteristics (KSAOs) as part of the assessment questionnaire for this position:\\xa0\\n\\n\\xa0\\n\\n1. Comprehensive knowledge of Microsoft SQL and Oracle database administration activities.\\xa0\\xa0\\n\\n\\xa0\\n\\n2. Comprehensive knowledge of Database Analysis activities.\\xa0\\xa0\\xa0\\n3. Ability to provide technical consulting support for database policies and procedures.\\xa0\\xa0\\xa0\\n4. Comprehensive knowledge of managing and designing complex database systems.\\xa0\\n5. Ability to provide broad mastery of information technology in database systems.\\xa0\\n6. Extensive knowledge of VA database policies and standards.\\xa0\\xa0\\n\\n\\xa0\\n\\n\\xa0\\n\\nPHYSICAL REQUIREMENTS:\\xa0The work is sedentary. No special physical demands are required to perform the work. Duties may require lifting and carrying computer equipment such as servers, disk shelves, server racks, monitors and printers.\\xa0\\n\\n\\xa0\\n\\nFor more information on these qualification standards, please visit the United States Office of Personnel Management's website athttp://www.opm.gov/qualifications.\\n\\nIN DESCRIBING YOUR EXPERIENCE, PLEASE BE CLEAR AND SPECIFIC. WE WILL NOT MAKE ASSUMPTIONS REGARDING YOUR EXPERIENCE. If your resume does not support your questionnaire answers, we will not allow credit for your response(s).\\n\\nNote:A full year of work is considered to be 35-40 hours of work per week. Part-time experience will be credited on the basis of time actually spent in appropriate activities. Applicants wishing to receive credit for such experience must indicate clearly the nature of their duties and responsibilities in each position and the number of hours a week spent in such employment.\\nApplicants will be ranked based on four quality groups, as follows: \\n* Best qualified - applicants possessing experience that substantially exceeds the minimum qualifications of the position including all selective factors, and who are highly proficient in all requirements of the job and can perform effectively in the position; \\n* Highly qualified - applicants possessing experience that exceeds the minimum qualifications of the position including all selective factors, and who are proficient in most of the requirements of the job; \\n* Well qualified - applicants possessing experience that meets the minimum qualifications of the position including all selective factors, and who are proficient in some, but not all, of the requirements of the job; and \\n* Qualified - applicants possessing experience and/or education that meets the minimum qualifications of the position including all selective factors.\\nAfter the vacancy announcement closes, reviewed applications are evaluated against the questionnaire responses and placed in the appropriate quality group.\\xa0 Qualified veterans will be afforded preference by being placed at the top of the appropriate quality group.\\xa0 Qualifying veterans with a service-connected disability of 10% or more will be placed at the top of the best qualified group.\\xa0 The best qualified group is the first to be referred to the hiring facility for further consideration and possible interview.\\xa0 The remaining groups may be referred based on the number of applicants available.\\n\\n* Benefits & Other Info \\n* \\nVA offers a comprehensive benefits package. This link provides is an overview of the benefits currently offered:http://www.vacareers.va.gov/why-choose-va/benefits/index.asp.\\n\\nVA supports the use of telework as a way to help attract and retain talented individuals in public service, increase worker productivity, and better prepare the agency to operate during emergencies. This position may be authorized for telework. Telework eligibility will be discussed during the interview process.\\n\\nThe Federal Government has special excepted appointing authorities for persons with qualifying disabilities, such as Schedule A. Specific information can be found athttp://www.opm.gov/disability/peoplewithdisabilities.asp. IMPORTANT: If you would like to receive consideration as a Schedule A applicant, you must contact the Human Resources office at the facility where this position is located at (512)326-6172.\\n\\n*\", '**Immediate Opening: Part Time Merchandise Data Collector/FSR Field Service Representative (Pasadena, TX)**\\n\\n\\nIRI ISG, Inc. is looking for people to join our national Field Service Representative Team. The Part Time Field Service Representative (FSR) collects consumer product data by scanning UPC codes from a variety of retail stores (grocery, convenience, drug, and mass merchandise stores) within an assigned geographic territory which is setup by city, state and zip code.\\n\\n**What will I do as a Field Service Representative and what does IRI ISG, Inc. offer?**\\n\\nThe Field Service Representative scans bar code data located in store displays, shelf observations, feature ads, and promotional conditions.\\n\\nIRI ISG, Inc. offers a reasonably flexible schedule and competitive hourly compensation which gives you the potential to earn more money depending on your efficiency and productivity. We also offer travel pay in accordance to IRI’s specifications along with a 401K plan and other benefits.\\n\\n**What are the responsibilities of a Field Service Representative?**\\n\\n* Work hours range from 8-10 hours a week, depending on weekly projects\\n\\n* Use of IRI’s collection equipment (Topaz device - Samsung Galaxy Grand 2)\\n\\n* Answer survey questions about store conditions, activities, product displays and product counts\\n\\n* Accountability for your assigned Topaz device and perform basic maintenance\\n\\n* Enter accurate timekeeping data on the Topaz timesheet\\n\\n* Communicate schedule changes in a timely manner to your Field Manager\\n\\n* Some flexibility within established guidelines to set your own schedule to service stores (generally weekdays)\\n\\n* Effectively perform projects within deadlines and be detailed orientated\\n\\n* Demonstrate a willingness to cover open additional tasks as assigned\\n\\n* Field Service Representatives may be asked occasionally to participate in peer training\\n\\n**What are the qualifications for a Field Service Representative?**\\n\\nIn addition to the above skills set, the ideal candidate must possess the following:\\n\\n* Reliable vehicle with proof of liability auto insurance (100/300) and a valid driver’s license\\n\\n* Ability to lift up to 25 lbs., reach up to 6 feet, and to bend/ stretch/ stoop and stand up to 5 hours\\n\\n* Ability to perform repetitive scanning operations while wearing a Topaz device\\n\\n* Daily access to personal or public wifi to upload data from handheld collection device (Topaz). Also, candidates must have internet capability & daily access to personal email.\\n\\n* Basic understanding of computers including Microsoft windows\\n\\n* Professionalism in appearance and attitude\\n\\n* Strong verbal, written, communication, and comprehension skills\\n\\n* High school education or GED preferred\\n\\n* Experience involving data collection in a retail environment is a plus but not required\\n\\n**Who is IRI ISG, Inc. and who do we serve?**\\n\\nIRI ISG, Inc., a subsidiary of leading market research firm IRI (originally founded in 1979) provides in-store data collection and retail audit services that collect information for over 95% of the Fortune Global 500 in the Consumer Packaged Goods (CPG) industry. IRI ISG, Inc. provides information including in-store conditions and solutions to manufacturers and retailers. Collected data is used to focus on assessing, comparing, and optimizing in-store performance, enabling manufacturers and retailers to improve their return on retail execution investment.\\n\\n**If you are interested in this position, we strongly encourage you to complete the application process now.**\\n\\nOnce your application has been received, those applicants meeting requirements will be contacted.\\n\\nIf you have any questions, please contact the IRI ISG, Inc. Recruiting Team at the contact information below:\\n\\n**ISG Recruiting: 312-726-1221**\\n\\n\\nIRI ISG, Inc. is an equal opportunity employer. We evaluate qualified applicants without regard to race, color, religion, sex, sexual orientation, gender identity, national origin, disability, veteran status, and other legally protected characteristics. The EEO is the Law poster is available athttp://www.dol.gov/ofccp/regs/compliance/posters/pdf/eeopost.pdf.\\n\\nIRI ISG, Inc. is committed to working with and providing reasonable accommodations to individuals with disabilities. If you need a reasonable accommodation because of a disability for any part of the employment process, please send an e-mail toISGRecruiting@iriworldwide.com and let us know the nature of your request and your contact information.\\n\\n\\n\\n*Job type:* Part-Time Regular\\n\\n\\n*Recruiter:* Monica Cirje\\n\\n\\n*Job title:* Merchandise Data Collector/FSR\\n\\n\\n*Job location:* Pasadena, TX\\n\\n\\n*Position ID:* IN-4236938766', '*Description/Job Summary*\\nThe Sr. Database Administrator will formulate, maintain and document sound data administration procedures and standards, including data integrity and security. This individual will maintain the database and data models in accordance with procedures developed by Farm Credit Bank of Texas and oversee all database administration functions for the bank.\\n* Responsibilities/Duties*\\n* Monitors and maintains database security on both files and programs. Administers change control software, including overseeing installation of new releases, moving new and changed objects to production as well as monitoring and auditing change history on the system. Configure and manage security, login accounts, and user access in all production environments.\\n\\n* Monitors security on all production SQL servers to insure application data integrity. Recommends solutions to management for any out of the ordinary situations found.\\n\\n* Consults with analysts and architects on the development of databases during the detailed analysis phase of Software development and system integration.\\n\\n* Acts as project leader when assigned the responsibility.\\n\\n* Performs database capacity planning and monitors all databases for optimum performance. Recommends to management when hardware and software upgrades are advisable including detailed specifications to increase processes and storage sizes.\\n\\n* Configure, install and upgrade all production application SQL servers. Sizes servers for new applications and recommends these specifications in order to purchase the appropriate hardware. Create, modify, maintain, monitor and optimize production and test databases.\\n\\n* Monitor and maintain Microsoft Terminal Servers and resident applications.\\n\\n* Develops and monitors compliance with department standards and procedures necessary to ensure data consistency and availability.\\n\\n* Performs data file maintenance as required by users.\\n\\n* Maintains compliance with development standards and procedures.\\n* Required Skills*\\nWe are looking for a candidate who has thorough understanding of data processing procedures and concepts, and thorough knowledge of structured programming methods and procedures, as well as experience with system procedures and design. Strong working knowledge of IBM OS/400, Microsoft SQL Server, relational database theory, and system security is essential. Familiarity with or working knowledge of DB2 in a Windows environment.\\n* Required Qualifications*\\nBachelor’s degree in computer science, mathematics or business preferred, or equivalent experience. Microsoft certification not required but a plus. Experience with change management software related to the AS400 environment and Windows environment, working knowledge of Microsoft SQL Server environment and security functions. Minimum of seven (7) years of software development experience in an analytical role. Minimum of four (4) years experience in database administration.', \"Job Title: Data Analyst Sr\\n\\nCity: Dallas\\n\\nState/Province: Texas\\n\\nPosition Type: Full Time\\n\\nDescription: \\n\\nData Analyst Sr\\n\\nCLAIM YOUR FUTURE AS A GREAT PERFORMER!\\n\\nProviding both satisfying and challenging work along with a highly professional and friendly work atmosphere, Sedgwick has a strong commitment to its colleagues and its clients. If you are seeking a place where you can do great things for those whose lives you touch while maximizing your own career possibilities, Sedgwick is the place for you. As the largest and most innovative Third Party Administrator in the claims industry and the first and only TPA to receive both recognition as theBest TPA in Americaand the covetedEmployer of Choicedesignation, we invite you to come be a part of our team and,&ldquo;Claim Your Future.&rdquo;\\n\\nPRIMARY PURPOSE: To create comprehensive reporting and analysis of statistical data; to monitor data for processing and procedures issues; and to support performance initiative by providing technical support and training to colleagues.\\n\\nESSENTIAL FUNCTIONS and RESPONSIBILITIES\\n\\n* Compiles data; prepares and distributes reports; and analyzes results. \\n* Assists in efficient and effective program management; identifies poor work quality and cost effectiveness trends; and works with appropriate staff in analyzing and compiling data from technical reviews, as applicable. \\n* Provides training and coaching on processing and procedures issues. \\n* Provides analysis and reporting of trends. \\n* Ensures data integrity; develops and produces reports utilized in measuring data accuracy. \\n* May assist in the completion of appropriate client set-up and maintenance (parameter) forms. \\n* Extracts data and analyzes information based on plan and jurisdictional requirements. \\n* Gathers and prepares statistical data for reporting; makes recommendations to management for training needs. \\n* May analyze data for cause and effect ratios, return-to-work and accommodations trending, disability durations, injury by job type analysis, disability diagnosis trending, etc. \\n* Presents results to client and/or management.\\nADDITIONAL FUNCTIONS and RESPONSIBILITIES\\n\\n* Performs other duties as assigned. \\n* Supports the organization's quality program(s). \\n* Travels as required.\\nQUALIFICATIONS\\n\\nEducation & Licensing\\nBaccalaureate degree with major in Computer Science, Finance or Economics from an accredited college or university preferred.\\n\\nExperience\\nSix (6) years of related experience or equivalent combination of education and experience required. Three (3) years of query and report writing strongly preferred.\\n\\nSkills & Knowledge\\n\\n* \\nThorough knowledge of query and report writing\\n\\n* \\nExcellent oral and written communication, including presentation skills\\n\\n* \\nPC literate, including Microsoft Office products\\n\\n* \\nAnalytical and interpretive skills\\n\\n* \\nStrong organizational skills\\n\\n* \\nExcellent interpersonal skills\\n\\n* \\nAbility to work in a team environment\\n\\n* \\nAbility to meet or exceed Performance Competencies\\n\\nWORK ENVIRONMENT\\nWhenapplicable and appropriate, consideration will be given to reasonable accommodations.\\n\\nMental: Clear and conceptual thinking ability; excellent judgment, troubleshooting, problem solving, analysis, and discretion; ability to handle work-related stress; ability to handle multiple priorities simultaneously; and ability to meet deadlines\\n\\nPhysical: Computer keyboarding, travel as required\\n\\nAuditory/Visual: Hearing, vision and talking\\nNOTE:Credit security clearance, confirmed via a background credit check, is required for this position.\\nThe statements contained in this document are intended to describe the general nature and level of work being performed by a colleague assigned to this description. They are not intended to constitute a comprehensive list of functions, duties, or local variances. Management retains the discretion to add or to change the duties of the position at any time.\\n\\nSedgwick is an Equal Opportunity Employer\\n\\nand a\\n\\nDrug-Free Workplace\\n\\nAdditional Information: Must be flexible to work Pacific Standard Hours.\", \"Reference # : 15-63233 Title : Data Architct or Modeler lvl 2\\nLocation : Dallas\\\\Plano, TX\\nExperience Level : Start Date / End Date : 02/02/2016 / 08/01/2016 \\nDescription\\n\\nJob id #: 15-63233\\nJob title: Avaya voice Engineer\\nLocation: Dallas\\\\Plano, TX\\nDuration: 6+ Month's\\n\\nResponsibilities: \\n* Relentlessly protect our Voice eco-system: \\n* Identify opportunities and drive service and process improvements, \\n* Be diligent about Incident/Problem, Maintenance/System Health, Change/Release, Security, Risk/Compliance, Business Continuity/Disaster Recovery \\n* Proactive Monitoring, the culmination of which resulting in highly available and resilient network supporting Avaya VACD system and services \\n* Hands-on experience configuring & maintaining enterprise Clients such as Acme Packet or Cisco Cube \\n* Deep understanding of SIP trunking solutions, VoIP call flows and integration of Clients with Microsoft Lync, Cisco UCCE and Avaya contact center environments \\n* Advanced knowledge of Client architecture for both peering and Access scenarios \\n* Working knowledge of Contact Center related technologies i.e. ACD, IVR and CTI applications Working knowledge of WAN and IPTF technologies \\n* Using extensive technical knowledge of systems, applications, platforms, network and IPTF carrier services, aggressively oversee, maintain, and continuously improve the Session Border Controller (Client) environment needed to support inbound and outbound call center services for routing and delivery \\n* Use your winning personality to establish smooth running environments, which are paramount to your success and happiness \\n* Maintain technical documentation such as voice operational manuals, detailing network diagrams, IP addressing and configuration logic Experience implementing complex, multisite voice deployments and integrating dissimilar platforms to interoperate \\n* Expertise with communications protocols and codecs such as H323 / SIP / RTP/ SRTP/QoS / G.711 / G.729 \\n* Provide implementation support, troubleshooting, and configuration tuning of IP telephony gateways. \\n* Specific areas include Acme Packet Client or Cisco cube configuration & operational support, analysis & troubleshooting of voice break fix issues and incident response \\n* Strong verbal and written communication skills are required due to the dynamic nature of collaborations with our teams, leaders, customers, stakeholders, vendors, and other teams, solving complex business problems together \\n* Configuration and coordination of schedules for system maintenance & upgrades of Clients with internal & external partners and act as tactical resource with regard to configuration and post implementation support An \\n* Ability to perform diagnostic tests, analyze event logs and other information to determine appropriate action; escalating to other technical support staff, vendors, and service providers, as needed . \\n* Strong Knowledge/experience with SIP (RFC 3261 and other VoIP related RFCs) protocols & applications/interfaces \\n* Deep understanding of DDoS configurations of Clients \\n* We are looking for self-starters, those who can work independently, with and across teams, and regardless of role or level, people with leadership and mentoring skills, freely sharing their knowledge, supporting an agile team environment and mutual growth \\n* We seek and value talent magnets, creative technologists and change agents If you have not figured out yet this place is really running fast and hard. \\n* Looking to punch a clock? Turn back. \\n* Come here and expect to get things done!!\\n\\nThanks and regards.\\nSudeep Mahapatra\\nLead Recruiter\\nArtech Information Systems LLC\\n360 Mt. Kemble Avenue, Suite 2000 | Morristown, NJ 07960\\nOffice: 973.967.3565 | Fax: 973.998.2599\\nEmail: Sudeep.Mahapatra@artechinfo.com | Website: www.artechinfo.com\\nConnect with us on - LinkedIn | Facebook | Twitter\\n\\n\\nAbout Artech Information Systems LLC\\nArtech is an employer-of-choice for over 5,800 consultants across the globe. We recruit top-notch talent for over 65 Fortune and Government clients coast-to-coast across the U.S., India, and China. We are one of the fastest-growing companies in the U.S. and this may be your opportunity to join us!\\n\\nWant to read more about Artech?\\nClick here to visit our website or click on the following links to read what others are saying about us:The Wall Street Journal, Forbes (1) (2), BusinessWire, Entrepreneur, Better Business Bureau, Hoovers, Diversity Careers(1) (2), The Artech Circle, NJTVOnline, The Business Forum Show, and SIA: &ldquo;Above the Crowd.&rdquo;\\n\\nConnect with Artech through Social Media\\nLearn more about our company including the latest events at Artech, new job opportunities, jobseeker tips, and more. Follow us onFacebook, Google+, LinkedIn, Pinterest, Twitter,andYouTube\", '### JOB SUMMARY:\\n\\n**Vacancy ID:**1588999\\n\\n**OUR MISSION:** To fulfill President Lincoln?s promise ? ?To care for him who shall have borne the battle, and for his widow, and his orphan? ? by serving and honoring the men and women who are America?s Veterans. How would you like to become a part of a team providing compassionate care to Veterans?\\n\\nThe **Department of Veterans Affairs** (VA) needs employees who possess the energy, compassion, and commitment to serve those who served our Country. Whatever the job title, every position in VA will give you a chance to make a meaningful and personal contribution to the lives of truly special and deserving people - our Veterans. VA professionals feel good about their careers and their ability to balance work and home life. VA offers generous paid time off and a variety of predictable and flexible scheduling opportunities. Working for VA is one of the most emotionally satisfying and professionally rewarding ways to dedicate the best within you to your Country\\'s service. If you are transitioning from the military or a Veteran already, we invite you to explore the benefits of continuing your career at the VA. **_The VA is committed to hiring Veterans_**.\\n\\nThe VA is much more than just another employer. It is an honorable, open and welcoming community of those who care. Gratitude is our motivation and service is our mission.\\n\\nThe VA has adopted Core Values and Characteristics that apply universally across the Department. The five Core Values define ?who we are,? our culture, and how we care for Veterans, their families and other beneficiaries. The Values are **_I_**ntegrity, **_C_**ommitment, **_A_**dvocacy, **_R_**espect and **_E_**xcellence (?**I CARE**?).\\n\\n**America\\'s Veterans need you!** To find out more, go tohttp://www.va.gov/jobs/.\\n\\n### TRAVEL REQUIRED\\n\\n* Not Required\\n\\n### RELOCATION AUTHORIZED\\n\\n* No\\n\\n### KEY REQUIREMENTS\\n\\n* You must be a U.S. citizen to apply for this job\\n* You may be required to serve a probationary period\\n* Background investigation may be required\\n* Selective Service Registration is required for males born after 12/31/1959\\n\\n* * *\\n\\n### DUTIES:\\n\\n\\n\\n**DUTY LOCATION**: VA Financial Service Center, Austin, TX.\\n\\nIncumbent serves as anInformation TechnologySpecialist undertheInformation andTechnologyService, Operations &MaintenanceDivision forthe Department of Veterans Affairs(VA)Financial ServicesCenter (FSC) located inAustin, Texas. The incumbent serves asDatabaseAdministrator (DBA)fortheFinancial Services Center and is responsible forthe FSC\\'sMicrosoft SQLServerand Oracledatabases.Incumbent performs otherrelated duties asassigned.\\n\\n**Work Schedule:** Full-time Employment; Monday thru Friday: 8:00am to 4:30pm.\\n\\n* * *\\n\\n### QUALIFICATIONS REQUIRED:\\n\\n\\n\\n**SPECIALIZED EXPERIENCE**\\n\\n\\n**For GS-13: **\\n\\nPossess one year of specialized experience equivalent to the next lower grade level (GS-12).  Specialized Experience includes but is not limited to:  havingspecificdatabaseperformance,management,highavailability,development, back-upandrecovery,spaceandcapacitymanagement,andadministrationtoolsetknowledgeandexperiencethatincludes:Databaseencryptiontools,lderatoolsetsuite,ApexSQLand Redgatedatabasetoolsetsuites,Databasedesignandmodelingtools,ToadforSQLandOracle,Erwin,MicrosoftTeamFoundationSuite; performingwork  involving isolatinganddefiningissuesorconditionsrelatedtodatamanagement,resolvingcriticalproblemsinagencywidesystems,ordeveloping  newapproachesandtechniquesforusebyotherdatabasestaff; serving asaconsultantorprojectcoordinatorincarryingoutone-of-a-kindefforts; providing advice,guidance,orresultsoftheworkaffectdevelopmentofmajoraspectsofadministrativeorscientificeffortsthroughoutanagency; worksignificantlyaffectsdevelopmentofamajoraspectsorresultsoftheworkofotherdatabaseexpertsthroughouttheagencyandofteninotheragencies. Application of knowledge should produce reliable estimates of demand on IT resources, i.e., computer and peripheral usage, staff and user implementation time requirements.\\n**Attention to Detail** - Is thorough when performing work and conscientious about attending to detail.\\n**Customer Service** - Works with clients and customers (that is, any individuals who use or receive the services or products that your work unit produces, including the general public, individuals who work in the agency, other agencies, or organizations outside the Government) to assess their needs, provide information or assistance, resolve their problems, or satisfy their expectations; knows about available products and services; is committed to providing quality products and services.\\n**Oral Communication** - Expresses information (for example, ideas or facts) to individuals or groups effectively, taking into account the audience and nature of the information (for example, technical, sensitive, controversial); makes clear and convincing oral presentations; listens to others, attends to nonverbal cues, and responds appropriately.\\n**Problem Solving** - Identifies problems; determines accuracy and relevance of information; uses sound judgment to generate, evaluate alternatives, and to make recommendations and the number of hours a week spent in such employment. **AND**\\n\\nThis position includes a **Selective Placement Factor**(skill,knowledge, ability or other worker characteristic basic to - and essential for - satisfactory performance of the job). Selective Placement Factors are a prerequisite to appointment and representminimum requirements for a position. Applicants who do not meet it are ineligible for further consideration.\\n\\nThe **Selective Placement Factor** for this position is: **possess specific database performance management, high availability, development, back-up and recovery, space and capacity management and administration tool set knowledge and experience. **\\n\\nYou will be rated on the following Knowledge, Skills, Abilities and Other characteristics (KSAOs) as part of the assessment questionnaire for this position:\\n\\n1. Comprehensive knowledge ofMicrosoft SQL and Oracle database administrationactivities.\\n\\n2. Comprehensive knowledge ofDatabase Analysis activities.\\n\\n3. Ability to provide technical consulting supportfor database policies and procedures.\\n\\n4. Comprehensive knowledge ofmanaging and designing complex database systems.\\n\\n5. Ability to provide broad mastery ofinformation technology in database systems.\\n\\n6. Extensive knowledge of VA database policies and standards.\\n\\n**PHYSICAL REQUIREMENTS: **Theworkissedentary.Nospecialphysicaldemandsarerequiredtoperformthework.Dutiesmayrequireliftingandcarryingcomputerequipment suchasservers,diskshelves,serverracks,monitorsandprinters.\\n\\nFor more information on these qualification standards, please visit the United States Office of Personnel Management\\'s website athttp://www.opm.gov/qualifications.\\n\\nIN DESCRIBING YOUR EXPERIENCE, PLEASE BE CLEAR AND SPECIFIC. WE WILL NOT MAKE ASSUMPTIONS REGARDING YOUR EXPERIENCE. If your resume does not support your questionnaire answers, we will not allow credit for your response(s).\\n\\n** Note:** A full year of work is considered to be 35-40 hours of work per week. Part-time experience will be credited on the basis of time actually spent in appropriate activities. Applicants wishing to receive credit for such experience must indicate clearly the nature of their duties and responsibilities in each position and the number of hours a week spent in such employment.\\n\\n\\n\\n\\nExperience refers to paid and unpaid experience, including volunteer work done through National Service programs (e.g., Peace Corps, AmeriCorps) and other organizations (e.g., professional; philanthropic; religious; spiritual; community; student; social). Volunteer work helps build critical competencies, knowledge, and skills and can provide valuable training and experience that translates directly to paid employment. You will receive credit for all qualifying experience, including volunteer experience.\\n\\n**PLEASE NOTE:** Education must be accredited by an accrediting institution recognized by the U.S. Department of Education in order for it to be credited towards qualifications (particularly positions with a positive education requirement.) Therefore, applicants must report only attendance and/or degrees from schools accredited by accrediting institutions recognized by the U.S. Department of Education. Applicants can verify accreditation at the following website:http://www.ed.gov/admins/finaid/accred/index.html. All education claimed by applicants will be verified by the appointing agency accordingly. If you are using foreign education to meet qualification requirements, you must send a Certificate of Foreign Equivalency with your transcript in order to receive credit for that education.\\n\\n**Veterans\\' Preference:** When applying for Federal Jobs, eligible Veterans should claim preference for 5pt (TP), or 10pt (CP/CPS, XPP, XP), or for Sole Survivor Preference (SSP) on the Occupational Questionnaire in the section provided. You must provide a legible copy of your DD214(s) which shows dates and character of service (honorable, general, etc.). If you are currently serving on active duty and expect to be released or discharged within 120 days, you must submit documentation related to your active duty service which reflects the dates of service, character of service (honorable, general, etc.), and dates of impending separation. Additionally, disabled veterans and others eligible for 10-point preference (such as widows or mothers of eligible Veterans) must also submit an SF-15 \"Application for 10 Point Veteran Preference\" with required proof as stated on the form. Documentation is required to award preference.\\n\\nFor more information on Veterans\\' Preference, please visithttp://www.fedshirevets.gov/job/vetpref/index.aspx.\\n\\n### HOW YOU WILL BE EVALUATED:\\n\\nApplicants will be ranked based on four quality groups, as follows:\\n\\n* Best qualified - applicants possessing experience that substantially exceeds the minimum qualifications of the position including all selective factors, and who are highly proficient in all requirements of the job and can perform effectively in the position;\\n* Highly qualified - applicants possessing experience that exceeds the minimum qualifications of the position including all selective factors, and who are proficient in most of the requirements of the job;\\n* Well qualified - applicants possessing experience that meets the minimum qualifications of the position including all selective factors, and who are proficient in some, but not all, of the requirements of the job; and\\n* Qualified - applicants possessing experience and/or education that meets the minimum qualifications of the position including all selective factors.\\n\\nAfter the vacancy announcement closes, reviewed applications are evaluated against the questionnaire responses and placed in the appropriate quality group. Qualified veterans will be afforded preference by being placed at the top of the appropriate quality group. Qualifying veterans with a service-connected disability of 10% or more will be placed at the top of the best qualified group. The best qualified group is the first to be referred to the hiring facility for further consideration and possible interview. The remaining groups may be referred based on the number of applicants available.\\n\\n* * *\\n\\n### BENEFITS:\\n\\n\\n\\nVA offers a comprehensive benefits package. This link provides is an overview of the benefits currently offered:http://www.vacareers.va.gov/why-choose-va/benefits/index.asp.\\n\\nVA supports the use of telework as a way to help attract and retain talented individuals in public service, increase worker productivity, and better prepare the agency to operate during emergencies. This position may be authorized for telework. Telework eligibility will be discussed during the interview process.\\n\\nThe Federal Government has special excepted appointing authorities for persons with qualifying disabilities, such as Schedule A. Specific information can be found athttp://www.opm.gov/disability/peoplewithdisabilities.asp. IMPORTANT: If you would like to receive consideration as a Schedule A applicant, you must contact the Human Resources office at the facility where this position is located at(512)326-6172.\\n\\n\\n\\n\\n### OTHER INFORMATION:\\n\\n**Veterans and Transitioning Service Members:** Please visit the VA for Vetssite for career-search tools for Veterans seeking employment at VA, career development services for our existing Veterans, and coaching and reintegration support for military service members.\\n\\nThe **Interagency Career Transition Assistance Plan** (ICTAP) and **Career Transition Assistance Plan** (CTAP) provide eligible displaced Federal competitive service employees with selection priority over other candidates for competitive service vacancies. To be qualified you must submit appropriate documentation (a copy of the agency notice, your most recent performance rating, and your most recent SF-50 noting current position, grade level, and duty location) and be found well-qualified (have a final rating of 85 or more) for this vacancy. Information about ICTAP and CTAP eligibility is on OPM\\'s Career Transition Resources website athttp://www.opm.gov/policy-data-oversight/workforce-restructuring/employee-guide-to-career-transition/.\\n\\nVA may offer newly-appointed Federal employees credit for their job-related non-federal experience or active duty uniformed military service. This credited service can be used in determining the rate at which they earn annual leave. Such credit must be requested and approved prior to the appointment date and is not guaranteed.\\n\\nIt is the policy of the VA to not deny employment to those that have faced financial hardships or periods of unemployment.\\n\\nThis job opportunity announcement may be used to fill additional vacancies.\\n\\n* * *\\n\\n### HOW TO APPLY:\\n\\n\\n\\n**All applicants are encouraged to apply online.**\\n\\n**To apply for this position**, you must complete theView Occupational Questionnaire and submit the documentation specified in the Required Documents section below.\\n\\nThe complete application package must be submitted by 11:59 PM (EST) onWednesday, January 06, 2016 to receive consideration.\\n\\n1. To begin, **click Apply Online** to create a USAJOBS account or log in to your existing account. Follow the prompts to select your USAJOBS resume and/or other supporting documents and complete the occupational questionnaire.\\n2. **Click Submit My Answers** to submit your application package.\\n\\n*NOTE*: It is your responsibility to ensure your responses and appropriate documentation is submitted prior to the closing date. To verify your application is complete, log into your USAJOBS account,https://my.usajobs.gov/Account/Login, select the Application Status link and then select the more information link for this position. The Details page will display the status of your application, the documentation received and processed, and any correspondence the agency has sent related to this application. Your uploaded documents may take several hours to clear the virus scan process.\\n\\n\\nTo return to an incomplete application, log into your USAJOBS account and click Update Application in the vacancy announcement. You must re-select your resume and/or other documents from your USAJOBS account or your application will be incomplete. (Emailed applications are not accepted.)\\n\\n### REQUIRED DOCUMENTS:\\n\\n**The following documents are required:**\\n\\n1. Resume\\n2. Responses to the Occupational Questionnaire\\n3. Other documents - use this checklist\\n\\nto make sure you have included other documents required for your application, such as a copy of your transcript (if using education to qualify),documentation to support Veterans Preference claims, or ICTAP/CTAP documentation (for displaced Federal employees). You will not be contacted for additional information.\\n\\n**Faxing Applications or Supporting Documents**: You are encouraged to apply online. Applying online will allow you to review and track the status of your application. If you are unable to apply online or unable to upload your supporting documents to your online application, follow the directions located at the following site: Fax Options. The Vacancy ID of the job opportunity announcement is1588999.\\n\\n*NOTE*: If you applied online and your application is complete, do not fax the paper application (1203-FX) as this will overwrite your prior online responses and may result in you being found ineligible.\\n\\n\\n### AGENCY CONTACT INFO:\\n\\nVHA Nationwide DEU\\nPhone: (844)456-5208\\nEmail: CAVHS.DEU@VA.GOV\\n\\nAgency Information:\\nFSC Financial Service Center\\nPLEASE DO NOT MAIL APPLICATIONS\\nAPPLY ONLINE OR FAX ONLY\\nThank You, AR\\n00000\\nUSA\\n\\n### WHAT TO EXPECT NEXT:\\n\\nAfter we receive application packages (including all required documents) and the vacancy announcement closes, we will review applications to ensure qualification and eligibility requirements are met. During our review, if your résumé and application package do not support your questionnaire answers, we will adjust your rating accordingly. After the review is complete, a referral certificate(s) is issued and applicants will be notified of their status by email (if provided); otherwise, applicants will receive a notification letter via the U.S. Postal Service. Referred applicants will be notified as such and may be contacted directly by the hiring office for an interview. All referred applicants receive a final notification once a selection decision has been made.\\n\\nYou may check the status of your application at any time by logging into your USAJOBS account and clicking on ?Application Status.? For a more detailed update of your status, click on ?more information.? Information regarding\\n\\napplicant notification points can be found in the USAJobs Resource Center.\\n\\n\\n\\n*Job Title:* Information Technology Specialist (DATA MANAGEMENT)\\n\\n\\n*Department:* Department Of Veterans Affairs\\n\\n\\n*Agency:* Deputy Assistant Secretary for Finance\\n\\n\\n*Control Number:* 425269600\\n\\n\\n*Job Announcement Number:* ANT-16-ENJ-1588999-BU', '**General Statement of Duties:\\n\\n\\nDevelops project strategies and work plans for assigned projects based on goals and objectives outlined by Management. Analyzes operational requirements for transplant departments and implements new systems and enhancements to current systems. Ensures accurate and timely data submission to UNOS and other agencies. Manages day-to-day production/user issues. Ensures that projects are completed on time and on budget. Independently addresses specific function or process-oriented issues.\\n\\n**Essential Job Functions:**\\n\\n1. Must accurately gather, analyze, input, and submit all data requests and requirements to regulatory and accrediting agencies, including but not limited to UNOS, FACT, Medicare, and Medicaid according to each agency’s expectations and deadlines\\n\\n2. Monitors and audits the use and performance of information systems; executes system quality control practices and procedures\\n\\n3. Creates reports from existing client databases to satisfy user requests, data sampling, project analysis, or testing verification. Also, facilitates requests for information for reporting and research purposes from physicians, staff, and administration accurately and timely\\n\\n4. Coordinates the collection, storage, and dissemination of data as a centrally administered and standardized resource; and prepares clinical and utilization data reports to be reviewed by transplant committees\\n\\n5. Develops data and test plans to ensure the systems being developed by the company meet customer functional requirements.\\n\\n6. Assess design implications of new requirements and be able to communicate this information to all affected groups in order for them to determine how the design implications impact their functional area.\\n\\n**Minimum Education and Experience:**\\n\\n\\nHigh school or equivalent preferred; 2 years of analytical experience and 2 years of technical experience with computer systems. Health care experience required. Transplant experience is preferred; experience in using SQL in report writing and software installation.\\n\\n\\nMinimum License and Certificates Required: None**\\n\\n\\n\\n\\n*Schedule:* Full-time\\n\\n\\n\\n*Req ID:* 01588-66282\\n\\n\\n\\n*Work Location:* United States-Texas-San Antonio-Methodist Specialty & Transplant Hospital', 'For additional information email your resume to: Ryan.Rhodes@RHT.com Design and deploy Datacenter networks utilizing industry best practices and Cisco hardware to include: Cisco enterprise level L3 switching, Nexus 7K/5K/2K, MDS and Fiber Channel platforms. Design and deploy managed LANs, WANs, including routers, switches, firewalls and other hardware. Design and Deploy Cisco Unified Computing Systems (UCS), F5, VMware, and storage. Monitor performance and troubleshoot problem areas as needed. Create Low Level and High Level design documents in accordance with customer and . standards Perform installation, configuration, maintenance, and troubleshooting of customer managed hardware, software, and peripheral devices. Conduct research on network and datacenter products, services, protocols, and standards to remain abreast of developments in the networking industry. Oversee/perform new and existing equipment, hardware, and software upgrades.\\n\\nWith more than 100 locations worldwide, Robert Half Technology is a leading provider of IT professionals on a project and full-time basis for initiatives ranging from web development and systems integration to network security and technical support. Through our alliances with industry-leading organizations such as HDI® and the Microsoft® Partner program, we have access to client companies that other staffing firms don\\'t. In addition to our free job search services, we provide our candidates with access to free online technical training and a competitive benefits and compensation package.\\n\\nIn 2015, our company once again was named to FORTUNE® magazine\\'s list of \"World\\'s Most Admired Companies.\" (March 1, 2015).\\n\\nApply for this job now or contact our branch office at 1.800.793.5533 to learn more about this position.\\n\\nAll applicants applying for U.S. job openings must be authorized to work in the United States. All applicants applying for Canadian job openings must be authorized to work in Canada.\\n\\nEqual Opportunity Employer M/F/Disability/Vet\\n\\nBy clicking \\'Apply Now\\' you are agreeing to Robert Half Terms of Use\\n\\n*Req ID:* 04380-9826825\\n\\n\\n*Functional Role:* Network Engineer\\n\\n\\n*Country:* USA\\n\\n\\n*State:* TX\\n\\n\\n*City:* Dallas\\n\\n\\n*Postal Code:* 75201\\n\\n\\n*Compensation:* DOE\\n\\n\\n*Requirements:* Position Requirements Related degree in computer science or electrical engineering and/or seven to ten years equivalent network engineering experience. Design and deploy datacenter network, storage and compute in accordance with industry best practices. Nexus 7K/5K/2K, MDS and Fiber Channel experience Certifications in CCNP, CCIE R&S; and/or Storage Preferred. Experience logical design models (L2/L3, VPC, VDC, Datacenter Zones, Spanning tree, VTP, VLANs, physical cabling). Working technical knowledge of network control protocols (QOS, PoE, NTP, DHCP), network management protocols (CDP, FTP, TFTP, SNMP) and security protocols (SSH, HTTPS, AAA, IPSec). Strong knowledge IP communication and routing is required (OSPF, EIGRP, BGP). Experience with inter-company routing is preferred. Understand WAN/LAN and transport technologies (Ethernet, Frame Relay and MPLS). Strong interpersonal, written, and oral communication skills. Working knowledge of Microsoft Visio is required Able to conduct research into networking issues and products as required. Ability to present ideas in user-friendly language. Highly self motivated and directed, with keen attention to detail. Proven analytical and problem-solving abilities. Able to effectively prioritize tasks in a high-pressure environment. Strong customer service orientation. Experience working in a team-oriented, collaborative environment', 'This Data Strategy position will focus on improving the quality and usage of data in Enterprise Data Warehouse and source systems. To ensure high levels of data quality in source systems and data warehouse platforms across the enterprise, analyze, evaluate, test, and participate in designing the remediation of data deficiencies in various environments. You will use your strong communication skills and your understanding of data modeling concepts collaborating with members of the business, operations and IT teams to understand requirements and research data anomalies to ensure consistency and quality. You will also test newly developed functionality to ensure the highest level of data quality exists upon delivery.\\n\\nAreas of involvement include:\\n\\n* Identifying, documenting, and resolving data quality issues and core business data; provide recommendations for data quality and process improvements for source systems and data warehouse platforms;\\n\\n* Performing root cause analysis and investigating data errors or anomalies;\\n\\n* Develop as a subject matter expert and work with business analysts, business users, and database developers to understand how CVS Health data supports strategic initiatives;\\n\\n* Analyzing ETL processes to ensure accurate data transformations;\\n\\n* Documenting existing data structures and process flows;\\n\\n* Participating in application validation and User Acceptance Testing efforts as they pertain to reporting, data, and metrics;\\n\\n* Executing and evaluating manual or automated test cases and reporting test results; Collaborating directly with business data owners and business analysts to establish quality business rules that will provide the foundation of the enterprises’ data quality improvement plan;\\n\\n* Utilizing data profiling and data quality tools to uncover and determine root causes of data quality issues;\\n\\n* Collaborating with the Data Warehouse team to develop data quality scripts to apply to the ETL process based on the business rules defined by business data owners and to develop data quality improvement reporting;\\n\\n* Articulating the need for and benefits of data quality to both IT and the business;\\n\\n* Documenting the business requirements for a particular reporting need and act as business analyst to own the specification and validate the report before release to business user.\\n\\nJob Function: Analytics', \"*We believe that*, when done right, investing liberates people to create their own destiny. *We are driven* by our purpose to champion every client’s goals with passion and integrity. *We respect* and appreciate the diversity of our employees, our clients, and the communities we serve. *We challenge* conventions strategically to create value for our clients, our firm and the world. We live and bring to life the concept of ‘own your tomorrow’ every day. *We champion* our employee strengths, guide their development, and invest in their long-term success. *We hire* optimistic, results-oriented, curious, innovative, and adaptable people with the desire to help our clients and one another succeed.\\n\\n* Our Opportunity:*\\n\\nAt Charles Schwab, our Technology Services enable our business to connect with clients by leveraging emerging technology and delivering nimble solutions that empower clients to achieve their financial goals in a secure and reliable environment. We do this by continuing to be innovators in our space while ensuring that Schwab's tens of thousands of systems, network devices, and applications stay up and running to promote a consistent client experience and protect client assets.\\n\\nWith $2.5 trillion in assets and 325 offices worldwide, we are the largest, publically traded investment banking organization in the world. . . but perhaps our greatest achievements, are all the Best Place to Work accolades we continue to receive year after year.  Our success is not accidental; our great achievements are directly attributed to having the right people making the right decisions at the right time.  As we approach 2016, we are looking to continue our investments in technology and looking for great technology innovators in their field who are not afraid to challenge the status quo.  Are you up for the challenge?  Are you ready to own your tomorrow?\\n\\nWe are looking for individuals who are passionate about technology to help develop and support the 1,000+ applications that keep our business competitive and running day after day. These roles will support a number of initiatives across a variety of business lines across our organization.  We are particularly interested in speaking with individuals who are passionate about Database Administration.  We will consider candidates with all levels of experience in Database Administration for this opportunity.  \\n\\nYou will be part of a larger group called Client Experience Technology (CET) which is focused on delivering a consistent and high quality trading experience by building client and server systems across multiple delivery channels (thick client, web, mobile) to meet client needs.\\n\\nCET offers a wide range of technology opportunities for the best and brightest people to grow and demonstrate their skills as they develop leading edge financial applications.\\n\\n* What you’ll do:*\\n\\nIn this position you will have a broad range of responsibilities focusing on working with database and application developers to support and develop highly scalable and available database applications servicing highly active and trading focused CET clients. \\n\\nYour day to day responsibilities will include meeting with application developers, project managers, production support staff, as well as other database developers to create and support all aspects of the database application lifecycle.   You’ll have the opportunity to work closely with senior technical staff to progress your skills and learn from their experiences in creating fast and scalable OLTP database solutions.  \\n\\n* What you have:*\\n\\n  * Strong written and verbal communication skills\\n  * Teamwork and the ability to interact and communicate successfully with business partners, technology team, production support and infrastructure teams\\n  * Strong innovation, creativity, and problem-solving skills\\n  * Experience facilitating issue intervention\\n  * Good estimation skills providing accurate estimates with defined risks and planned mitigations\\n  * Self-starter with outstanding multitasking capabilities.  The person applying should thrive in a dynamic fast paced environment with many moving part and a large variety of responsibilities \\n\\nTechnical \\n\\n  * Working expertise with MS SQL Server 2008/2012 and its related components\\n  * Strong knowledge and experience with T-SQL\\n  * Database programming skills including the ability to write complex queries, stored procedures, user defined functions and datatypes, managing transactions, and implementing error handling\\n  * Database design skills with an emphasis on database performance, concurrency, schema and index design, stored procedure tuning, and data mining\\n  * Data modeling skills with a proven track record of successful OLTP design and implementation along with a thorough understanding of referential integrity and normalization techniques\\n  * SSIS development skills\\n  * Ability to translate business requirements into database logic and identify application / database dependencies where applicable\\n  * Ability to provide valuable and tangible database design input during design and architecture sessions\\n\\nDesired \\n\\n  * Experience with VB.NET and/or C#\\n  * Experience with MongoDB\\n  * Experience with Reporting Services a plus\\n  * Experience with IT systems work (e.g. networking, capacity planning, etc)  \\n\\n* What you’ll get:*\\n\\n  * Everyday Wellness: Healthy Rewards, Onsite Fitness Classes, Healthy Choices, Wellness Champions\\n  * Financial Fitness: 401k Match, Employee Discounts, Personalized advice, Brokerage discounts\\n  * Work/Life Balance: Sabbatical, New Mothers returning to work Program, Tuition Reimbursement Programs, Time off to volunteer\\n  * Inclusion: Employee Resource Groups, Commitment to diversity, Strategic partnerships\\n  * Not just a job, but a career, with an opportunity to do the best work of your life\\n\\nLearn more about Life@Schwab.\\n\\nCharles Schwab & Co., Inc. is an equal opportunity/affirmative action employer committed to diversifying its workforce. All applications are considered without regard to race, color, religion, sex, sexual orientation, national origin, age, disability, protected veteran status (disabled veterans, recently separated veterans, active duty wartime or campaign badge veterans, Armed Forces service medal veterans), or based on any individual’s status in any group or class protected by applicable federal, state or local law.\\n\\n\\nPosition Located In:TX - Austin, AZ - Phoenix\", 'BOERNE JOB OPPORTUNITY!!! OfficeTeam is seeking a Data Entry Specialist with critical thinking and problem solving skills! The Data Entry Specialist will be responsible for entering customer and client information within the company\\'s LAN applications and doing internet research to verify information. This position requires precision, focus and attention to detail. The Data Entry Specialist chosen must be able to work independently and take instruction well. The ideal candidate will be able to extract information in order to come to a feasible conclusion for proper entry of certain data. If you have an administrative or clerical background with strong data entry skills, please apply to this role on www.officeteam.com then call 210-696-2444 for immediate consideration for this BOERNE opportunity!\\n\\nOfficeTeam is the world\\'s leader in quickly matching skilled administrative professionals with temporary and temporary-to-full-time jobs. We offer job opportunities ranging from executive and administrative assistants to customer service representatives, receptionists and general office support. Our staffing managers connect with more than 100,000 hiring managers in North America every single week. In addition to free job search services, we provide access to free online skills training and a competitive benefits and compensation package.\\n\\nOur parent company, Robert Half, once again was named to FORTUNE® magazine\\'s list of \"World\\'s Most Admired Companies.\" (March 1, 2015).\\n\\nApply for this job now or contact us today at 1.800.804.8367 for additional information.\\n\\nAll applicants applying for U.S. job openings must be authorized to work in the United States. All applicants applying for Canadian job openings must be authorized to work in Canada.\\n\\nEqual Opportunity Employer M/F/Disability/Vet\\n\\nBy clicking \\'Apply Now\\' you are agreeing to Robert Half Terms of Use\\n\\n*Req ID:* 04080-123672\\n\\n\\n*Functional Role:* Data Entry\\n\\n\\n*Country:* USA\\n\\n\\n*State:* TX\\n\\n\\n*City:* Boerne\\n\\n\\n*Postal Code:* 78006\\n\\n\\n*Compensation:* $11.50 to $12.00 per hour\\n\\n\\n*Requirements:* Basic Office Skills, Data Entry Numeric, Data Entry Alphanumeric, Microsoft Excel, SalesForce, Microsoft Word, Microsoft Outlook', \"**Overview:**\\n \\nVencore is a proven provider of information solutions, engineering and analytics for the U.S. Government. With more than 40 years of experience working in the defense, civilian and intelligence communities, Vencore designs, develops and delivers high impact, mission-critical services and solutions to overcome its customers most complex problems.\\n\\n\\n\\nHeadquartered in Chantilly, Virginia, Vencore employs 4,800 engineers, analysts, IT specialists and other professionals who strive to be the best at everything they do.\\n\\n\\n\\nVencore is an AA/EEO Employer - Minorities/Women/Veterans/Disabled\\n\\n**Responsibilities:**\\n \\nSummary:  This is an exempt position requiring the supervision of assigned Data Monitor employees.  The supervision role includes providing technical training, planning work and directing work and evaluating the work of Data Monitor employees.\\n \\nEssential Duties and Responsibilities:  include the following.  Other duties may be assigned:\\n\\n  * Maintains program liaison with local customer management, periodic status briefings, etc.\\n  * Requests all necessary logistical support from the Data Project Manager (DPM) and customer.\\n  * Notify the DPM of field exercise activity, informs the Data Monitor (DM) of accompaniment with the unit, when necessary, and submit a travel request.\\n  * Provide day to day administrative and technical direction to DM personnel.\\n  * Assure that all program directives are adhered to.\\n  * Assure all corporate policies and procedures are properly adhered to by local personnel.\\n  * Read and understand the Employee's Manual, personnel policies and procedures, and advise personnel of same.\\n  * Notify the DPM of potential problems when a DM will be absent from his unit or workplace for circumstances beyond his control (i.e., sick, death in family, or other prolonged absences) and assure the submittal of data from the unit is complete.\\n  * Notify the DPM of actual or potential problems, concerning the program itself and the military systems being monitored.\\n  * Assure that all personnel can be notified in the event of an emergency when away from normal place of work.\\n  * Maintain a complete file on applicable regulations, circulars and policies.\\n  * Assure that all personnel have read and understand all SDC-A SOP’s and Guides; as well as corporate policies and local policies.\\n  * QC all data received from the Data Monitors prior to it being sent to the DPM for his/her approval.\\n  * Edit and review all DM reports.\\n  * Manages the quality actions of subordinate DMs and data entry operators.\\n  * Provide on site training of field personnel.\\n  * Provide on site training to participating unit personnel in FEDC program procedures.\\n  * Supervise local GEDIS data base management operations.\\n  * Host and brief all off site visitors reviewing GEDIS site operations.\\n  * Obtain and maintain security clearance.\\n\\n\\n \\n \\n \\n\\n**Qualifications:**\\n \\nTo perform this job successfully, an individual must be able to perform each essential duty satisfactorily.  The requirements listed below are representative of the knowledge, skill and/or ability required.  Reasonable accommodations may be made to enable individuals with disabilities to perform the essential functions.\\n \\nEducation and/or Experience:\\n\\n  * High School diploma. Associate Degree or higher preferred.\\n  * 8 10 years experience in Maintenance Management or a related field.\\n  * Experience or education in computer capabilities, requirements and benefits.\\n  * Superior oral and writing skills must be demonstrated.\\n  * Experience in the supervision and management of personnel.\\n\\n\\n \\nMathematical Skills:\\nAbility to use basic mathematical concepts such as addition, subtraction, multiplication, and division. Ability to apply concepts such as fractions, percentages, ratios, discounts, and proportions to practical situations.\\n \\nReasoning Ability:\\nAbility to apply common sense understanding to carry out instructions furnished in written, oral or diagram form.  Must have the ability to deal with problems involving several concrete variables in standardized situations.\\n \\nOther Job-related Skills:\\nAbility to work well with others (co-workers, business clients, company employees, customers). Ability to report to work on a regular basis and in a timely manner.\\n \\nPhysical Demands:\\nThe physical demands described here are representative of those that must be met by an employee to successfully perform the essential functions of this job.  Reasonable accommodations may be made to enable individuals with disabilities to perform the essential functions.  While performing the duties of this job, the employee requires normal manual dexterity, speech and hearing.  The position requires walking, sitting, climbing steps, traveling, occasionally lifting of file drawers and other items up to 75 lbs., moving of equipment and furniture, entering and exiting Army equipment, and periods of field duty in all environments including extreme climate conditions. The operation of motor vehicles is required. Specific vision abilities required by this job require frequent use of a computer monitor.  Must be able to read, write, and communicate fluently in English.\\n \\nWork Environment:\\nThe work environment characteristics described here are representative of those an employee encounters while performing the essential functions of this job.  General office environment with adequate temperature and lighting; work is generally sedentary in nature, but may require standing and walking for up to 10% of the time.  May require limited exposure to hazardous or unpleasant conditions normally found in maintenance operations such as exposure to heavy equipment, noise, dust, dirt, oil, etc…\\n\\nJob ID \\n2015-42218\\n\\n\\n\\n**# of Openings Remaining** \\n2\\n\\n\\n\\n**Location** \\nUS-TX-Ft. Hood\\n\\n\\n\\n**Category** \\nOther\\n\\n\\n\\n**Residency Status** \\nU.S. Citizenship Required\\n\\n\\n\\n**Clearance** \\nSecret\\n\\n\\n\\n**Employee Type** \\nRegular\\n\\n\\n\\n**Desired Experience** \\n..\\n\\n\\n\\n**Time Type** \\nFull Time\", 'BAE Systems is in search of a Technical Data Author to develop aircraft mission and vehicle systems fault isolation technical data procedures in support of the F-35 Lightning II program.\\nThe candidate will be responsible for Anomaly & Failure Resolution System (AFRS) knowledge base development, technical data authoring, and development of necessary documentation standards and procedures for the\\n\\nF-35 Lightning II.\\nIn this position the candidate will be interfacing with customers, application users, engineers, and other support personnel. Ability to thrive in a team environment is a must. The candidate must be proactive and eager to perform the necessary research needed to develop AFRS data. Good verbal and writing skills are essential along with strong computer skills with the various Microsoft Office applications such as Word, PowerPoint, Excel, and Access.\\nThis position is located in Fort Worth, TX. Relocation assistance may be available. Applicants must be currently residing in or willing to relocate to Fort Worth, TX or surrounding areas.\\n*Required Skills and Education*\\n\\nHS + minimum of 8 years experience.\\nAbility to obtain or possesses security clearance.\\nExtensive O-level troubleshooting experience on military aircraft systems.\\nFlight-line use of support equipment.\\nRecent Hands-On experience.\\nFormally trained in the maintenance and troubleshooting of aircraft systems.\\nBasic working knowledge of all aircraft systems related to type aircraft qualified on.\\n*Preferred Skills and Education*\\nWorking knowledge of Technical Orders and Manuals.\\n\\nCertified 7-Level or Equivalent.\\nExperience with Interactive Electronic Technical Manual (IETM) publications.\\nExperience with Portable Maintenance Aids.\\nTest & Evaluation experience.\\nTechnical Publication validation experience.\\nFixed-wing/Fighter aircraft maintenance experience.\\nPreferred Skills and Education:\\nPractical work experience and working knowledge of SGML / XML.\\nPractical experience with technical manual development\\n*About BAE Systems Intelligence & Security*\\n\\nBAE Systems is a premier global defense and security company with approximately 90,000 employees delivering a full range of products and services for air, land and naval forces, as well as advanced electronics, security, information technology solutions and customer support and services. Information Solutions, based in Reston, Virginia, is among the 10 largest IT providers to the U.S. government, serving most of the federal defense and civilian marketplace. It provides network-centric command, control, computing, and intelligence (C3I) solutions; wideband networking radio systems; information systems for the U.S. intelligence community; geospatial information services; and information technology services. Leveraging its knowledge of signals and data derived from signals, Information Solutions has attained a market-leading position in advanced information technology research, intelligence analysis and production, and geospatial exploitation software. People are the greatest asset in any Company. BAE Systems is committed to hiring and retaining a diverse workforce. Equal Opportunity Employer/Females/Minorities/Veterans/Disabled/Sexual Orientation/Gender Identity/Gender Expression\\n*EEO Career Site*\\n\\nEqual Opportunity Employer. Minorities . females . veterans . individuals with disabilities . sexual orientation . gender identity . gender expression\\n*Department*\\n\\n0KCEJA_JSF Domestic\\n*Company*\\n\\nTST_BAE Systems Tech Sols&Svcs Inc\\n\\n*Anomaly and Failure Resolution System Technical Data Author*\\n*Fort Worth, Texas*\\n*15304BR-1000*', 'Engage in statistical tools development and providing advanced analytics support. Design and develop large scale data tools, advanced statistical models and data visualization techniques for upstream well and rig data. Support and improve downstream hub market pricing tools. Perform other targeted quantitative analyses and build models across the spectrum of energy value chains.  Develop web scraping tools to collect and process public energy data from different sources like PDF files and webpages. Maintain Energy Insights North American Supply Model to provide petroleum and natural gas market outlook. Generate insights from upstream well production and drilling data and update basin shape files to capture recent market trends. Develop new model features and implement in Matlab. Participate in management consulting client projects as an integral part of engagement teams and contribute with energy industry knowledge. Complete client deliverable advanced quantitative analysis and modeling on upstream well and rig data, e.g. basin and operator performance benchmarking analysis.      Qualified applicants must have a Masters degree in Statistics or a related quantitative discipline. Qualified applicants must have minimum 1 year experience in supporting teams in top-tier management consulting firm on oil and gas related project. Minimum 1 year data analytics experience applying statistical modeling in the area of petroleum & natural gas.  Experience must have included:  maintaining well and rig databases; writing scripts and macros; designing shapes of oil and gas basins using geospatial and GIS tools;  statistical tools R, SAS, Matlab;  statistical operations research tools  regression, time series analysis, data mining & optimization; using SQL server for upstream well and rig data.    Please email your resume to CO@mckinsey.com and refer to HC0118', 'Performs research to find and verify customer addresses and insurance information. Uses various websites and in-house research tools to find and obtain information and then inputs data into computer system for billing. Will also answer phones for incoming questions from customers/patients regarding account status. Computer experience is a must and some medical billing and/or insurance experience is a plus. Bilingual is also a plus.', \"Responsibilities\\nBusiness Data Analyst-Nexidia\\n\\nThe Customer InsightsTeam at Verizon is hiring a Business Data Analyst to work on existing and new challenges within the realm of customer engagement/customer experience, in particular within the field of Speech Analytics.\\n\\nJob Role\\n\\nThe Voice of the Customer team works in partnership wtih the Channels, VLSS, Marketing, National Operations and other key players to provide stakeholders strategic insight into Consmer and Mass Business broadband, video and voice services. This team is focused on deivering insight into call drivers and volume redction opportunities, process and training effectiveness, agent execution, customer reactions to initiatives, and pain points that can be focused on to improve the customer experience. This role will focus on analytical work supporting national initiatives as well as adhoc requests. This position will be the liaison working with requestors for their specific projects to translate requests into Voice of the Customer studies. This position will utilize Nexidia Speech Analytics to identify call driver and customer impacting trends through the process of Nexidia query developement, Discovery and Search functionalities.\\n\\nThis person will be part of a team that will hande incoming requests, do deep dive analysis, and have the ability to package results both verbally and in power point presentations that cleary articulate the story behind the data. In this capacity, this person will also have the ability to collabrate accross functions and channels help identfy root cause issues, drive and recommend solutions, and develop and deliver presentations that will gain buy-in from stakeholders and executive groups. The ablity to identfy trends accross lines of business and attention to detail is criitcal. Candidates will have a willingness to go further to find drivers and solutions to issues through any means available, as well as the ability to match findings from these different sources to the intent of the request and translate results from varied data\\nQualifications\\nRequirements\\n\\n* Bachelor's degree or equivalent work experience in the areas of data analytics and reporting \\n* Proficent in Nexidia Speech Analytics and documenting findings into formal executive level reports and presentations. \\n* Experience in call study design \\n* Experience with using statistical packages such as R, SAS, SPSS or Access to analyze large datasets \\n* Abiity to comprehend and analyze business needs and translate into Nexidia Speech Analytics technical requirements \\n* Ablility to manage, create and cleary articulate the story beind the data results to drive progress \\n* Proven ability to manage and work with cross functional teams accross all levels of the orgaization to optimize business needs \\n* Experiece managing projects and programs \\n* Proven creative problem solver with ablity to work effectively in a hyper-changing environment \\n* Master of Powerpoint/Word/Excel\\nEqual Employment Opportunity\\n\\n\\n* Verizon is a Federal Contractor \\n* Verizon requests veteran priority referrals \\n* \\nVerizon is an equal opportunity employer/disability/vet\\n\\nREQNUMBER: 413275-1B\", \"Specific tasks include, but are not limited to:\\n1. Support reviews, processing, and pursue approval for delivery of F-35 data products to support aircraft DD250 and delivery, Non-Aircraft equipment delivery, or operational site standup and sustainment operations. - Sustainment Data Build (SDB) - including As-Delivered Bill of Material - Electronic Equipment Logbook (EEL) - Reference & Initialization Data - Quality Assurance Records (QAR) Data - Configuration Management As-Built Data - Production Floor Data.\\n\\n2. Participate in assessments of data products and/or Supplier data submissions during Aircraft DD250 and Ferry preparation and delivery cycle.\\n\\n3. Support coordination with key stakeholders to understand issues and needs; support prioritizing, determining solutions, and implementation of Action Requests (AR) resolution.\\n\\n4. Support the conversion of customer or product requirements into solutions that solve technical, schedule, and cost constraints.\\nThe selected candidate will be responsible for providing technical knowledge and skills supporting F-35 Program Sustainment Data Product Integration & Delivery (SDP I&D) and Sustainment Support activities within the Data Quality & Integration Management (DQIM) Team's BAE Data Management Group. Will support Sustainment Data Product (SDP) management, research/analysis, processing, and handling data.\\nSpecific tasks include, but are not limited to:\\n\\n1. Provide support of the BAE Systems team of software, systems, and logistics engineers to support the customer's data quality and configuration management objectives.\\n\\n3. Support reviews, processing, and pursue approval for delivery of F-35 data products to support aircraft DD250 and delivery, Non-Aircraft equipment delivery, or operational site standup and sustainment operations.\\n\\n- Sustainment Data Build (SDB) - including As-Delivered Bill of Materials\\n\\n- Electronic Equipment Logbook (EEL)\\n\\n- Reference & Initialization Data\\n\\n- Quality Assurance Records (QAR) Data\\n\\n- Configuration Management As-Built Data\\n\\n- Production Floor Data\\n\\n4. Supports data modeling/mapping/mining and Extraction, Transformation and Loading (ETL) activities.\\n\\n5.Supports application of data quality assessments of data products and/or Supplier data deliverables and requirement submissions.\\n\\n6. Support coordination with key stakeholders to understand issues and needs; prioritizing, determining solutions, and implementation of Action Requests (AR) resolution.\\n\\n7. Contribute to and maintain engineering/reengineering/documentation, metrics, data forensics, process improvement and affordability initiatives.\\n***Must be a US Citizen or legally authorized to work in US as a permanent resident. This position is located at a facility that requires special access.***\\n*Required Skills and Education*\\n\\nRequired Education: Bachelor's degree from an accredited college in a Data Management, Computer Science, Software, or related discipline; with 2 years of professional experience.\\nRequired Skills:\\nThe candidate must have knowledge and experience in the following:\\n- Management and Manipulation of data using Microsoft Excel and/or Access\\n- Performing Data Extraction, Translation, Migration and Loads\\n- Performing data quality audits/verification\\n- Performing Configuration Management of data\\n- Hands-on use of core Microsoft Office applications (to include MS Project)\\n- Outstanding interpersonal, communication, and problem solving skills with the ability to handle multiple tasks simultaneously\\n*Preferred Skills and Education*\\n\\nD esired skills:\\n\\n- Working knowledge of F35 Sustainment Data Products Integration and Delivery Processes and Sustainment Data Build\\n- Working experience/knowledge of F-35 ALIS applications (i.e. CMMS and CRM)\\n- Hands-on experience working with Electronic Equipment Logbook\\n- Development of Aircraft/Aviation System Bills-of-Material (BOM)/Structures\\n- Use of TeamCenter (PDM/LDM) to review and verify Design and Logistics Data\\n- Quality Assurance or Configuration Management related to data or systems integration\\n- Reading and interpreting Joint Technical Data (JTD) or Time Compliant Technical Directives (TCTD)\\n- Reading, Interpreting, and Writing eXtensible Markup Language (XML)\\n- First-hand experience using F-35 ATLAS application to extract and verify logistics data\\n- Integrated Logistics Support (ILS) - Including MILSTD 1388-2B\\n*About BAE Systems Intelligence & Security*\\n\\nBAE Systems is a premier global defense and security company with approximately 90,000 employees delivering a full range of products and services for air, land and naval forces, as well as advanced electronics, security, information technology solutions and customer support and services. Information Solutions, based in Reston, Virginia, is among the 10 largest IT providers to the U.S. government, serving most of the federal defense and civilian marketplace. It provides network-centric command, control, computing, and intelligence (C3I) solutions; wideband networking radio systems; information systems for the U.S. intelligence community; geospatial information services; and information technology services. Leveraging its knowledge of signals and data derived from signals, Information Solutions has attained a market-leading position in advanced information technology research, intelligence analysis and production, and geospatial exploitation software. People are the greatest asset in any Company ... BAE Systems is committed to a high performance culture and provides an environment that challenges our employees to be remarkable and obtain their full potential. Equal Opportunity Employer. Females. Minorities. Veterans. Disabled\\n*Department*\\n\\n0KCEJA_JSF Domestic\\n*Company*\\n\\nTST_BAE Systems Tech Sols&Svcs Inc\\n\\n*Data Quality & Integration Management (DQIM) Logistics Analyst II*\\n*Fort Worth, Texas*\\n*14940BR-1000*\", \"Title: Master Data Management Administrative Specialist\\nLocation: US-TX-Dallas-Dallas\\nOther Locations:\\nLocation:This role is located in our Dallas/Coppell state of the office.\\n\\n\\nToyota Financial Services\\nOur people are the driving force behind our success and we're moving forward!\\nJoin a dynamic company known for rapid growth and solid success.\\n\\n\\n\\nTo make your mark as Master Data Management Administrative Specialist, you will:\\n\\n\\n\\n\\n• Managing and executing a wide array of system transactions in SAP CRM and ERP\\n\\n• Maintaining data integrity and quality controls while supporting business system process needs\\n\\n• Ensure business processes meet our compliance and business requirements\\n\\n• Identify issues and recommend solutions to business challenges\\n\\n• Demonstrate strong teamwork between yourself and teammates as well as internal and external customers\\n\\n\\n\\n\\nMajor Duties and Responsibilities:\\n\\n\\n\\n\\n• Support the funding of new customer contracts by timely and accurately creating Master Data including detailed customer and asset information \\n\\n• Maintain data integrity and compliance with published business procedures\\n\\n• Execute system change processes including address and due date changes, payment deferrals and creating and processing debit/credit memos\\n\\n• Close out of end-of-term contracts\\n\\n• Create and generate payoff quotes and/or amortization schedules\\n\\n• Provide exemplary service and a positive experience to all customers\\n\\n• Heighten service levels through open communication, collaboration, problem solving, and efficiencies in our daily processes\\n\\n• Promote effective teamwork and an inclusive environment for all team members\\n\\nTFS is looking for individuals with strong business sense and practical expertise. Successful candidates should have:\\n\\n\\nQualifications:\\n\\n\\n\\n\\n\\n• High school diploma or GED\\n\\n• Three (3) years professional experience within the Industrial Equipment/B2B loan or leasing environment\\n\\n• Three (3) years’ experience using SAP CRM/other ERP, SAP Interaction Center helpful.\\n\\n• Three (3) years’ experience using MS Office products: Word, Excel and Outlook\\n\\nTurn toward great benefits:\\n\\n\\n\\n•Work/Life benefits (flextime, 9/80 work schedules offered where applicable, tuition reimbursement)\\n\\n•Vehicle lease and purchase (Associates are eligible date of hire, access to favorable rates and more incentives!)\\n\\n•Medical, dental and vision insurance (Associates are eligible date of hire & premiums are paid by Toyota)\\n\\n•Matching 401(k) and Toyota Annual Retirement Contribution \\n\\n•Paid time off (vacation, sick, personal, holidays)\\n\\n\\n\\nAbout Toyota Financial Services\\n\\nHeadquartered in Torrance, Calif., Toyota Financial Services (TFS) is the finance and insurance brand for Toyota in the United States, offering retail auto financing and leasing through Toyota Motor Credit Corporation (TMCC) and extended service contracts through Toyota Motor Insurance Services (TMIS). Lexus Financial Services is the brand for financial products for Lexus dealers and customers. TFS currently employs over 3,300 associates nationwide, and has managed assets totaling more than $91.7 billion. It is part of a worldwide network of comprehensive financial services offered by Toyota Financial Services Corporation, a wholly-owned subsidiary of Toyota Motor Corporation. Equal Opportunity Employer M/F/D/V. We E-verify.\\n\\n\\n\\nYour application and your employment, if hired, are covered by the Toyota Arbitration Agreement. \\nPlease click here to review a copy of the Toyota Arbitration Agreement. http://www.toyota.com/apps/recruiting/TFSHRPolicy.html\\n\\n\\nHyperlinks to E-Verify posters:\\n\\n\\n\\nFor E-Verify Poster Standard English, Clickhere.\\nFor E-Verify Poster Spanish, Clickhere.\\nFor E-Verify Native Documents/Right to Work English, Clickhere\\nFor E-Verify Native Documents/Right to Work Spanish, Clickhere.\", \"# Support Technologies Data Analyst \\n \\n\\n \\nJob Number: 44169004\\n \\nAustin, Texas, United States\\n \\nPosted: Nov. 19, 2015\\n \\nWeekly Hours: 40.00\\n \\n\\n \\n**Job Summary**\\n \\nThe AppleCare organization is seeking an experienced individual who enjoys the challenging world of data quality and analysis.\\xa0 You must thrive in a fast-paced environment, have strong analytical skills, excellent communication skills, and a desire to work with cross-functional teams. The purpose of this role is to ensure the highest quality of data feasible within the AppleCare organization. \\n \\n\\n \\n**Key Qualifications**\\n \\n* Detail-oriented and passionate about customer experience\\n \\n* Experience creating optimized SQL queries\\n \\n* Ability to investigate anomalies and proactively problem solve\\n \\n* Excellent communication skills\\n \\n* Experience in: Python, Ruby, or Shell\\n \\n* Experience with Database Design\\n \\n\\n \\n**Description**\\n \\nWho you are:\\n \\n-Ability to move quickly through complex problems \\n \\n-Highly motivated to create extremely reliable and accurate sets of data\\n \\n-You are constructive and take feedback well, incorporating it in your day-to-day tasks\\n \\n-Ability to identify and drive process improvements \\n \\n-Driven and self-sufficient\\n \\n-Communication skills are stellar, even when operating under stress\\n \\n\\n \\nThis role will be working with business partners and technical teams to define reporting and analytical needs.\\xa0 \\n \\n\\n \\n**Education**\\n \\nBachelor's (4-year) degree, with a Computer Science, MIS, and/or Business degree preferred\\n \\n\\n \\n**Additional Requirements**\\n \\nTableau experience\\n \\nMachine Learning\\n \\nWorking knowledge of a Contact Center\", \"**PwC/LoS Overview:**Are you interested in the opportunity to work for an industry\\\\-leading firm that services clients that include the Fortune 500, and will give you the experience and exposure you need to build your career and personal brand? If you are, then PwC US \\\\(PricewaterhouseCoopers LLP and its subsidiaries\\\\) may be the firm for you\\\\.\\n  \\nWe're a member of the PwC network of firms located in 157 countries with more than 184,000 people who are committed to delivering quality in assurance, tax and advisory services\\\\. PwC US helps organizations and individuals create the value for which they are looking\\\\.\\n  \\nOur professionals are at the heart of our business strategy and success by bringing personal and professional experiences; we understand that our business is impacted by a person's personal and professional lives\\\\.  PwC US recruits top talent with traditional and nontraditional backgrounds, with a focus on diversity and inclusion, so that we continue to build PwC US as a great place to work\\\\. Our people are armed with the tools\\\\-including enriching professional experiences, everyday coaching, timely and productive feedback, and high\\\\-quality learning and development opportunities\\\\-to deliver each day\\\\. We are committed to building lasting relationships and delivering value to our clients\\\\.\\n  \\nLearn more about us at www\\\\.pwc\\\\.com/us\\n  \\nIt takes talented people to support the US firm of the largest professional services organization in the world\\\\. Not all of us work directly with external clients\\\\. Some of our best people choose to apply their talents inside PwC\\\\.\\n  \\nAs part of Internal Firm Services, you're serving an organization on par with many of our external clients\\\\. Our Internal Firm Services team consists of first\\\\-rate marketers, human resource professionals, computer technologists, knowledge managers, accountants, financial planners, administrators and leaders\\\\. Internal Firm Services staff are the people who make it work for the people who make it work for our clients\\\\.**Job Description**The GDMS organization is focused on three strategic objectives: articulation and integration of GDM strategy; definition, build\\\\-out and continuous improvement of GDM delivery capabilities; and ongoing execution of GDM operations to ensure seamless quality and service across the SDN\\\\. The DADS organization is working to build Data and Analytics capabilities on a xLoS basis and embed them in every aspect of PwCâ€™s client services\\\\.  DADS is building an Analytics\\\\-driven business culture that will enhance performance, reduce risk and cost, and identify new paths to provide services and capture value\\\\. Both GDMS and DADS are shifting PwCâ€™s business model and value proposition to position the US firm and the global network of firms to be more competitive \\\\-\\\\- both now and in the future \\\\-\\\\- and help deliver distinctive service to our clients\\\\.\\n  \\nThe Data & Analytics Delivery Services team provides services in 5 core services areas: Benchmarking, Research, Analyst Services, Technology Platforms, and Data Services\\\\.\\n  \\nThe Technology Platform Team within the DADS organization and will be responsible for customer relationship management, business requirements management, and the development of custom data sets for our practitioners, The Data Services Senior Associate will support the delivery of custom data sets that differentiate sector solutions and provide data for analytics solutions and analytic apps\\\\.**Position/Program Requirements:**Minimum Years of Experience: 2\\n  \\nMinimum Degree Required: Bachelor's degree\\n  \\nKnowledge Preferred:\\n  \\nDemonstrates proven thorough knowledge of, and/or success in roles involving, coordinating and delivering customer relationship management related to providing quantitative and qualitative information needed to conduct effective analyses in Benchmarking, Research, Analyst Services, Technology Platforms, and Data Services for a global professional services consulting firm and partnership business model, which includes the following areas:\\n  \\nConducting end\\\\-to\\\\-end project management activities for project\\\\(s\\\\) that are small to medium in size;\\n  \\nUtilizing business and proprietary suite of technology tools available, leveraging additional and available resources, while maintaining a network of internal contacts to resolve business and technical issues;\\n  \\nPerforming root cause analyses to identify data or system issues;\\n  \\nTroubleshooting and providing solutions for technical questions and issues, or routing them to the appropriate teams\\n  \\nServicing information technology access requests with appropriate risk controls\\n  \\nCollaborating with off\\\\-shore resources to deliver services in a cost effective manner\\n  \\nSkills Preferred:\\n  \\nDemonstrates a thorough level of abilities with, and/or a proven record of success as both an individual contributor and team member, identifying and addressing client needs: actively participating in client discussions and meetings; communicating a broad range of Firm services; and, managing engagements, including preparing concise, accurate documents and status reports while also maintaining project economics while maintaining flexibility for unanticipated issues\\\\.\\n  \\nDemonstrates thorough abilities and/or a proven record of success as a team leader: creating a positive environment by monitoring workloads of the team while meeting client expectations and respecting the work\\\\-life quality of team members; providing candid, meaningful feedback in a timely manner; keeping leadership informed of progress and issues; answering questions and providing direction to less\\\\-experienced staf\", \"**PwC/LoS Overview:**PwC is a network of firms committed to delivering quality in assurance, tax and advisory services\\\\.  We help resolve complex issues for our clients and identify opportunities\\\\. Learn more about us at www\\\\.pwc\\\\.com/us\\\\.\\n  \\nAt PwC, we develop leaders at all levels\\\\. The distinctive leadership framework we call the PwC Professional \\\\(http://pwc\\\\.to/pwcpro\\\\) provides our people with a road map to grow their skills and build their careers\\\\. Our approach to ongoing development shapes employees into leaders, no matter the role or job title\\\\.\\n  \\nAre you ready to build a career in a rapidly changing world? Developing as a PwC Professional means that you will be ready \\\\- to create and capture opportunities to advance your career and fulfill your potential\\\\. To learn more, visit us at www\\\\.pwc\\\\.com/careers\\\\.\\n  \\nPwC Advisory helps our clients with their most challenging imperatives from strategy through execution\\\\. We combine the breadth of knowledge of over 48,000 global professionals with deep industry knowledge to deliver custom solutions for our clients\\\\. We work with the world's largest and most complex companies and understand the unique business issues and opportunities our clients face\\\\.**Job Description**Across industries, our clients are focused on improving business performance, responding quickly and effectively to crisis situations, and extracting value from transactions\\\\. Our growing Consumer Industrial Products and  Services industry team provides strategy, management, technology and risk consulting services to help a diverse set of clients around the world anticipate and address their most complex business challenges\\\\. CIPS includes multiple sectors: Automotive, Energy, Industrial Products, Retail and Consumer, and Utilities\\\\.\\n  \\nOur Data and Analytics consultants help clients maximize the value of their data\\\\.  This high performing team helps clients define their  information strategy, architecture and governance, get the most value from business intelligence and analytics, and implement enterprise content and data management solutions to reduce cost and complexity, increase trust and integrity, and improve operational effectiveness\\\\.**Position/Program Requirements:**Minimum Years of Experience: 1\\n  \\nMinimum Degree Required: Bachelor's degree\\n  \\nMinimum Degree Required Major: in Computer Science or any MIS related field\\n  \\nKnowledge Preferred:\\n  \\nDemonstrates some knowledge of designing and developing IT business architecture or information architecture engagements to clients in the financial services industry, which includes participating on engagement teams performing and assisting with the following:\\n  \\n\\\\- Evaluating enterprise DW architecture feasibility, risk and technologies related to business change \\\\(i\\\\.e\\\\. assessing, identifying and recommending BI and related business stakeholders' data requirements; BI solution prototyping and development; processes and performance from business and technical standpoints; and the impact of data changes on business and/or IT processes\\\\);\\n  \\n\\\\- Prioritizing, preparing and implementing BI and/or DW architectural improvements \\\\(i\\\\.e\\\\. developing and recommending alternative DW technical and data management solutions, methodologies, strategies and architectural improvement plans\\\\)\\n  \\n;\\n  \\n\\\\- Advising CXO's on trends and emerging enterprise data management, data security and/or data masking, data warehousing and business intelligence technologies and strategies\\\\.\\n  \\nSkills Preferred:\\n  \\nDemonstrates some abilities to interact with end users to understand and document business and functional requirements for complex projects, including full software development life cycle, DW/BI/ETL tools and other related technologies, including:\\n  \\n\\\\- Enterprise data management, data warehousing and/or business intelligence; data modeling, integration and/or synchronization, quality, security, conversion and analysis; database administration; and/or enterprise data management policies, procedures, compliance & risk management\\\\. This includes a minimum of having participated in two full life cycle implementations\\n  \\n\\\\- Architecture, design and development of enterprise business intelligence and data warehousing solutions, including utilizing leading ETL/BI tools and the ability to architect a solution\\n  \\n\\\\- Design and implementation of reporting data sources and complex reports, including some ability to utilize SQL\\n  \\n\\\\- Design and development of data cleansing routines utilizing typical data quality functions involving standardization, transformation, rationalization, linking and matching that leverages knowledge within data, master data, metadata and technology management\\\\.\\n  \\nDemonstrates some abilities and/or a proven record of success as a team member on project engagements and project teams, which includes the following: understanding personal and team roles; contributing to a positive working environment by building solid relationships with team members; proactively seeking guidance, clarification and feedback\\\\.\\n  \\nDemonstrates some abilities and/or a proven record of success identifying and addressing client needs, which includes the following: building solid relationships with clients; developing an awareness of Firm services; approaching client in an organized manner; delivering clear requests for information; demonstrating flexibility in prioritizing and completing tasks; communicating potential conflicts to a supervisor\\\\.\\n  \\nDemonstrates some ability and/or a proven record of success prioritizing and handling multiple tasks; researching and analyzing pertinent client, industry, and technical matters; utilizing problem\\\\-solving skills; and, communicating effectively in written and verbal formats to various audiences \\\\(including various levels of management and external clients\\\\) in a professional business environment\", \"Title: Accenture Strategy – Digital Finance Data and Technology Strategy - Manager++\\nLocation: USA-IL - Chicago\\nOther Locations: USA-PA - Philadelphia, USA-NY -New York, USA-TX - Dallas, USA-MA - Boston, USA-WA - Seattle, USA-NC - Charlotte, USA-NJ - Florham Park, USA-CA - El Segundo, USA-TX - Houston, USA-CA - San Francisco, USA-MN - Minneapolis, USA-GA - Atlanta\\nJob Number: 00332650\\n\\n Title: Accenture Strategy - Digital Finance Data and Technology Strategy - Manager  \\nLocation: Negotiable \\nTravel: 100% Travel Required \\n  \\nIntroduction to Accenture Strategy:\\n https://www.youtube.com/watch?v=kCjn4pd9g7k  \\n  \\nJoin Accenture and help transform leading organizations and communities around the world. The sheer scale of our capabilities and client engagements and the way we collaborate, operate and deliver value provides an unparalleled opportunity to grow and advance. Choose Accenture, and make delivering innovative work part of your extraordinary career.\\n \\nAccenture people build careers in four different areas of our business: Consulting, Technology, Outsourcing and internal Corporate Functions. Each area offers a unique career experience and a compelling mix of work and training opportunities, work environment and structure for career progression. \\n \\nPeople in our Client & Market career track drive profitable growth by developing market-relevant insights to increase market share or create new markets. They progress through required promotion into market-facing roles that have a direct impact on sales. \\n\\nStrategy professionals apply deep strategy development, architecting value and operating model architecture skills, influence through insight and partner with our clients to make bold decisions on priority C-Suite issues. Provide deep understanding of our clients’ industry landscape and business options in the context of global, economic, technology and social trends. \\n\\n Strategy consulting today requires the ability to see how business, technology and operations all intersect. At Accenture Strategy, you will work closely with the world’s top organizations and leverage Accenture’s expertise in these areas to develop strategies that turn your ideas into actions. \\nAs part of the 6,000 Accenture Strategy professionals in our global community, you’ll provide actionable insights to clients, helping them address priority C-suite issues with strategies they can execute with speed and at scale. Our deep understanding of our clients’ industries and our global perspective on progressive business ideas and emerging technologies enables us to drive and deliver transformational change. \\n \\n \\n\\n\\n Join the Accenture Strategy - CFO & Enterprise Value team and you will play a central role in developing innovative business and technology solutions, partnering with CFOs to create value in a digital world.  Our CFO & Enterprise Value practice supports our clients with capabilities in the areas of CFO Strategies, Enterprise Value Targeting, Integrated Operating Model and Digital Finance.  Digital Finance enables the office of the CFO to drive targeted enterprise financial performance through digital technologies.  This includes Enterprise Performance Management (EPM) and Finance Technology Strategy.  Each area offers a unique career experience and unparalleled opportunity for you to grow and advance.  Great things can happen—they already are. Come and be a part of the next level of high performance. \\n  \\n   \\n  \\nJob Description \\n  \\nDigital Finance Data &Technology Strategy  professionals:\\n \\n\\nDevelop strategies to promote enterprise transformations with the CFO as the architect of business value. \\nRefine and optimize the CFO's ability to organize and analyze financial, operational and external information to create substantial shareholder value. \\nCreate data and technology strategies that will build digital finance maturity and support the CFO agenda to drive enterprise performance. \\nPerform digital finance maturity assessment and/or finance technology health checks to diagnose issues and craft recommendations around enterprise data strategy, data integration, enterprise information management. \\nProvide points of view and influence strategies led by CFO which include digital finance enabling technologies (e.g., Cloud, Collaboration, Social, In-Memory, and Mobile tools) \\n\\nDesign finance application architectures and shape target operating models \\n\\nAssist clients in assessing and selecting software to evolve their digital finance agendas \\n\\nArticulate the value proposition and business case for digital finance solutions \\n\\nAbility to create a hypothesis and proposed solution set from potentially ambiguous or unclear direction sets or statements of work \\n\\nAbilities to develop detailed project planning documentation and estimates for proposed client work \\n\\nManage risk, issues and project status to ensure successful completion of project objectives or deliverables \\n  Qualifications:   Basic Qualifications:   \\n\\nMinimum of 5 years of consulting or finance experience \\nMinimum of 3 year of management consulting experience and/or internal consulting experience \\nMinimum of 3 years work experience in planning, budgeting and forecasting processes and enabling technologies \\nMinimum of 3 years work experience in management and operational reporting and enabling technologies \\nMinimum of 3 years work experience in developing enterprise data, data integration, and enterprise information management strategies \\nMinimum of 1 year of experience in one or more of the following: sales/business development, including pricing strategy, deal shaping, and business case development \\nMinimum of 3 years of experience in Microsoft Office product suite \\nBachelor's degree  \\nPreferred Qualifications:  \\n\\nMBA \\n\\nCPA  \\n\\nExperience with planning tool set(s) (Cognos/TM1, Oracle Hyperion Planning, SAP BPC, Anaplan, Adaptive)  \\n\\nExperience with reporting and analytic tool set(s) (SAP BusinessObjects/BW/HANA, Oracle BI, Oracle Hyperion Essbase, Cognos BI)  \\n\\n Proven track record in managing the delivery of digital finance transformation projects   \\n \\nProfessional Skill Requirements  \\n   \\n\\nProven ability to build, manage and foster a team-oriented environment \\nProven ability to work creatively and analytically in a problem-solving environment \\nDesire to work at the intersection of finance, industry, and information systems \\n\\nExcellent communication (written and oral) and interpersonal skills \\nExcellent leadership and management skills \\n \\nAll of our consulting professionals receive comprehensive training covering business acumen, technical and professional skills development. You will also have opportunities to hone your functional skills and expertise in an area of specialization. We offer a variety of formal and informal training programs at every level to help you acquire and build specialized skills faster. Learning takes place both on the job and through formal training conducted online, in the classroom, or in collaboration with teammates. The sheer variety of work we do, and the experience it offers, provide an unbeatable platform from which to build a career.\\n \\n\\nApplicants for employment in the US must have work authorization that does not now or in the future require sponsorship of a visa for employment authorization in the United States and with Accenture (i.e., H1-B visa, F-1 visa (OPT), TN visa or any other non-immigrant status).\\n \\nCandidates who are currently employed by a client of Accenture or an affiliated Accenture business may not be eligible for consideration. \\n \\nAccenture is an EEO and Affirmative Action Employer of Females/Minorities/Veterans/Individuals with Disabilities.\\n \\nEqual Employment Opportunity  \\nAll employment decisions shall be made without regard to age, race, creed, color, religion, sex, national origin, ancestry, disability status, veteran status, sexual orientation, gender identity or expression, genetic information, marital status, citizenship status or any other basis as protected by federal, state, or local law.\\n \\nJob candidates will not be obligated to disclose sealed or expunged records of conviction or arrest as part of the hiring process.\\n\\nAccenture is committed to providing veteran employment opportunities to our service men and women.    Job: Strategy\", '*Job Summary*\\n\\xa0\\nAs an *Account Executive,* your responsibilities will include:\\n\\xa0\\n ·\\xa0\\xa0\\xa0\\xa0\\xa0 *B**u**s**in**es**s development:* Develop and grow your own client base by marketing our services for contract staffing solutions; market to clients via telephone and network with C-level executives and key decision makers to staff Big Data and Business Intelligence professionals.\\n·\\xa0\\xa0\\xa0\\xa0\\xa0 *Placement activities:* Select well-matched candidates to fulfill client job orders and maintain on-\\n going contact with client companies and temporary professionals currently on assignment to ensure both receive exceptional customer service. In addition, the account executive will resolve any customer service issues quickly and efficiently to maintain the highest level of customer satisfaction.\\n·\\xa0\\xa0\\xa0\\xa0\\xa0 *Meet and Exceed weekly business development goals*\\n\\xa0\\n* Qu**a**l**i**fications:*\\n\\xa0\\n ·\\xa0\\xa0\\xa0\\xa0\\xa0 2+ years of business to business development experience and/or working in an IT related field is preferred.\\n·\\xa0\\xa0\\xa0\\xa0\\xa0 Must have a strong desire to build a career in business development by using proven closing\\n skills and the ability to build client relationships.\\n·\\xa0\\xa0\\xa0\\xa0\\xa0 A combination of business development and account management skills are required.\\n·\\xa0\\xa0\\xa0\\xa0\\xa0 Ability to multi-task and persevere in a fast paced dynamic environment with a sense of urgency.\\n·\\xa0\\xa0\\xa0\\xa0\\xa0 Must have a proven track record of success and be a competitive and self-motivated individual.\\n\\xa0\\n\\xa0\\nIf you have a background in technology and are looking for an exciting new career with exceptional earning potential, apply today!\\n\\xa0\\nYou may submit your application materials online or call 1.800.793.5533 for additional ways to apply. Robert Half is an Equal Opportunity Employer. M/F/Disability/Vet', 'McKesson is in the business of better health and we touch the lives of patients in virtually every aspect of healthcare. At McKesson Specialty Health, our products and services span the full continuum of specialty patient care. From the initial phases of a product life cycle and the distribution of specialty drugs, to fully integrated healthcare technology systems, practice management support, and ultimately to patient care in the communities where they live, we empower the community patient care delivery system by helping community practices advance the science, technology and quality of care.\\n\\nWe have a vision —that the long-term vibrancy of community care will be achieved through the leadership of physicians committed to clinical excellence and innovation, enabled by close collaboration with our organization and our deep clinical, operational and technological expertise. Every single McKesson employee contributes to our mission—by joining McKesson Specialty Health you act as a catalyst in a chain of events that helps millions of people all over the globe. You’ll collaborate on the products and solutions that help us carry out our mission to improve lives and advance healthcare. Working here is your opportunity to shape an industry that’s vital to us all.\\n\\nJoin our team of leaders to begin a rewarding career\\n\\nPosition Description\\nUnder general supervision, supports Product Development initiatives by providing accurate and timely data analysis and data manipulation, quality assurance and ongoing system and process maintenance. Responsible for obtaining raw data and producing mock up and production reports from available sources. Validates data and performs analysis as needed. Supports and adheres to the MSH Compliance Program, to include the Code of Ethics and Business Standards.\\n\\nKey Responsibilities: \\n* \\nEvaluates research concepts to develop appropriate statistical methods of analysis. \\n* \\nAdvises on the development of research information, data gathering techniques, and data reduction to decrease bias and/or errors in data gathering and analysis. \\n* \\nDetermines methods of statistical analysis and applies statistical techniques to determine measures of central tendency, correlation, sample size, significance of difference etc. \\n* \\nCompiles and analyzes research data, interprets trends, fluctuations, and other changes. \\n* \\nObtains and analyzes raw data from multiple sources to perform core job duties and to answer questions posed by internal / external customers. \\n* \\nInteracts with customers to clarify needs and in reviewing results. Obtains proper approvals on each of the deliverables. \\n* \\nAbility to formulate and implement effective test strategies, and identify areas for significant efficiency gain through automation. \\n* \\nFormats output of data analysis for internal / external customer readiness. \\n* \\nHandles the reconciliation and analysis of internal and external data related issues. \\n* \\nWorks with the data warehouse teams to insure data sets and reports are built to specifications. \\n* \\nAudits database contents for accuracy and validity. \\n* \\nFacilitates and participates in peer review meetings for each of the deliverables. \\n* \\nOther duties as requested or assigned. \\n* \\nProvides overall quality assurance oversight from requirements through post-release.Qualifications\\n\\nMinimum Requirements\\n4+ years experience in programming on enterprise or department servers or systems\\n\\nCritical Skills \\n* \\nMinimum Five (5) years of work experience in clinical data analysis and/or supporting healthcare information systems. \\n* \\nExperience in mining Claims and EMR data, preferably Oncology related data. \\n* \\nAdvanced understanding of SQL, MS Excel-Macros, data arrays, and other Relational Databases (Oracle or Sequel Server) is required. \\n* \\nSound statistical analysis program experience, including SPSS or SAS is required. \\n\\nAdditional Knowledge & Skills \\n* \\nExperience with analytics reporting tool Tableau, desired \\n* \\nExperience in probabilistic simulation techniques is preferable for example, Monte Carlo simulation. \\n* \\nClinical experience as a healthcare practitioner preferred. \\n* \\nOncology experience preferred. \\n* \\nBachelors/Master’s degree in Healthcare, Public Health, Statistics, Research Methods, or related fields preferred \\n\\nEducation\\n4-year degree in computer science or related field or equivalent experience\\n\\nPhysical Requirements\\nGeneral Office Demands\\n\\nTravel \\n* \\nTravel up to 20%\\n\\nBenefits & Company Statement\\nMcKesson believes superior performance – individual and team – that helps us drive innovations and solutions to promote better health should be recognized and rewarded. We provide a competitive compensation program to attract, retain and motivate a high-performance workforce, and it’s flexible enough to meet the different needs of our diverse employee population.\\n\\nWe are in the business of better health and we touch the lives of patients in virtually every aspect of healthcare. We partner with payers, hospitals, physician offices, pharmacies, pharmaceutical companies and others across the spectrum of care to build healthier organizations that deliver better care to patients in every setting.\\n\\nBut we can’t do it without you. Every single McKesson employee contributes to our mission—whatever your title, whatever your role, you act as a catalyst in a chain of events that helps millions of people all over the globe. Talented, compassionate people are the future of our company—and of healthcare. At McKesson, you’ll collaborate on the products and solutions that help us carry out our mission to improve lives and advance healthcare. Working here is your opportunity to shape an industry that’s vital to us all.\\n\\nMcKesson is an equal opportunity and affirmative action employer – minorities/females/veterans/persons with disabilities.\\n\\nQualified applicants will not be disqualified from consideration for employment based upon criminal history.\\n\\n\\n**Category**: *Technology*', 'TDIndustries has been named by Fortune Magazine as one of the 100 Best Places to Work for 18 years in a row! Our employees take great pride in the work they perform! Our Facilities Management Services team provides comprehensive operations and maintenance for airports, schools, government, corporations and commercial offices and develops innovative solutions to maintain, optimize and extend the life of a facility’s critical infrastructure.\\n\\nWe currently have an opening for a Data Center Service Technician to join our team. This position is responsible for performing preventative maintenance on equipment that resides within the facility’s data center. Responsibilities include replacing blower belts, filters, pulleys and sheaves and performing motor change outs. This position will also assist other contractors during preventative maintenance services and escort contractors while on site when working in restricted areas. Several months of training are provided to familiarize individual to the equipment and work procedures before operating independently.\\n\\nWe seek individuals who hold the following qualifications:\\n\\n* A high school diploma and a minimum of 2 years’ prior work experience maintaining Fan Coil Units, Data Room A/C units, Exhaust Fans, Pumps, Irrigation Systems, Chillers, Cooling Towers, Water Treatment Systems\\n* This position will be a 3rd Shift Role - hours 11:00 PM - 7:00 AM.\\n* Ability to work extended shift hours and overtime when needed. May be asked to work on days off or help backfill a shift to maintain building coverage.\\n* This position will be working in a data center which requires individuals to maintain the work environment clean and organized.\\n* Basic computer skills are needed in order to learn and operate the building management system.\\n* Ability to work skillfully with both hands constantly; independently lift and carry objects weighing up to 20 pounds routinely, 50 pounds frequently and 80 pounds occasionally; climb and maintain balance on ladders and scaffold; kneel, crouch, crawl, reach, push, pull, twist, finger, grasp and feel on a constant and repetitive basis; stand, walk, talk, see (20/20 vision naturally or corrected), hear within normal range and perform repetitive motion activities.\\n\\nThis position works primarily indoors but can be exposed to temperature extremes and other conditions such as wet slippery floors, objects on floor and various chemicals and sharp objects.\\n\\n**TDIndustries is an Equal Opportunity Employer**\\n\\n\\n*Location:* Fort Worth, TX', 'Reference # : 16-00034 Title : DataStage Developer - Work From Home Job!!\\nLocation : Remote, TX\\nPosition Type : Contract\\nExperience Level : Start Date / End Date : 01/04/2016 / 07/04/2016 \\nDescription\\nJob Summary\\nCompany: Artech Information Systems LLC \\nPosition:  DataStage Developer\\nLocation: Work From Home\\nDuration: 1 year + (Possible Extension)\\n\\nJob Reference Code: 16-00034\\n\\nJob Description:\\nOnly W2 Consultants\\n\\nDescription of project/position:\\nUsing InfoSphere DataStage or Java solution, the skilled developer should be able to design, develop, and/or deploy solution for highly complex mapping and transforming logic during the Data moving process, design, develop and/or re-engineer highly complex application components, and integrate software packages, programs and reusable objects residing on multiple platforms. Strong DataStage, Java ETL, SQL, DB2 and reporting development skills. The developer needs to have strong communication skills, deep business process knowledge, and excellent technical skills. The developer also needs to have sturdy problem determination knowledge and experiences in the IT field.\\n\\nSpecific Skill Requirements:                                      Proficiency   \\nInfoSphere DataStage                                          5\\nC++, Visual Basic, Java                                         4     \\nDB2, SQL or other Database Application                            5     \\nJ2EE, JDBC, JSP, XML, SOAP, EJB and Web Application               4     \\nAIX, OS/390                                                  3\\nSharabh Goyal\\nLead Recruitments\\n360 Mt. Kemble Avenue, Suite 2000 | Morristown, NJ 07960 \\nOffice: 973.967.3469 | Fax: 973.998.2599\\nEmail: sharabh.goyal@artechinfo.com | Website: www.artechinfo.com\\nLinkedIn: www.linkedin.com/pub/sharabh-goyal/31/4b1/b68/Edit\\n\\nAbout Artech Information Systems LLC\\nArtech is an employer-of-choice for over 5,800 consultants across the globe. We recruit top-notch talent for over 65 Fortune and Government clients coast-to-coast across the U.S., India, and China. We are one of the fastest-growing companies in the U.S. and this may be your opportunity to join us! \\n\\nWant to read more about Artech?\\nClick here to visit our website or click on the following links to read what others are saying about us: The Wall Street Journal, Forbes (1) (2), BusinessWire, Entrepreneur, Better Business Bureau, Hoovers, Diversity Careers(1) (2), The Artech Circle, NJTVOnline, The Business Forum Show, and SIA: &ldquo;Above the Crowd.&rdquo;\\n\\nConnect with Artech through Social Media\\nLearn more about our company including the latest events at Artech, new job opportunities, jobseeker tips, and more. Follow us on Facebook, Google+, LinkedIn, Pinterest, Twitter, and YouTube', '*Big Data Architect - Plano, TX*  \\n\\n      \\n\\n     \\n  Big Data Solution Architects  are consultative delivery positions focused on Dell’s Business Intelligence and Analytics Services. The primary responsibility is delivering white boarding sessions, architectural design sessions, assessments, detailed designs, and implementations focused on big data integration and specific workloads. In addition, the Solution Architect is responsible for assisting the Solution Definition team with pre-sales assistance in a consultative capacity where needed, and partnering with the delivery team to accurately scope custom Services engagement in order to produce a clear statement of work as a customer deliverable. The Solution Architect position has two main focuses: Pre-sales support and Post-sales delivery  \\n   \\n  Role Responsibilities:  \\n  *  Provide technical oversight and mentoring to peers and junior teammates to grow the team’s overall capability \\n  *  Provide consultative subject matter scoping assistance to Technical Sales Specialists as needed to produce accurate statements of work as a customer deliverable \\n  *  Deliver customer facing consultative white-boarding sessions to help cultivate Big Data services opportunities in partnership with the Sales team as needed \\n  *  Attend and support the Sales team at the Executive Briefing Center by presenting and explaining the value of proposed Big Data solutions \\n  *  Build effective relationships with the Sales community by establishing self and team as the Subject Matter Experts (SMEs) and “trusted advisors” for the BI &A Services organization \\n  *  Present comprehensive analysis and documentation of the customer’s “As Is” state of operations and recommendations for optimal “To Be” state. This requires proficiency in creating and operating ROI & TCO models. \\n  *  Contribute to IP development, best practices, and knowledge sharing to drive standardization. \\n  \\n  \\n Qualifications \\n  *  8 years Business Intelligence Consulting experience with Bachelor’s Degree or 6 years with Master’s Degree. \\n  *  Relevant Bachelor’s degree and 10 to 15 years of business, software, or consulting experience or equivalent, with an emphasis on Business Intelligence & Analytics, and project management. Professional services experience is preferred. \\n  *  Exceptional interpersonal, communication and presentation skills at CxO, and CTO levels. \\n  *  3 years of experience with Apache Hadoop stack (e.g., MapReduce, Pig, Hive, HBase, Flume) \\n  *  6 years of experience with related languages (e.g. Java, Linux, Apache, Perl/Python/PHP) \\n  *  Knowledge of NoSQL platforms (Hbase, MongoDB, Cassandra, Accumulo, etc.) \\n  *  6 years of experience with ETL (Extract-Transform-Load) tools (e.g., Informatica, Ab Initio, etc.) \\n  *  6 years of experience with BI tools and reporting software (e.g. Microstrategy, Tableau, Cognos, Pentaho) \\n  *  Demonstrated experience in effectively supporting a Big Data practice in a professional Services firm \\n  *  Proven ability to generate and build offers sets that drive multi-million dollar services projects \\n  *  Demonstrated experience in generating and closing identified revenue targets \\n  *  Demonstrated ability to multitask and work multiple projects concurrently \\n  *  Demonstrated ability to provide technical oversight for large complex projects and achieve desired customer satisfaction from inception to deployment in a consulting environment \\n  *  Advanced analytical, problem solving, negotiation and organizational skills with demonstrated ability to multi-task, organize, prioritize and meet deadline \\n  *  Ability to interface with the client in a pre-sales fashion, and on an on-going basis as projects progress \\n  *  Demonstrated initiative and positive can-do attitude \\n  *  High level of professionalism, integrity and commitment to quality \\n  *  Ability to work independently and as part of a team \\n  *  Demonstrated attentiveness to quality and productivity \\n  *  Technical and project management experience \\n  *  Strongly prefer candidates that have one or more certifications in Apache Hadoop – Cloudera, HortonWorks, etc.) \\n\\n \\n\\n  \\n  \\n**Job:** **Services IT - Systems Integration*  \\n  \\n  \\n**Title:** *Big Data Architect - Plano, TX*  \\n  \\n**Location:** *TX-Plano*  \\n  \\n**Requisition ID:** *150016TC*', \"Job summary: Primary duties will include proficiency with learning and supporting the Defense Medical Logistics Standard Support - Facilities Management (DMLSS-FM) database within a fast paced Eschelon II facilities detachment office of the Bureau of Medicine and Surgery (BUMED) at El Paso, TX.  The RCAFM Specialist will also work in conjunction with the specific Navy Medicine Regional Engineers and management staff, as well as site Facility Managers (FMs) and Engineers within the BUMED Detachment area of responsibility (AOR).Primary duties and responsibilities:and#149; DMLSS-FM support of national (CONUS) and international (OCONUS) sites under the BUMED Detachment region AOR with direct contact of respective FMs, Engineers and the local Database Sustainment Specialist (DSS).and#149; Oversight assistance with facility, room, and Real Property Inventory Equipment (RPIE) data relative to each of the facilities throughout the BUMED Detachment AOR. and#149; Assists with supervising and supporting the Regional Computer Aided Design (CAD) Specialist and Database Sustainment Specialists (DSSs) within the AOR to ensure compliance with all provisions of the contract.and#149; Acquire understanding and functional use of Drawbase  and Business Objects  peripheral applications which directly compliments the DMLSS-FM software application.and#149; Assistance with identifying and recommending best practices for the DMLSS-FM program implementation and support for all BUMED Detachment activities.and#149; Assistance with training, both onsite and remote, for new and existing Government and/or enlisted personnel when necessary.and#149; Works closely with the BUMED Detachment analyst to cross reference and maintain data accuracy with Government issued eKM taskers and the Internet Naval Facilities Assets Data Store (iNFADS) database.and#149; Monitor and participate in bi-weekly BUMED Facilities Management discussion forums relative to DMLSS-FM, mandatory for DSS personnel participation.and#149; Provide responsive telephone and email support to the DSSs and CAD Specialist within a 24 hour timeframe.and#149; Advise the RCAFM of concerns and issues with application performance and or complications in a timely manner.and#149; Anticipated quarterly travel to provide onsite training and/or facilities detail as necessary for CONUS and OCONUS sites.and#149; Understand all aspects of the Contract Scope of Work relative to the DMLSS-FM contract.and#149; Participation, assistance and support of other DMLSS-FM duties as determined by the Regional Computer Aided Facilities Manager (RCAFM) when necessary.Job requirements and essential skills:and#149; Good communication skills, verbal and written.and#149; Good computer skills to learn and use new programs such as Drawbase and Business Objectsand#149; Ability to obtain and maintain a CACand#149; Understanding of Real Property Installed Equipment, RPIE, and how it's used in DMLSS to maintain data accuracyand#149; travel CONUS and OCONUSand#149; Ability to train othersEducation, training and certifications:High school diploma.Disclaimer:The above statements are intended to describe the general nature and level of work being performed by people assigned to this classification. They are not to be construed as an exhaustive list of all responsibilities, duties, and skills required of personnel so classified. All personnel may be required to perform duties outside of their normal responsibilities from time to time, as needed.\", \"Title: SQL Database Administrator - Work REMOTE\\n\\nLocation: US-TX-Dallas\\n\\nJob Number: 15208088\\n\\n  CTG has an immediate opportunity for a REMOTE SQL Database Administrator for a 6-month W2 contractual assignment with our direct client in Dallas, TX.\\n\\n   \\n\\n   Ability to work weekends and provide on-call support after business hours is a requirement for this position   .\\n\\n        Qualifications:    Required Skills: \\n\\n  Conceptual, logical and physical DB design and optimization\\n\\n  DB2 DataStage development\\n\\n  Should/must understand how to perform SQL replication\\n\\n  DB2 setup, monitoring, maintenance and tuning across DB2 tool suite\\n\\n  Database and Data Model\\n\\n  Knowledge in Unit Test and Requirements Gathering\\n\\n  Problem/Change Management\\n\\n  AIX/Linux Servers, ClearCase tool, and DB application test and development  \\n\\n   \\n\\n  CTG develops innovative IT solutions to address the business needs and challenges of companies in several higher-growth industries including healthcare, technology services, energy, and financial services. CTG provides managed services IT staffing for major technology companies and large corporations and is also a leading provider of IT and business consulting services to the healthcare market. Backed by nearly 50 years' experience and proprietary methodologies, CTG has a proven track record of delivering high-value, industry-specific solutions. Winner of Best Places to Work by Modern Healthcare 2013 & 2014; CTG operates in North America and Western Europe and had approximately 3,800 employees at December 31, 2014.\\n\\n   \\n\\n  CTG employees represent CTG to our clients and we understand that their success drives our success. As a result, CTG works diligently to provide our employees programs and processes to support them in performing their jobs, honing their skills, and advancing in their careers.\\n\\n   \\n\\n  CTG is a strong advocate of workforce diversity. EOE/AA. Minority/Female/Disability/Veteran.\\n\\n   \\n\\n  If you have the experience we need and are looking for a new, exciting and positively challenging opportunity, please apply today for immediate consideration! \\n\\n   \\n\\n   Please include availability and W2 compensation requirements when applying.     Job: Database Administration\", \"Title: Data Process (DPRO) Developer\\n\\nLocation: US-TX-Dallas\\n\\nJob Number: 15208087\\n\\n  CTG has immediate opportunities for a REMOTE Data Process Developer for a 6-month W2 contractual assignment with our direct client in Dallas, TX. The qualified candidate must be able to work weekends and provide on-call support after business hours. \\n\\n            Qualifications:    Required Skills: \\n\\n  Must have solid DataStage experience. \\n\\n  Strong Java ETL, SQL, DB2 and reporting development skills  \\n\\n   \\n\\n  CTG develops innovative IT solutions to address the business needs and challenges of companies in several higher-growth industries including healthcare, technology services, energy, and financial services. CTG provides managed services IT staffing for major technology companies and large corporations and is also a leading provider of IT and business consulting services to the healthcare market. Backed by nearly 50 years' experience and proprietary methodologies, CTG has a proven track record of delivering high-value, industry-specific solutions. Winner of Best Places to Work by Modern Healthcare 2013 & 2014; CTG operates in North America and Western Europe and had approximately 3,800 employees at December 31, 2014.\\n\\n   \\n\\n  CTG employees represent CTG to our clients and we understand that their success drives our success. As a result, CTG works diligently to provide our employees programs and processes to support them in performing their jobs, honing their skills, and advancing in their careers.\\n\\n   \\n\\n  CTG is a strong advocate of workforce diversity. EOE/AA. Minority/Female/Disability/Veteran.\\n\\n   \\n\\n  If you have the experience we need and are looking for a new, exciting and positively challenging opportunity, please apply today for immediate consideration! \\n\\n   \\n\\n   Please include availability and W2 compensation requirements when applying.     Job: Programming & Application Development\", 'Kforce has a client seeking a Data Quality Analyst III in Arlington, TX. Basic Function:The Data Quality Analyst III is responsible for working with all aspects of Data Warehouse administration and business units while heavily utilizing project management skills. The Data Quality Analyst III is responsible for coordinating the development of the technical specifications for automated verifications that provide early detection of data anomalies for the Data Warehouse teams. The Data Quality Analyst III is responsible for helping to ensure that the data quality team tests and troubleshoots projects and issues that surface in the Data Warehouse. This team member works independently to analyze mapping issues from the ETL process, source data integrity, and metadata information.*Job Duties:*\\n\\n* Develop automation of data verifications incorporating checks for exceptions, inconsistencies, tolerance levels, business rules, and valid output\\n\\n* Design and develop additional data quality monitoring based on requirements gathered from business units\\n\\n* Designs, develops, and present finding of complex data queries necessary to fully understand data quality issue/opportunities\\n\\n* Develops summarized data quality and data warehouse dashboards using Business Intelligence reporting\\n\\n* Provide sign off and acceptance for enhanced data verifications and change management activities\\n\\n* Validate the data from the DEV source to the DEV target to ensure the ETL specs have been implemented as documented\\n\\n* Validate post-production changes and ensure tested changes are moved properly to production\\n\\n* Works with business stakeholders to develop and track metrics necessary to monitor data quality\\n\\n* Develop and maintain a working relationship with various information support teams to leverage data access and analysis\\n\\n* Support the data quality activities by utilizing the ServiceNow ticket system\\n\\n* The Data Quality Analyst III must have strong technical, analytical and problem-solving skills\\n\\n* The team member will have exposure to data mapping, SQL coding, ETL, metadata and electronic report development', \"The primary purpose of the Coordinator, Research Data position is to…\\n\\nCoordinates the development of and assists with maintenance of the dissemination of data for the Comprehensive Colorectal Cancer Translational Tissue and Database Program. \\nThe multidisciplinary colorectal database will capture all incoming new patients in the disciplines of surgery, radiation oncology, pathology, gastroenterology, and medical oncology.  The database will serve to capture medical information of interest to support colorectal cancer research.\\nKey Functions of the Research Data Coordinator\\n\\n\\nEvaluate incoming colorectal cancer patients as possible candidates for acquisition of tissue specimen collection for colorectal database.  Obtaining patient consent for participation in the database.  \\n\\nReview existing medical history in the electronic medical record system (Clinic Station) and any outside records for pertinent information pertaining to colorectal database and implementing them into the database.   \\n\\nResponsible for the patient’s completion of data forms, patient surveys and other collected information.  \\n\\nCoordinate the data collection by interacting with the multi-disciplinary team, i.e., GI surgery, endoscopy, radiation oncology, and pathology department. Perform sequential follow up. \\n\\nResponsible for maintaining an accurate database. Coordinates the control of paper flow for protocols and patient survey data for entry into the database.  \\n\\nDevelops and maintains a processing and tracking systems for all related paperwork. A basic knowledge of medical terminology is required.  \\n\\nReviews patient eligibility of potential study cases with physicians.  Visually reviews information to be filed in order to classify, file and purge information.  Maintains schedules for timely submission of grant data. May require use of electronic calendars, and/or manual calendars.  Controls randomization of patients.   \\n\\nAttends planning clinics and meetings as required.  Maintains contact with other institutions participating in the studies. \\n\\nOther duties as assigned.\\n\\nJob Description - Requirements   Required\\n\\nHigh school diploma or equivalent' Two years of related experience' May substitute required experience with completed years of college on a one to one basis'\\nPreferred\\nIt is the policy of The University of Texas MD Anderson Cancer Center to provide equal employment opportunity without regard to race, color, religion, age, national origin, sex, gender, sexual orientation, gender identity/expression, disability, protected veteran status, genetic information, or any other basis protected by institutional policy or by federal, state or local laws unless such distinction is required by law. http://www.mdanderson.org/about-us/legal-and-policy/legal-statements/eeo-affirmative-action.html\\n\\nPivotal Position   No\\n\\n*Coord, Research Data*\\n*14722BR*\\n*Houston\", 'Requisition ID   10169BR\\n\\nJob Title   Data Analyst\\n\\nGroup   MedSurg and Neurotech\\n\\nDivision   Endoscopy\\n\\nBusiness Unit   Communications\\n\\nBusiness Function   Finance\\n\\nCountry   United States\\n\\nState/Province   TX\\n\\nCity   Flower Mound\\n\\nEmployment Category   Full Time\\n\\nPercent Travel Required   Up to 10%\\n\\nShift   1st\\n\\nAbout Stryker   Stryker is one of the world’s leading medical technology companies and together with our customers, we are driven to make healthcare better. The Company offers a diverse array of innovative medical technologies, including reconstructive, medical and surgical, and neurotechnology and spine products to help people lead more active and more satisfying lives. Stryker products and services are available in over 100 countries. All qualified applicants will receive consideration for employment without regard to race, ethnicity, color, religion, sex, gender identity, sexual orientation, national origin, disability, or protected veteran status. Stryker is an EO employer – M/F/Veteran/Disability.\\n\\nJob Description / Information   Basic Function\\n\\n·  Responsibilities and activities include\\n\\nanalysis and design of data, defining and achieving efficiencies in data\\n\\nmanagement and utilization through data quality and maintenance. Develop\\n\\nanalysis and reporting capabilities, and continuously monitor performance and\\n\\nquality control plans to identify improvements.\\nResponsibilities\\n\\n·  Understand\\n\\ntables, schemas, and stored procedures related to assigned business\\n\\nprocesses.\\n\\n·  Interpret\\n\\ndata, analyze results using statistical techniques and provide ongoing\\n\\nreports.\\n\\n·  Develop\\n\\nand implement data collection systems and other strategies that optimize\\n\\nstatistical efficiency and data quality.\\n\\n·  Identify,\\n\\nanalyze and interpret trends or patterns in complex data sets. \\n\\n·  Assuring\\n\\nthe integrity of project data, including data extraction, storage,\\n\\nmanipulation, processing and analysis.\\n\\n·  Collecting\\n\\nand collating appropriate data for usage and conducting related research.\\n\\n·  Responsible\\n\\nfor administration, database design, security and maintenance.\\n\\n·  Analyzing\\n\\ndata with standard statistical methods, interpreting the results and\\n\\nproviding written summary of data analysis.\\n\\n·  Participation\\n\\nin ongoing decisions concerning data collections, methodology and data\\n\\nanalysis.\\n\\n·  Coding\\n\\naccurately variables from original information or data and completing\\n\\nstatistical analyses as required.\\n\\n·  Work\\n\\nclosely with business leaders to prioritize business and information needs.\\n\\n·  Manage\\n\\nMaster Data systems and data migration\\n\\n·  Other\\n\\nduties as assigned.\\n\\n\\n\\nPhysical Requirements\\n\\n·  Sedentary work: exerting up to 10 pounds of force\\n\\noccasionally and/or a minimal amount of force frequently or constantly to\\n\\nlift, carry, etc. Generally involves\\n\\nsitting most of the time.\\n\\n\\n\\nMental Requirements\\n\\n·  Exceptional\\n\\nanalytical and critical thinking skills.\\n\\n·  Able\\n\\nto develop and explain detailed proposals, guidelines and procedures.\\n\\n\\n\\nMinimum Qualifications   Skills/Experience Required\\n\\n·  3-5\\n\\nyears experience as data analyst or related position.\\n\\n·  Adept\\n\\nat queries, report writing and presenting findings.\\n\\n·  Strong\\n\\nanalytical skills with the ability to collect, organize, analyze and\\n\\ndisseminate significant amounts of information with attention to details and\\n\\naccuracy.\\n\\n·  Knowledge\\n\\nof statistics and experience using statistical reporting packages for\\n\\nanalyzing large data sets.\\n\\n·  Strong\\n\\nknowledge of and experience with reporting packages, databases and\\n\\nprogramming.\\n\\n·  Technical\\n\\nexpertise regarding data models, database design development, data mining and\\n\\nsegmentation techniques.\\n\\n\\n\\nEducation/Training Required\\n\\n·  Oracle\\n\\ncertification preferred\\n\\n·  Technical\\n\\nCollege degree, B.A. or B.S., preferably in business, mathematics, finance,\\n\\ncomputer science or related discipline.', \"Position Description:If you want to achieve more in your mission of health care, you have to be really smart about the business of health care.\\n\\nChallenge yourself, your peers and our industry by shaping what health care looks like and doing your life's best work.Positions in this function include operating data entry devices to perform a variety of data entry duties across functions including Claims and Network Operations.\\n\\nLead role may include review and verification of work of lower level employees. Required Qualifications:High School Diploma or GED1+ years of experience with computers and Windows PC applications (this includes the ability to learn new and complex computer system application)1+ years of experience working in a professional environmentAbility to process 55+ Claims per hourAbility to work within strenuous turnaround times and productivity requirements while maintaining quality standardsCareers at UnitedHealthcare Employer & Individual. We all want to make a difference with the work we do.\\n\\nSometimes we're presented with an opportunity to make a difference on a scale we couldn't imagine.\\n\\nHere, you get that opportunity every day.\\n\\nAs a member of one of our elite teams, you'll provide the ideas and solutions that help nearly 25 million customers live healthier lives.\\n\\nYou'll help write the next chapter in the history of health care.\\n\\nAnd you'll find a wealth of open doors and career paths that will take you as far as you want to go.\\n\\nGo further.\\n\\nThis is your life's best work.Diversity creates a healthier atmosphere: All qualified applicants will receive consideration for employment without regard to race, color, religion, sex, age, national origin, protected veteran status, disability status, sexual orientation, gender identity or expression, marital status, genetic information, or any other characteristic protected by law.UnitedHealth Group is a drug-free workplace.\\n\\nCandidates are required to pass a drug test before beginning employment. 80be6f10-ad63-45a4-bf43-d58c0d84fc62\\n\\n*Senior Data Entry Clerk - Plano, TX*\\n*Texas-Plano*\\n*632695*\", 'The Cassandra Database Engineer will help manage our ever-growing data stores. You will ensure that our Cassandra clusters are fully monitored and always available, and you will work closely with the Development and Operations teams to understand load requirements in order to adequately scale the clusters and stay ahead of demand. In additional to normal database operations, you will be responsible for maintaining a backup/recovery process, and you will periodically test that process to ensure smooth transitions in the case of a database failure. Finally, the Cassandra Database Engineer should keep abreast of software updates and methodically review updates prior to executing non-intrusive rolling upgrades in production. What You Must Do To Be Successful In This Position: Constantly monitor database performance and proactively take steps to make improvements Work closely with Development and Operations to ensure that database load is managed Keep production database servers operational with adequate failover, backup, and recovery plans What Skills & Experience Wed Like You To Have: Deep knowledge working with Apache Cassandra (Development and/or Administration). Experience in other NoSQL database technologies is a plus. A good understanding of RDBMS technologies like MySQL or PostgreSQL The ability to install, troubleshoot, and maintain various databases A bachelors degree in computer science or a related field (preferred, not required)\\n\\nWith more than 100 locations worldwide, Robert Half Technology is a leading provider of IT professionals on a project and full-time basis for initiatives ranging from web development and systems integration to network security and technical support. Through our alliances with industry-leading organizations such as HDI® and the Microsoft® Partner program, we have access to client companies that other staffing firms don\\'t. In addition to our free job search services, we provide our candidates with access to free online technical training and a competitive benefits and compensation package.\\n\\nIn 2015, our company once again was named to FORTUNE® magazine\\'s list of \"World\\'s Most Admired Companies.\" (March 1, 2015).\\n\\nApply for this job now or contact our branch office at 1.800.793.5533 to learn more about this position.\\n\\nAll applicants applying for U.S. job openings must be authorized to work in the United States. All applicants applying for Canadian job openings must be authorized to work in Canada.\\n\\nEqual Opportunity Employer M/F/Disability/Vet\\n\\nBy clicking \\'Apply Now\\' you are agreeing to Robert Half Terms of Use\\n\\n*Req ID:* 04160-124582\\n\\n\\n*Functional Role:* Database Developer\\n\\n\\n*Country:* USA\\n\\n\\n*State:* TX\\n\\n\\n*City:* Austin\\n\\n\\n*Postal Code:* 78703\\n\\n\\n*Compensation:* $63,287.99 to $130,000.00 per year\\n\\n\\n*Requirements:* Intermediate Database Creations, Intermediate Database monitoring, None, None None.', 'Database administrator with the Plant Engineering group responsible for metric reporting to the senior Facilities leadership team. Will utilize existing reporting protocol as well as develop new reports as required from Maximo - the system of record for the Plant Engineering function.\\n\\nBasic Qualifications\\n-4+ years experience in developing reports utilizing SQL (primarily Oracle, MS SQL). -1 to 5 years of coding/development experience with report writers: SQRW, BIRT, Actuate, and Crystal. -2+ years experience with Maximo implementation, configuration and working with a Maximo database model. -Must be a US Citizen or legally authorized to work in US as a permanent resident. This position is located at a facility that requires special access.\\n\\nDesired skills\\nProblem solving including analysis and issue resolution Ability to evaluate existing report against reporting requirements Ability to convert reports between different reporting tools such as SQRW or Actuate to BIRT. Understanding of a multi-functional maintenance organization. Ability to provide reporting training to end users, developers, administrators,and departmental leadership.\\n\\nAs a leading technology innovation company, Lockheed Martin’s vast team works with partners around the world to bring proven performance to our customers’ toughest challenges. Lockheed Martin has employees based in many states throughout the U.S., and Internationally, with business locations in many nations and territories.\\n\\nJoin us at Lockheed Martin, where we’re engineering a better tomorrow.\\n\\n*Lockheed Martin is an Equal Opportunity/Affirmative Action Employer. All qualified applicants will receive consideration for employment without regard to race, color, religion, sex, pregnancy, sexual orientation, gender identity, national origin, age, protected veteran status, or disability status.*\\n\\nJob Location(s): Fort Worth Texas', 'This new position related to the intensive BigData infrastructure growth.\\n\\n \\n\\nReporting to the Global L3 Unix Infrastructure Support Manager.  Individuals mapped to this family are responsible for user support in all areas of Unix Infrastructure, including maintenance, technical guidance and security.   Maybe responsible for the specifications and utilization of applications, hardware/software, security analysis and infrastructure projects. Responsible for ensuring that all systems/applications/software/hardware are compliant to Corporate policy/procedures. Handles all system-related problems and provides support to users as needed. Individuals in this family may provide a broad range of technological support for deployment, maintenance and troubleshooting on Infrastructure servers. \\n\\n \\n\\nIndividuals will be required to provide 24-hour on-call support on a rotational basis.  They may also be responsible for the creation of and follow up on problem tickets/changes associated with hardware, software, systems and/or other types of issues.  May also be involved in documentation of supported systems and related procedures and may participate in COB technical recovery planning and testing. May also interface with other technology areas to ensure that the support requirements for new/enhanced operating systems and programs are met.\\n\\n \\n\\nThe candidate would be responsible for providing level 3 support for infrastructure servers globally.  The candidate would be responsible for resolving server issues at a higher level, being on a team that is a point of escalation for the level 1 & 2 teams.\\n\\n \\n\\nA level 3 technical resource, will be required to:\\n\\n • Develop strategic and tactical solutions that allow the team to be successful in meeting the goals and expectations\\n\\n • Manage the technical deliverables for projects to high quality standards. Including the implementation of new technologies into HIAGUI environments.\\n\\n • Undertake end-to-end technology reviews, ensuring existing and new configurations meet the current and future business needs and corporate policy standards\\n\\n • SAN storage set-up & testing.\\n\\n • Clusters maintenance and configuration\\n\\n • Accountable for root cause analysis for Severity 1, Severity 2 and chronic recurring incidents impacting the relevant technology, troubleshooting and problem solving\\n\\n • System operating tuning.\\n\\n • Customer liaison and meetings,\\n\\n • Provide assistance and guidance to clients and CTI partners in accordance to Citi policies and standards,\\n\\n • Collaborate with partner technology teams to cost effectively manage capacity while ensuring no capacity related outages.\\n\\n • Provide technical expertise during internal & external audits.\\n\\n • Monitoring of the server environment and its capacity planning,\\n\\n • Tight control of the environment including conformance with standard controls checks and procedures.\\n\\n • COB testing and documentation.\\n\\n • Production Handover.\\n\\n • leading BAU projects\\n\\n The role may include some overseas travel Opportunity for gaining experience in an international corporation and technical knowledge from the Unix area and variety of new technologies.\\n\\n  \\n  \\n\\n • 5 years experience of Unix Systems Administration. The knowledge must be at least at a certifiable level in AIX and RedHat.\\n\\n • 5 years of RedHat and AIX operating systems and associated tools.\\n\\n • The awareness of BigData solutions like Hadoop will be important asset.\\n\\n • The knowledge of Solaris System Administrator at a certificate level is desirable\\n\\n • Analytical and methodical approach to problem solving.\\n\\n • Knowledge of HP, IBM, Oracle hardware up to enterprise level.\\n\\n • Knowledge of the virtual environments: Vmware or IBM WPARs, Solaris local zones\\n\\n • Knowledge and understanding of SSH Tectia service.\\n\\n • Awareness of Oracle RAC will be a significant advantage\\n\\n • Experience of customer support in a time-critical environment\\n\\n • Experience of a financial services environment highly desirable,\\n\\n • Experience of working in a heavily controls-focused environment highly desirable.\\n\\n • Standard office automation products (Word, Excel, Outlook)\\n\\n • Excellent communication (both written and verbal) and customer care skills\\n\\n • TCP/IP and networking experience\\n\\n • Perl and shell-scripting skills\\n\\n • Should know Veritas products suite including Volume Manager and Cluster Server\\n\\n • Knowledge and understanding of naming services such as LDAP\\n\\n • Ability to remain calm and objective in a high-pressure environment\\n\\n • Must have strong self-management and be ready to use own initiative\\n\\n • Must be a strong team-player and collaborator\\n\\n • Must learn fast to be able to handle very quickly the responsibility for the whole HIA Global Unix Infrastructure L3 estate\\n\\n • Knowledge of Citi infrastructure tools is desirable\\n\\n • Knowledge of middleware services (weblogic, websphere, MQ) will be an asset.\\n\\n • • ITIL v3 qualified\\n\\n \\n\\nBachelor’s Degree or equivalent experience required.\\n\\n \\n\\nThis position is local to Irving.  Relocation is not budgeted for this position. Candidates outside of the area must be able to relocate themselves.\\n\\n  \\n  \\n**Job:** **Technology*  \\n  \\n  \\n**Title:** *Senior Linux and AIX System Administrator L3 related to the intensive BigData infrastructure growth*  \\n  \\n**Location:** *NAM-TX-Irving*  \\n  \\n**Requisition ID:** *16000160*', \"Data Entry Clerk\\n  \\n**Location:**\\n  \\nDallas, TX\\n  \\n**Salary:**\\n  \\nUS$ 13\\\\.35 per hour\\n  \\n**Date Posted:**\\n  \\nMonday, January 4, 2016\\n  \\n**Job Type:**\\n  \\nTemp to Perm\\n  \\n**Reference \\\\#:**\\n  \\nS\\\\_388383\\n  \\n**Questions?**\\n  \\njason\\\\.padeway@randstadusa\\\\.com\\n  \\n972/764\\\\-2323\\n  \\n**Specialty:**\\n  \\nRandstad USA Administration\\n  \\n## Description\\n  \\nRandstad is seeking a Mortgage Data Entry Clerk for a large financial institution in Southwest Dallas towards Grand Prairie\\\\.\\n  \\nIn a Fast Paced Warehouse Production Environment\\n  \\n\\\\- 2\\\\-3 years of recent Mortgage Industry experience is preferred\\n  \\n\\\\- 2\\\\-3 experience in a client support role preferred\\n  \\n\\\\- Excellent overall keyboard skills\\n  \\n\\\\- Strong Excel skills\\n  \\n\\\\- Excellent communication skills both written and verbal\\n  \\n\\\\- 2\\\\-3 experience in critical thinking/problem solving and client service preferred\\n  \\n\\\\- Long periods of desk time \\\\(sit down\\\\) processing\\n  \\n\\\\- Ability to read and match numbers, letters and specific data on documents / files \\\\(great attention to detail\\\\)\\n  \\n\\\\- Ability to multitask in an environment of shifting priorities\\n  \\n\\\\- Experience in a production based, goal oriented environment\\n  \\n\\\\- The ability to produce both timely and quality results\\n  \\n\\\\- Ability to work on Saturdays or OT hours on short notice\\n  \\n\\\\- Team orientation\\n  \\n\\\\- Excellent timeliness and attendance is required\\n  \\n\\\\- Handling and resolving client inquiries via mailboxes and Agency 800 lines\\n  \\n\\\\- Complex research problem solving and follow up / closure communication to clients\\n  \\nWorking hours: 8am\\\\-6pm M\\\\-F\\n  \\nSkills:\\n  \\nFull Time, Day Shift, Schedules between 8AM\\\\-6PM, M\\\\-F\\n  \\nPay Rate $13\\\\.35/HR\\n  \\nPlease send resume NO CALLS will be accepted\\\\.\\n  \\nRandstad is a world leader in matching great people with great companies\\\\.  Our experienced agents will listen carefully to your employment needs and then work diligently to match your skills and qualifications to the right job and company\\\\.  Whether you're looking for temporary, temporary\\\\-to\\\\-permanent or permanent opportunities, no one works harder for you than Randstad\\\\.  EEO Employer: Race, Religion, Color, National Origin, Citizenship, Sex, Age, Disability, Ancestry, Veteran Status, Genetic Information, Service in the Uniformed Services or any other classification protected by law\\\\.\", \"/Your Talent. Our Vision.*At Anthem, Inc.,*it’s a powerful combination, and the foundation upon which we’re creating greater care for our members, greater value for our customers, and greater health for our communities. Join us and together we will*drive the future of health care*./\\n/ /\\n/This is an exceptional opportunity to do innovative work that means more to you and those we serve at one of America's leading health benefits companies and a Fortune Top 50 Company./\\n \\n/As a member of the Government Business Division,*Maternal Child Services*Corporate team the successful individual will work collaboratively with Healthcare Economics, Clinical Systems and Reporting and 20 State Health Plans to provide valuable reporting tools and analytics relating to cost, utilization, operational and quality outcomes.  With a keen understanding of multiple existing Anthem systems (WMDS, WGS, HRS, FACETS, etc.), data warehouses and each state’s operational needs, produce a monthly Dashboard report as well as ad hoc reports to describe Member, Provider and Operational outcomes to the executive team and state governments.  Work collaboratively with other analytics corporate departments such as Healthcare Economics, Clinical Systems & Reporting, and Quality to create consistency in reporting tools and measure definitions. /\\n \\n \\n \\n*Business Information Consultant (Maternal Child Services*Reporting and Data Analysis*)*\\n \\n*Location:*  Any US  Location\\n \\nResponsible for serving as an expert in data analysis, reporting and formulating recommendations and providing guidance to other data analysts. Focuses efforts on lowering maternity claims costs and improving the quality of care. Provides expert advice, analytic and consultative support to Maternal Child Services Medical Directors and management on maternity cost issues. \\n \\nPrimary duties may include, but are not limited to:\\n \\n  \\n  \\n  * Creates and maintains databases to track business performance.\\n  * Analyzes data and summarizes performance using summary statistical procedures. Types of analyses include performing sophisticated retrospective maternal data analytics; performing healthcare cost analysis to identify maternity strategies to control costs; projecting cost increases in medical services by using analytic techniques for maternity PMPM trending;  measuring and evaluating the cost impact of various negotiation affecting maternity; identifies cost of care savings opportunities by analyzing practice patterns in relation to OB office visits; reviews results post-implementation to ensure projected cost savings are realized and recommends modifications as applicable.\\n  * Develops and analyzes business performance reports (e.g. for claims data, provider data, utilization data) and provides notations of performance deviations and anomalies.\\n  * Creates and publishes periodic reports, as well as any necessary ad hoc reports.\\n  * May require taking business issue and devising best way to develop appropriate diagnostic and/or tracking data that will translate business requirements into usable decision support tools.\\n  *  May make recommendations based upon data analysis. Provides analytic consultation to other business areas, leadership or external customers.\\n  *  Data analysis and reporting encompasses a much higher level of complexity.\\n  *  Acts as a source of direction, training and guidance for less experienced staff.\\n  \\n  \\nRequires a BS/BA degree in related field (degree in Mathematics or Statistics strongly preferred); minimum of 5 years experience preferably with experience in broad-based analytical, managed care payor; statistical analysis and familiarity with healthcare modeling; or any combination of education and experience, which would provide an equivalent background.  Master’s degree preferred.  Experience with relational databases and knowledge of query tools and statistical software is required. Ability to manipulate large sets of data. Strong analytical, organizational, presentation, and problem solving skills. This job is more focused on higher level technical expertise, mentoring staff in lower job levels, more customer facing, higher level of collaboration, work is higher volume and/or higher risk, and modeling as compared to the Bus Info Analyst Sr job.\\n \\n  \\n  \\n  * Experience with relational databases and knowledge of query tools and statistical software (SAS and/or SQL) is required.\\n  * Ability to manipulate large sets of data is also required.\\n  * Experience providing leadership in evaluating financial performance of complex organizations required.\\n  * Clinical knowledge of Maternal Child Health related services is not required.\\n  * Excellent leadership, analytical, problem solving, organizational, planning, presentation and interpersonal skills are required\\n\\nPreferred\\n  \\n  \\n  * Managed care industry experience\\n  * Working knowledge of Medicaid business\\n  * Familiarity with claims with the ability to interpret and analyze financial claims data\\n \\n*/Anthem, Inc. is ranked as one of America’s Most Admired Companies among health insurers by Fortune magazine and is a 2014 DiversityInc magazine Top 50 Company for Diversity. To learn more about our company and apply, please visit us at antheminc.com/careers . EOE. M/F/Disability/Veteran./*\\n  \\n  \\n**Job** *Reporting & Data Analysis*  \\n  \\n**Title:** *Business Information Consultant (Maternal Child Services Reporting and Data Analysis - Financial Analysis experience preferred) 108531*  \\n  \\n**Location:** *TX-Denison*  \\n  \\n**Requisition ID:** *108531*\", '**Description:**  \\nProduction Services is responsible for running the day to day operations of the technology platform. Work activities specific to Production Services roles include Problem/Incident Management, Release/Deployment, Operational Readiness, Capacity/Availability Management, Application Monitoring, Service Analytics and Reporting, Production Governance, Triage, Associate Support, Change/Configuration Management, etc. The Production Services Lead identifies possible production failure scenarios, creates incident tickets, enhancements and/or problem tickets in ticket tracking system, and communicates effectively with development and internal business operations teams. Identifies vulnerabilities and opportunities for improvement, as well as maintain metrics to help develop analysis that will drive improvement in all areas of Production Services. Creates and enhances administrative, operational and technical policies and procedures, adopting best practice guidelines, standards and procedures. Takes ownership of escalations and perform trouble shooting, analysis, research and resolution using advanced query and programming skills. Performs analytical, technical, and administrative work in planning, installing, designing and supporting new and existing equipment and software under moderate supervision. Resolves complex issues. Consults with end users to determine optimal configuration of equipment and applications. Works on problems of minimal-moderate scope where analysis of situation or data requires a review of identifiable factors. Exercises judgment within defined procedures and practices to determine appropriate action. Should have increased awareness and exposure to basic technical principles, concepts and techniques. May provide coaching and mentoring for other employees but does not directly manage others. Initiates and provides leadership, strategic/tactical direction and planning input on all information technology and client/business area issues and in the development of an technology environment which meets current and anticipated business requirements and objectives. Participates with management in the development of technology products, service standards and development efforts that impact the client/business area. Serves as an escalation point between the client/business area and internal management for the resolution of moderately complex unresolved problems, complaints and service requests. Provides the client areas with technology products and service alternatives that improve the production services environment. Employees in this job code manage a function but do not manage people.  \\n  \\n**Qualifications:**  \\n\\n Required Skills and Experience: \\n\\n  *   years of IT experience including: SQL coding and understanding of ETL best practices, Release 14 or newer of the Teradata Software Release, Teradata Certified Architect for Release 12 or newer, Technical SQL expertise in writing and teaching efficient use of Teradata SQL, experience using and analyzing Performance Statistics from the Teradata PDCR Database, experience with Utilities and DBA and Developer tools available for the Teradata System. This includes MultiLoad, FastLoad, FastExport, TPT, BTEQ, TPump, Teradata Administrator 14, Teradata Viewpoint 15, SQL Assistant, Teradata Studio, Visual Explain, Index and Statistics Wizard 14.10, TASM. \\n  *  Perform architecture reviews to ensure proper Database/Table design and indexing selection.  \\n  *  Experience with HADOOP and DMX Express and the ability to participate in analyzing the Hadoop/DM-h ETL Migration. \\n  *  Ability to identify and provide the solution for the top consuming operations and to reduce the total cost of application by improving efficiency. \\n  *  Must be a team player and self-starter with effective communication skills across all verticals who is motivated, innovative, capable of handling a team, providing technical solutions and be flexible in work hours. \\n  *  Bachelor’s degree in Computer Science. \\n  \\n\\n . \\n\\n Desired Skills and Experience: \\n\\n  *  Exposure to Banking and financial industry. \\n  \\n  \\n**Job:** TF-Technology Service Delivery  \\n**Primary Location:** US-TX-Plano  \\n**Site Name:** TX2-981-05-07  \\n**Street Address:** 7105 CORPORATE DR  \\n**City:** Plano  \\n**Zip:** 75024  \\n**Organization:** 4439529-GLOBAL DELIVERY CENTER OF EXPERTISE VS  \\n**Travel:** No  \\n**Job Posting Date:** Jan 5, 2016  \\n**Unposting Date:** Feb 16, 2016  \\n**Full/Part-time:** Fulltime  \\n**Hours Per Week:** 40.00  \\n**Shift:** 1st Shift  \\n**Req ID:** 1500054936']\n"
          ]
        }
      ],
      "source": [
        "import pandas as pd\n",
        "df = pd.read_csv('/content/drive/MyDrive/LAiSERFiles/nlx_tx_sample_data_gwu.csv')\n",
        "\n",
        "# Extract the 'description' column and convert it to a list of strings\n",
        "text_list = df['description'].tolist()\n",
        "\n",
        "# Print the list of texts\n",
        "print(text_list)\n"
      ]
    },
    {
      "cell_type": "code",
      "execution_count": 5,
      "metadata": {
        "id": "7WrbHp3xcvdu"
      },
      "outputs": [],
      "source": [
        "import torch\n",
        "\n",
        "def get_completion_batch(queries: list, model, tokenizer, batch_size=2) -> list:\n",
        "    device = \"cuda:0\"\n",
        "    results = []\n",
        "\n",
        "    prompt_template = \"\"\"\n",
        "    <start_of_turn>user\n",
        "    Name all the skills present in the following description in a single list. Response should be in English and have only the skills, no other information or words. Skills should be keywords, each being no more than 3 words.\n",
        "    Below text is the Description:\n",
        "\n",
        "    {query}\n",
        "    <end_of_turn>\\n<start_of_turn>model\n",
        "    \"\"\"\n",
        "\n",
        "    for i in range(0, len(queries), batch_size):\n",
        "        batch = queries[i:i+batch_size]\n",
        "        prompts = [prompt_template.format(query=query) for query in batch]\n",
        "\n",
        "        encodeds = tokenizer(prompts, return_tensors=\"pt\", add_special_tokens=True, padding=True, truncation=True)\n",
        "        model_inputs = encodeds.to(device)\n",
        "\n",
        "        with torch.no_grad():\n",
        "            generated_ids = model.generate(**model_inputs, max_new_tokens=1000, do_sample=True, pad_token_id=tokenizer.eos_token_id)\n",
        "\n",
        "        decoded = tokenizer.batch_decode(generated_ids, skip_special_tokens=True)\n",
        "\n",
        "        for full_output in decoded:\n",
        "            # Extract only the model's response\n",
        "            response = full_output.split(\"<start_of_turn>model\")[-1].strip()\n",
        "            results.append(response)\n",
        "\n",
        "        # Clear CUDA cache after each batch\n",
        "        torch.cuda.empty_cache()\n",
        "\n",
        "        print(f\"Processed batch {i//batch_size + 1}/{(len(queries)-1)//batch_size + 1}\")\n",
        "\n",
        "    return results"
      ]
    },
    {
      "cell_type": "code",
      "execution_count": null,
      "metadata": {
        "colab": {
          "base_uri": "https://localhost:8080/"
        },
        "id": "Seprh58nc60Q",
        "outputId": "3d774c58-e958-4e83-f238-f06647a3d0d3"
      },
      "outputs": [
        {
          "name": "stderr",
          "output_type": "stream",
          "text": [
            "Asking to truncate to max_length but no maximum length is provided and the model has no predefined maximum length. Default to no truncation.\n",
            "A decoder-only architecture is being used, but right-padding was detected! For correct generation results, please set `padding_side='left'` when initializing the tokenizer.\n",
            "A decoder-only architecture is being used, but right-padding was detected! For correct generation results, please set `padding_side='left'` when initializing the tokenizer.\n"
          ]
        },
        {
          "name": "stdout",
          "output_type": "stream",
          "text": [
            "Processed batch 1/25\n"
          ]
        },
        {
          "name": "stderr",
          "output_type": "stream",
          "text": [
            "A decoder-only architecture is being used, but right-padding was detected! For correct generation results, please set `padding_side='left'` when initializing the tokenizer.\n"
          ]
        },
        {
          "name": "stdout",
          "output_type": "stream",
          "text": [
            "Processed batch 2/25\n"
          ]
        },
        {
          "name": "stderr",
          "output_type": "stream",
          "text": [
            "A decoder-only architecture is being used, but right-padding was detected! For correct generation results, please set `padding_side='left'` when initializing the tokenizer.\n"
          ]
        },
        {
          "name": "stdout",
          "output_type": "stream",
          "text": [
            "Processed batch 3/25\n"
          ]
        },
        {
          "name": "stderr",
          "output_type": "stream",
          "text": [
            "A decoder-only architecture is being used, but right-padding was detected! For correct generation results, please set `padding_side='left'` when initializing the tokenizer.\n"
          ]
        },
        {
          "name": "stdout",
          "output_type": "stream",
          "text": [
            "Processed batch 4/25\n"
          ]
        },
        {
          "name": "stderr",
          "output_type": "stream",
          "text": [
            "A decoder-only architecture is being used, but right-padding was detected! For correct generation results, please set `padding_side='left'` when initializing the tokenizer.\n"
          ]
        },
        {
          "name": "stdout",
          "output_type": "stream",
          "text": [
            "Processed batch 5/25\n"
          ]
        },
        {
          "name": "stderr",
          "output_type": "stream",
          "text": [
            "A decoder-only architecture is being used, but right-padding was detected! For correct generation results, please set `padding_side='left'` when initializing the tokenizer.\n"
          ]
        },
        {
          "name": "stdout",
          "output_type": "stream",
          "text": [
            "Processed batch 6/25\n"
          ]
        },
        {
          "name": "stderr",
          "output_type": "stream",
          "text": [
            "A decoder-only architecture is being used, but right-padding was detected! For correct generation results, please set `padding_side='left'` when initializing the tokenizer.\n"
          ]
        },
        {
          "name": "stdout",
          "output_type": "stream",
          "text": [
            "Processed batch 7/25\n"
          ]
        }
      ],
      "source": [
        "raw_extracts = get_completion_batch(text_list, model, tokenizer)\n",
        "\n",
        "\n",
        "print(raw_extracts[0])\n"
      ]
    },
    {
      "cell_type": "code",
      "execution_count": 6,
      "metadata": {
        "id": "Yat51BjJcRKN"
      },
      "outputs": [],
      "source": [
        "import re\n",
        "\n",
        "def fetch_model_output(response):\n",
        "    # Find the content between the model start tag and the last <eos> tag\n",
        "    pattern = r'<start_of_turn>model\\s*<eos>(.*?)<eos>\\s*$'\n",
        "    match = re.search(pattern, response, re.DOTALL)\n",
        "\n",
        "    if match:\n",
        "        content = match.group(1).strip()\n",
        "\n",
        "        # Split the content by lines and filter out empty lines\n",
        "        lines = [line.strip() for line in content.split('\\n') if line.strip()]\n",
        "\n",
        "        # Extract skills (lines starting with '-')\n",
        "        skills = [line[1:].strip() for line in lines if line.startswith('-')]\n",
        "\n",
        "        return skills"
      ]
    },
    {
      "cell_type": "code",
      "execution_count": null,
      "metadata": {
        "colab": {
          "base_uri": "https://localhost:8080/"
        },
        "id": "sUrTm4Qs2HFO",
        "outputId": "413fafbd-b205-4617-a69a-d9d19516814e"
      },
      "outputs": [],
      "source": [
        "response = raw_extracts[0]\n",
        "print(response)"
      ]
    },
    {
      "cell_type": "code",
      "execution_count": 7,
      "metadata": {
        "colab": {
          "base_uri": "https://localhost:8080/",
          "height": 186
        },
        "id": "32uVe5nocs2Z",
        "outputId": "b79e2259-7119-4bb5-df4d-fce6abdbd676"
      },
      "outputs": [
        {
          "data": {
            "text/html": [
              "<div style=\"max-width:800px; border: 1px solid var(--colab-border-color);\"><style>\n",
              "      pre.function-repr-contents {\n",
              "        overflow-x: auto;\n",
              "        padding: 8px 12px;\n",
              "        max-height: 500px;\n",
              "      }\n",
              "\n",
              "      pre.function-repr-contents.function-repr-contents-collapsed {\n",
              "        cursor: pointer;\n",
              "        max-height: 100px;\n",
              "      }\n",
              "    </style>\n",
              "    <pre style=\"white-space: initial; background:\n",
              "         var(--colab-secondary-surface-color); padding: 8px 12px;\n",
              "         border-bottom: 1px solid var(--colab-border-color);\"><b>torch.cuda.memory.empty_cache</b><br/>def empty_cache() -&gt; None</pre><pre class=\"function-repr-contents function-repr-contents-collapsed\" style=\"\"><a class=\"filepath\" style=\"display:none\" href=\"#\">/usr/local/lib/python3.10/dist-packages/torch/cuda/memory.py</a>Release all unoccupied cached memory currently held by the caching\n",
              "allocator so that those can be used in other GPU application and visible in\n",
              "`nvidia-smi`.\n",
              "\n",
              ".. note::\n",
              "    :func:`~torch.cuda.empty_cache` doesn&#x27;t increase the amount of GPU\n",
              "    memory available for PyTorch. However, it may help reduce fragmentation\n",
              "    of GPU memory in certain cases. See :ref:`cuda-memory-management` for\n",
              "    more details about GPU memory management.</pre>\n",
              "      <script>\n",
              "      if (google.colab.kernel.accessAllowed && google.colab.files && google.colab.files.view) {\n",
              "        for (const element of document.querySelectorAll('.filepath')) {\n",
              "          element.style.display = 'block'\n",
              "          element.onclick = (event) => {\n",
              "            event.preventDefault();\n",
              "            event.stopPropagation();\n",
              "            google.colab.files.view(element.textContent, 150);\n",
              "          };\n",
              "        }\n",
              "      }\n",
              "      for (const element of document.querySelectorAll('.function-repr-contents')) {\n",
              "        element.onclick = (event) => {\n",
              "          event.preventDefault();\n",
              "          event.stopPropagation();\n",
              "          element.classList.toggle('function-repr-contents-collapsed');\n",
              "        };\n",
              "      }\n",
              "      </script>\n",
              "      </div>"
            ],
            "text/plain": [
              "<function torch.cuda.memory.empty_cache() -> None>"
            ]
          },
          "execution_count": 7,
          "metadata": {},
          "output_type": "execute_result"
        }
      ],
      "source": [
        "torch.cuda.empty_cache"
      ]
    },
    {
      "cell_type": "code",
      "execution_count": null,
      "metadata": {
        "id": "S9-Wgc9C1fO3"
      },
      "outputs": [],
      "source": []
    }
  ],
  "metadata": {
    "accelerator": "GPU",
    "colab": {
      "gpuType": "T4",
      "provenance": []
    },
    "kernelspec": {
      "display_name": "Python 3",
      "name": "python3"
    },
    "language_info": {
      "name": "python"
    },
    "widgets": {
      "application/vnd.jupyter.widget-state+json": {
        "08ac76f2e31e42d38fb0afd16db8149f": {
          "model_module": "@jupyter-widgets/controls",
          "model_module_version": "1.5.0",
          "model_name": "ButtonModel",
          "state": {
            "_dom_classes": [],
            "_model_module": "@jupyter-widgets/controls",
            "_model_module_version": "1.5.0",
            "_model_name": "ButtonModel",
            "_view_count": null,
            "_view_module": "@jupyter-widgets/controls",
            "_view_module_version": "1.5.0",
            "_view_name": "ButtonView",
            "button_style": "",
            "description": "Login",
            "disabled": false,
            "icon": "",
            "layout": "IPY_MODEL_64ffce6616b747b6942c8f1b1988d89d",
            "style": "IPY_MODEL_63cf78491fdd4fd28e3b01c2a3c27a98",
            "tooltip": ""
          }
        },
        "12b9e0f15e564297ab35036b3fa2fd08": {
          "model_module": "@jupyter-widgets/controls",
          "model_module_version": "1.5.0",
          "model_name": "PasswordModel",
          "state": {
            "_dom_classes": [],
            "_model_module": "@jupyter-widgets/controls",
            "_model_module_version": "1.5.0",
            "_model_name": "PasswordModel",
            "_view_count": null,
            "_view_module": "@jupyter-widgets/controls",
            "_view_module_version": "1.5.0",
            "_view_name": "PasswordView",
            "continuous_update": true,
            "description": "Token:",
            "description_tooltip": null,
            "disabled": false,
            "layout": "IPY_MODEL_17cfff0f23c242218c614fbe7bb6e65f",
            "placeholder": "​",
            "style": "IPY_MODEL_5b03d9256ef64d229adc2aaf1d8d05ba",
            "value": ""
          }
        },
        "14cd29d1a8bf47049c6f2fe8dda4707d": {
          "model_module": "@jupyter-widgets/base",
          "model_module_version": "1.2.0",
          "model_name": "LayoutModel",
          "state": {
            "_model_module": "@jupyter-widgets/base",
            "_model_module_version": "1.2.0",
            "_model_name": "LayoutModel",
            "_view_count": null,
            "_view_module": "@jupyter-widgets/base",
            "_view_module_version": "1.2.0",
            "_view_name": "LayoutView",
            "align_content": null,
            "align_items": "center",
            "align_self": null,
            "border": null,
            "bottom": null,
            "display": "flex",
            "flex": null,
            "flex_flow": "column",
            "grid_area": null,
            "grid_auto_columns": null,
            "grid_auto_flow": null,
            "grid_auto_rows": null,
            "grid_column": null,
            "grid_gap": null,
            "grid_row": null,
            "grid_template_areas": null,
            "grid_template_columns": null,
            "grid_template_rows": null,
            "height": null,
            "justify_content": null,
            "justify_items": null,
            "left": null,
            "margin": null,
            "max_height": null,
            "max_width": null,
            "min_height": null,
            "min_width": null,
            "object_fit": null,
            "object_position": null,
            "order": null,
            "overflow": null,
            "overflow_x": null,
            "overflow_y": null,
            "padding": null,
            "right": null,
            "top": null,
            "visibility": null,
            "width": "50%"
          }
        },
        "154d8868736d49e6bc7ffc03941625be": {
          "model_module": "@jupyter-widgets/controls",
          "model_module_version": "1.5.0",
          "model_name": "DescriptionStyleModel",
          "state": {
            "_model_module": "@jupyter-widgets/controls",
            "_model_module_version": "1.5.0",
            "_model_name": "DescriptionStyleModel",
            "_view_count": null,
            "_view_module": "@jupyter-widgets/base",
            "_view_module_version": "1.2.0",
            "_view_name": "StyleView",
            "description_width": ""
          }
        },
        "17cfff0f23c242218c614fbe7bb6e65f": {
          "model_module": "@jupyter-widgets/base",
          "model_module_version": "1.2.0",
          "model_name": "LayoutModel",
          "state": {
            "_model_module": "@jupyter-widgets/base",
            "_model_module_version": "1.2.0",
            "_model_name": "LayoutModel",
            "_view_count": null,
            "_view_module": "@jupyter-widgets/base",
            "_view_module_version": "1.2.0",
            "_view_name": "LayoutView",
            "align_content": null,
            "align_items": null,
            "align_self": null,
            "border": null,
            "bottom": null,
            "display": null,
            "flex": null,
            "flex_flow": null,
            "grid_area": null,
            "grid_auto_columns": null,
            "grid_auto_flow": null,
            "grid_auto_rows": null,
            "grid_column": null,
            "grid_gap": null,
            "grid_row": null,
            "grid_template_areas": null,
            "grid_template_columns": null,
            "grid_template_rows": null,
            "height": null,
            "justify_content": null,
            "justify_items": null,
            "left": null,
            "margin": null,
            "max_height": null,
            "max_width": null,
            "min_height": null,
            "min_width": null,
            "object_fit": null,
            "object_position": null,
            "order": null,
            "overflow": null,
            "overflow_x": null,
            "overflow_y": null,
            "padding": null,
            "right": null,
            "top": null,
            "visibility": null,
            "width": null
          }
        },
        "239fc539d76c40d59f57553b760c8ef4": {
          "model_module": "@jupyter-widgets/controls",
          "model_module_version": "1.5.0",
          "model_name": "HTMLModel",
          "state": {
            "_dom_classes": [],
            "_model_module": "@jupyter-widgets/controls",
            "_model_module_version": "1.5.0",
            "_model_name": "HTMLModel",
            "_view_count": null,
            "_view_module": "@jupyter-widgets/controls",
            "_view_module_version": "1.5.0",
            "_view_name": "HTMLView",
            "description": "",
            "description_tooltip": null,
            "layout": "IPY_MODEL_6a8b3f12f2da402faaf7bc5ebd83bae8",
            "placeholder": "​",
            "style": "IPY_MODEL_2b58d958594d44f5bad8da9172daeebe",
            "value": "\n<b>Pro Tip:</b> If you don't already have one, you can create a dedicated\n'notebooks' token with 'write' access, that you can then easily reuse for all\nnotebooks. </center>"
          }
        },
        "2446c826e4f1476283d0b399c81486ce": {
          "model_module": "@jupyter-widgets/controls",
          "model_module_version": "1.5.0",
          "model_name": "FloatProgressModel",
          "state": {
            "_dom_classes": [],
            "_model_module": "@jupyter-widgets/controls",
            "_model_module_version": "1.5.0",
            "_model_name": "FloatProgressModel",
            "_view_count": null,
            "_view_module": "@jupyter-widgets/controls",
            "_view_module_version": "1.5.0",
            "_view_name": "ProgressView",
            "bar_style": "success",
            "description": "",
            "description_tooltip": null,
            "layout": "IPY_MODEL_b456f2766ada46e7b1537b6ac0ec27ce",
            "max": 2,
            "min": 0,
            "orientation": "horizontal",
            "style": "IPY_MODEL_eb2b86a4bd3c48659a38c44010ba0b21",
            "value": 2
          }
        },
        "28c58992d54c4ef39e42ccbeca070864": {
          "model_module": "@jupyter-widgets/controls",
          "model_module_version": "1.5.0",
          "model_name": "LabelModel",
          "state": {
            "_dom_classes": [],
            "_model_module": "@jupyter-widgets/controls",
            "_model_module_version": "1.5.0",
            "_model_name": "LabelModel",
            "_view_count": null,
            "_view_module": "@jupyter-widgets/controls",
            "_view_module_version": "1.5.0",
            "_view_name": "LabelView",
            "description": "",
            "description_tooltip": null,
            "layout": "IPY_MODEL_8dff7ef09cb147268b7a32f9ab90e4bd",
            "placeholder": "​",
            "style": "IPY_MODEL_b7e11a24511e4fda8e55ce6d5757642c",
            "value": "Login successful"
          }
        },
        "2b58d958594d44f5bad8da9172daeebe": {
          "model_module": "@jupyter-widgets/controls",
          "model_module_version": "1.5.0",
          "model_name": "DescriptionStyleModel",
          "state": {
            "_model_module": "@jupyter-widgets/controls",
            "_model_module_version": "1.5.0",
            "_model_name": "DescriptionStyleModel",
            "_view_count": null,
            "_view_module": "@jupyter-widgets/base",
            "_view_module_version": "1.2.0",
            "_view_name": "StyleView",
            "description_width": ""
          }
        },
        "2cc7fd758e924772aa025ef9b7e3cac0": {
          "model_module": "@jupyter-widgets/controls",
          "model_module_version": "1.5.0",
          "model_name": "HTMLModel",
          "state": {
            "_dom_classes": [],
            "_model_module": "@jupyter-widgets/controls",
            "_model_module_version": "1.5.0",
            "_model_name": "HTMLModel",
            "_view_count": null,
            "_view_module": "@jupyter-widgets/controls",
            "_view_module_version": "1.5.0",
            "_view_name": "HTMLView",
            "description": "",
            "description_tooltip": null,
            "layout": "IPY_MODEL_baa9aac6455d4b25acd795b88051ff78",
            "placeholder": "​",
            "style": "IPY_MODEL_d9e2e026d98f4edc870618ca271e8e1c",
            "value": "<center> <img\nsrc=https://huggingface.co/front/assets/huggingface_logo-noborder.svg\nalt='Hugging Face'> <br> Copy a token from <a\nhref=\"https://huggingface.co/settings/tokens\" target=\"_blank\">your Hugging Face\ntokens page</a> and paste it below. <br> Immediately click login after copying\nyour token or it might be stored in plain text in this notebook file. </center>"
          }
        },
        "3080522e52f84060959f8c333d7d4a80": {
          "model_module": "@jupyter-widgets/controls",
          "model_module_version": "1.5.0",
          "model_name": "LabelModel",
          "state": {
            "_dom_classes": [],
            "_model_module": "@jupyter-widgets/controls",
            "_model_module_version": "1.5.0",
            "_model_name": "LabelModel",
            "_view_count": null,
            "_view_module": "@jupyter-widgets/controls",
            "_view_module_version": "1.5.0",
            "_view_name": "LabelView",
            "description": "",
            "description_tooltip": null,
            "layout": "IPY_MODEL_f5c6413969f84b55bdd852d426e4295d",
            "placeholder": "​",
            "style": "IPY_MODEL_36411baa4eeb47099a51045cfbfa3c17",
            "value": "Your token has been saved in your configured git credential helpers (store)."
          }
        },
        "32cdc24944c04b73943f63cd5bae51ea": {
          "model_module": "@jupyter-widgets/controls",
          "model_module_version": "1.5.0",
          "model_name": "HTMLModel",
          "state": {
            "_dom_classes": [],
            "_model_module": "@jupyter-widgets/controls",
            "_model_module_version": "1.5.0",
            "_model_name": "HTMLModel",
            "_view_count": null,
            "_view_module": "@jupyter-widgets/controls",
            "_view_module_version": "1.5.0",
            "_view_name": "HTMLView",
            "description": "",
            "description_tooltip": null,
            "layout": "IPY_MODEL_82a2dc8bdc8245ba94b9e613f977eab0",
            "placeholder": "​",
            "style": "IPY_MODEL_56ca63dfd16240ac8771339f6984d854",
            "value": "Loading checkpoint shards: 100%"
          }
        },
        "33f010c92b7848b880f2da8854f09cff": {
          "model_module": "@jupyter-widgets/controls",
          "model_module_version": "1.5.0",
          "model_name": "DescriptionStyleModel",
          "state": {
            "_model_module": "@jupyter-widgets/controls",
            "_model_module_version": "1.5.0",
            "_model_name": "DescriptionStyleModel",
            "_view_count": null,
            "_view_module": "@jupyter-widgets/base",
            "_view_module_version": "1.2.0",
            "_view_name": "StyleView",
            "description_width": ""
          }
        },
        "36411baa4eeb47099a51045cfbfa3c17": {
          "model_module": "@jupyter-widgets/controls",
          "model_module_version": "1.5.0",
          "model_name": "DescriptionStyleModel",
          "state": {
            "_model_module": "@jupyter-widgets/controls",
            "_model_module_version": "1.5.0",
            "_model_name": "DescriptionStyleModel",
            "_view_count": null,
            "_view_module": "@jupyter-widgets/base",
            "_view_module_version": "1.2.0",
            "_view_name": "StyleView",
            "description_width": ""
          }
        },
        "3deba572bc49482a86eeaf48c875112f": {
          "model_module": "@jupyter-widgets/base",
          "model_module_version": "1.2.0",
          "model_name": "LayoutModel",
          "state": {
            "_model_module": "@jupyter-widgets/base",
            "_model_module_version": "1.2.0",
            "_model_name": "LayoutModel",
            "_view_count": null,
            "_view_module": "@jupyter-widgets/base",
            "_view_module_version": "1.2.0",
            "_view_name": "LayoutView",
            "align_content": null,
            "align_items": null,
            "align_self": null,
            "border": null,
            "bottom": null,
            "display": null,
            "flex": null,
            "flex_flow": null,
            "grid_area": null,
            "grid_auto_columns": null,
            "grid_auto_flow": null,
            "grid_auto_rows": null,
            "grid_column": null,
            "grid_gap": null,
            "grid_row": null,
            "grid_template_areas": null,
            "grid_template_columns": null,
            "grid_template_rows": null,
            "height": null,
            "justify_content": null,
            "justify_items": null,
            "left": null,
            "margin": null,
            "max_height": null,
            "max_width": null,
            "min_height": null,
            "min_width": null,
            "object_fit": null,
            "object_position": null,
            "order": null,
            "overflow": null,
            "overflow_x": null,
            "overflow_y": null,
            "padding": null,
            "right": null,
            "top": null,
            "visibility": null,
            "width": null
          }
        },
        "53e401753cfe4c2d95e9472149b44bb7": {
          "model_module": "@jupyter-widgets/controls",
          "model_module_version": "1.5.0",
          "model_name": "LabelModel",
          "state": {
            "_dom_classes": [],
            "_model_module": "@jupyter-widgets/controls",
            "_model_module_version": "1.5.0",
            "_model_name": "LabelModel",
            "_view_count": null,
            "_view_module": "@jupyter-widgets/controls",
            "_view_module_version": "1.5.0",
            "_view_name": "LabelView",
            "description": "",
            "description_tooltip": null,
            "layout": "IPY_MODEL_fd938fddc4984428a8259dcabb96f1e1",
            "placeholder": "​",
            "style": "IPY_MODEL_a89f9ccd447e4d8bbb73abfd6b7ece7a",
            "value": "Your token has been saved to /root/.cache/huggingface/token"
          }
        },
        "56ca63dfd16240ac8771339f6984d854": {
          "model_module": "@jupyter-widgets/controls",
          "model_module_version": "1.5.0",
          "model_name": "DescriptionStyleModel",
          "state": {
            "_model_module": "@jupyter-widgets/controls",
            "_model_module_version": "1.5.0",
            "_model_name": "DescriptionStyleModel",
            "_view_count": null,
            "_view_module": "@jupyter-widgets/base",
            "_view_module_version": "1.2.0",
            "_view_name": "StyleView",
            "description_width": ""
          }
        },
        "58daf2f0a2e843d8aab0f714d2c77ce0": {
          "model_module": "@jupyter-widgets/controls",
          "model_module_version": "1.5.0",
          "model_name": "LabelModel",
          "state": {
            "_dom_classes": [],
            "_model_module": "@jupyter-widgets/controls",
            "_model_module_version": "1.5.0",
            "_model_name": "LabelModel",
            "_view_count": null,
            "_view_module": "@jupyter-widgets/controls",
            "_view_module_version": "1.5.0",
            "_view_name": "LabelView",
            "description": "",
            "description_tooltip": null,
            "layout": "IPY_MODEL_3deba572bc49482a86eeaf48c875112f",
            "placeholder": "​",
            "style": "IPY_MODEL_154d8868736d49e6bc7ffc03941625be",
            "value": "Token is valid (permission: write)."
          }
        },
        "5b03d9256ef64d229adc2aaf1d8d05ba": {
          "model_module": "@jupyter-widgets/controls",
          "model_module_version": "1.5.0",
          "model_name": "DescriptionStyleModel",
          "state": {
            "_model_module": "@jupyter-widgets/controls",
            "_model_module_version": "1.5.0",
            "_model_name": "DescriptionStyleModel",
            "_view_count": null,
            "_view_module": "@jupyter-widgets/base",
            "_view_module_version": "1.2.0",
            "_view_name": "StyleView",
            "description_width": ""
          }
        },
        "63cf78491fdd4fd28e3b01c2a3c27a98": {
          "model_module": "@jupyter-widgets/controls",
          "model_module_version": "1.5.0",
          "model_name": "ButtonStyleModel",
          "state": {
            "_model_module": "@jupyter-widgets/controls",
            "_model_module_version": "1.5.0",
            "_model_name": "ButtonStyleModel",
            "_view_count": null,
            "_view_module": "@jupyter-widgets/base",
            "_view_module_version": "1.2.0",
            "_view_name": "StyleView",
            "button_color": null,
            "font_weight": ""
          }
        },
        "64ffce6616b747b6942c8f1b1988d89d": {
          "model_module": "@jupyter-widgets/base",
          "model_module_version": "1.2.0",
          "model_name": "LayoutModel",
          "state": {
            "_model_module": "@jupyter-widgets/base",
            "_model_module_version": "1.2.0",
            "_model_name": "LayoutModel",
            "_view_count": null,
            "_view_module": "@jupyter-widgets/base",
            "_view_module_version": "1.2.0",
            "_view_name": "LayoutView",
            "align_content": null,
            "align_items": null,
            "align_self": null,
            "border": null,
            "bottom": null,
            "display": null,
            "flex": null,
            "flex_flow": null,
            "grid_area": null,
            "grid_auto_columns": null,
            "grid_auto_flow": null,
            "grid_auto_rows": null,
            "grid_column": null,
            "grid_gap": null,
            "grid_row": null,
            "grid_template_areas": null,
            "grid_template_columns": null,
            "grid_template_rows": null,
            "height": null,
            "justify_content": null,
            "justify_items": null,
            "left": null,
            "margin": null,
            "max_height": null,
            "max_width": null,
            "min_height": null,
            "min_width": null,
            "object_fit": null,
            "object_position": null,
            "order": null,
            "overflow": null,
            "overflow_x": null,
            "overflow_y": null,
            "padding": null,
            "right": null,
            "top": null,
            "visibility": null,
            "width": null
          }
        },
        "68b6135f90a647ce9b5d0606a6db77f7": {
          "model_module": "@jupyter-widgets/controls",
          "model_module_version": "1.5.0",
          "model_name": "LabelModel",
          "state": {
            "_dom_classes": [],
            "_model_module": "@jupyter-widgets/controls",
            "_model_module_version": "1.5.0",
            "_model_name": "LabelModel",
            "_view_count": null,
            "_view_module": "@jupyter-widgets/controls",
            "_view_module_version": "1.5.0",
            "_view_name": "LabelView",
            "description": "",
            "description_tooltip": null,
            "layout": "IPY_MODEL_9a4c6f44734441f3bed8966a07347b14",
            "placeholder": "​",
            "style": "IPY_MODEL_33f010c92b7848b880f2da8854f09cff",
            "value": "Connecting..."
          }
        },
        "69c768b847a445ac9dd29fc9abc6d253": {
          "model_module": "@jupyter-widgets/base",
          "model_module_version": "1.2.0",
          "model_name": "LayoutModel",
          "state": {
            "_model_module": "@jupyter-widgets/base",
            "_model_module_version": "1.2.0",
            "_model_name": "LayoutModel",
            "_view_count": null,
            "_view_module": "@jupyter-widgets/base",
            "_view_module_version": "1.2.0",
            "_view_name": "LayoutView",
            "align_content": null,
            "align_items": null,
            "align_self": null,
            "border": null,
            "bottom": null,
            "display": null,
            "flex": null,
            "flex_flow": null,
            "grid_area": null,
            "grid_auto_columns": null,
            "grid_auto_flow": null,
            "grid_auto_rows": null,
            "grid_column": null,
            "grid_gap": null,
            "grid_row": null,
            "grid_template_areas": null,
            "grid_template_columns": null,
            "grid_template_rows": null,
            "height": null,
            "justify_content": null,
            "justify_items": null,
            "left": null,
            "margin": null,
            "max_height": null,
            "max_width": null,
            "min_height": null,
            "min_width": null,
            "object_fit": null,
            "object_position": null,
            "order": null,
            "overflow": null,
            "overflow_x": null,
            "overflow_y": null,
            "padding": null,
            "right": null,
            "top": null,
            "visibility": null,
            "width": null
          }
        },
        "6a8b3f12f2da402faaf7bc5ebd83bae8": {
          "model_module": "@jupyter-widgets/base",
          "model_module_version": "1.2.0",
          "model_name": "LayoutModel",
          "state": {
            "_model_module": "@jupyter-widgets/base",
            "_model_module_version": "1.2.0",
            "_model_name": "LayoutModel",
            "_view_count": null,
            "_view_module": "@jupyter-widgets/base",
            "_view_module_version": "1.2.0",
            "_view_name": "LayoutView",
            "align_content": null,
            "align_items": null,
            "align_self": null,
            "border": null,
            "bottom": null,
            "display": null,
            "flex": null,
            "flex_flow": null,
            "grid_area": null,
            "grid_auto_columns": null,
            "grid_auto_flow": null,
            "grid_auto_rows": null,
            "grid_column": null,
            "grid_gap": null,
            "grid_row": null,
            "grid_template_areas": null,
            "grid_template_columns": null,
            "grid_template_rows": null,
            "height": null,
            "justify_content": null,
            "justify_items": null,
            "left": null,
            "margin": null,
            "max_height": null,
            "max_width": null,
            "min_height": null,
            "min_width": null,
            "object_fit": null,
            "object_position": null,
            "order": null,
            "overflow": null,
            "overflow_x": null,
            "overflow_y": null,
            "padding": null,
            "right": null,
            "top": null,
            "visibility": null,
            "width": null
          }
        },
        "799699b0656c4ef8841ccccf0c2fb8d2": {
          "model_module": "@jupyter-widgets/controls",
          "model_module_version": "1.5.0",
          "model_name": "CheckboxModel",
          "state": {
            "_dom_classes": [],
            "_model_module": "@jupyter-widgets/controls",
            "_model_module_version": "1.5.0",
            "_model_name": "CheckboxModel",
            "_view_count": null,
            "_view_module": "@jupyter-widgets/controls",
            "_view_module_version": "1.5.0",
            "_view_name": "CheckboxView",
            "description": "Add token as git credential?",
            "description_tooltip": null,
            "disabled": false,
            "indent": true,
            "layout": "IPY_MODEL_ccd8f510ff424eb1a85fc16097c1ec82",
            "style": "IPY_MODEL_e3622d0ec9554b9da09b6223dc741ec4",
            "value": true
          }
        },
        "7da7399020b2428d9710f7fffd9fdcb4": {
          "model_module": "@jupyter-widgets/controls",
          "model_module_version": "1.5.0",
          "model_name": "DescriptionStyleModel",
          "state": {
            "_model_module": "@jupyter-widgets/controls",
            "_model_module_version": "1.5.0",
            "_model_name": "DescriptionStyleModel",
            "_view_count": null,
            "_view_module": "@jupyter-widgets/base",
            "_view_module_version": "1.2.0",
            "_view_name": "StyleView",
            "description_width": ""
          }
        },
        "82a2dc8bdc8245ba94b9e613f977eab0": {
          "model_module": "@jupyter-widgets/base",
          "model_module_version": "1.2.0",
          "model_name": "LayoutModel",
          "state": {
            "_model_module": "@jupyter-widgets/base",
            "_model_module_version": "1.2.0",
            "_model_name": "LayoutModel",
            "_view_count": null,
            "_view_module": "@jupyter-widgets/base",
            "_view_module_version": "1.2.0",
            "_view_name": "LayoutView",
            "align_content": null,
            "align_items": null,
            "align_self": null,
            "border": null,
            "bottom": null,
            "display": null,
            "flex": null,
            "flex_flow": null,
            "grid_area": null,
            "grid_auto_columns": null,
            "grid_auto_flow": null,
            "grid_auto_rows": null,
            "grid_column": null,
            "grid_gap": null,
            "grid_row": null,
            "grid_template_areas": null,
            "grid_template_columns": null,
            "grid_template_rows": null,
            "height": null,
            "justify_content": null,
            "justify_items": null,
            "left": null,
            "margin": null,
            "max_height": null,
            "max_width": null,
            "min_height": null,
            "min_width": null,
            "object_fit": null,
            "object_position": null,
            "order": null,
            "overflow": null,
            "overflow_x": null,
            "overflow_y": null,
            "padding": null,
            "right": null,
            "top": null,
            "visibility": null,
            "width": null
          }
        },
        "8536a9058aa24212aca1dea936938c47": {
          "model_module": "@jupyter-widgets/base",
          "model_module_version": "1.2.0",
          "model_name": "LayoutModel",
          "state": {
            "_model_module": "@jupyter-widgets/base",
            "_model_module_version": "1.2.0",
            "_model_name": "LayoutModel",
            "_view_count": null,
            "_view_module": "@jupyter-widgets/base",
            "_view_module_version": "1.2.0",
            "_view_name": "LayoutView",
            "align_content": null,
            "align_items": null,
            "align_self": null,
            "border": null,
            "bottom": null,
            "display": null,
            "flex": null,
            "flex_flow": null,
            "grid_area": null,
            "grid_auto_columns": null,
            "grid_auto_flow": null,
            "grid_auto_rows": null,
            "grid_column": null,
            "grid_gap": null,
            "grid_row": null,
            "grid_template_areas": null,
            "grid_template_columns": null,
            "grid_template_rows": null,
            "height": null,
            "justify_content": null,
            "justify_items": null,
            "left": null,
            "margin": null,
            "max_height": null,
            "max_width": null,
            "min_height": null,
            "min_width": null,
            "object_fit": null,
            "object_position": null,
            "order": null,
            "overflow": null,
            "overflow_x": null,
            "overflow_y": null,
            "padding": null,
            "right": null,
            "top": null,
            "visibility": null,
            "width": null
          }
        },
        "8dff7ef09cb147268b7a32f9ab90e4bd": {
          "model_module": "@jupyter-widgets/base",
          "model_module_version": "1.2.0",
          "model_name": "LayoutModel",
          "state": {
            "_model_module": "@jupyter-widgets/base",
            "_model_module_version": "1.2.0",
            "_model_name": "LayoutModel",
            "_view_count": null,
            "_view_module": "@jupyter-widgets/base",
            "_view_module_version": "1.2.0",
            "_view_name": "LayoutView",
            "align_content": null,
            "align_items": null,
            "align_self": null,
            "border": null,
            "bottom": null,
            "display": null,
            "flex": null,
            "flex_flow": null,
            "grid_area": null,
            "grid_auto_columns": null,
            "grid_auto_flow": null,
            "grid_auto_rows": null,
            "grid_column": null,
            "grid_gap": null,
            "grid_row": null,
            "grid_template_areas": null,
            "grid_template_columns": null,
            "grid_template_rows": null,
            "height": null,
            "justify_content": null,
            "justify_items": null,
            "left": null,
            "margin": null,
            "max_height": null,
            "max_width": null,
            "min_height": null,
            "min_width": null,
            "object_fit": null,
            "object_position": null,
            "order": null,
            "overflow": null,
            "overflow_x": null,
            "overflow_y": null,
            "padding": null,
            "right": null,
            "top": null,
            "visibility": null,
            "width": null
          }
        },
        "9a4c6f44734441f3bed8966a07347b14": {
          "model_module": "@jupyter-widgets/base",
          "model_module_version": "1.2.0",
          "model_name": "LayoutModel",
          "state": {
            "_model_module": "@jupyter-widgets/base",
            "_model_module_version": "1.2.0",
            "_model_name": "LayoutModel",
            "_view_count": null,
            "_view_module": "@jupyter-widgets/base",
            "_view_module_version": "1.2.0",
            "_view_name": "LayoutView",
            "align_content": null,
            "align_items": null,
            "align_self": null,
            "border": null,
            "bottom": null,
            "display": null,
            "flex": null,
            "flex_flow": null,
            "grid_area": null,
            "grid_auto_columns": null,
            "grid_auto_flow": null,
            "grid_auto_rows": null,
            "grid_column": null,
            "grid_gap": null,
            "grid_row": null,
            "grid_template_areas": null,
            "grid_template_columns": null,
            "grid_template_rows": null,
            "height": null,
            "justify_content": null,
            "justify_items": null,
            "left": null,
            "margin": null,
            "max_height": null,
            "max_width": null,
            "min_height": null,
            "min_width": null,
            "object_fit": null,
            "object_position": null,
            "order": null,
            "overflow": null,
            "overflow_x": null,
            "overflow_y": null,
            "padding": null,
            "right": null,
            "top": null,
            "visibility": null,
            "width": null
          }
        },
        "a89f9ccd447e4d8bbb73abfd6b7ece7a": {
          "model_module": "@jupyter-widgets/controls",
          "model_module_version": "1.5.0",
          "model_name": "DescriptionStyleModel",
          "state": {
            "_model_module": "@jupyter-widgets/controls",
            "_model_module_version": "1.5.0",
            "_model_name": "DescriptionStyleModel",
            "_view_count": null,
            "_view_module": "@jupyter-widgets/base",
            "_view_module_version": "1.2.0",
            "_view_name": "StyleView",
            "description_width": ""
          }
        },
        "b456f2766ada46e7b1537b6ac0ec27ce": {
          "model_module": "@jupyter-widgets/base",
          "model_module_version": "1.2.0",
          "model_name": "LayoutModel",
          "state": {
            "_model_module": "@jupyter-widgets/base",
            "_model_module_version": "1.2.0",
            "_model_name": "LayoutModel",
            "_view_count": null,
            "_view_module": "@jupyter-widgets/base",
            "_view_module_version": "1.2.0",
            "_view_name": "LayoutView",
            "align_content": null,
            "align_items": null,
            "align_self": null,
            "border": null,
            "bottom": null,
            "display": null,
            "flex": null,
            "flex_flow": null,
            "grid_area": null,
            "grid_auto_columns": null,
            "grid_auto_flow": null,
            "grid_auto_rows": null,
            "grid_column": null,
            "grid_gap": null,
            "grid_row": null,
            "grid_template_areas": null,
            "grid_template_columns": null,
            "grid_template_rows": null,
            "height": null,
            "justify_content": null,
            "justify_items": null,
            "left": null,
            "margin": null,
            "max_height": null,
            "max_width": null,
            "min_height": null,
            "min_width": null,
            "object_fit": null,
            "object_position": null,
            "order": null,
            "overflow": null,
            "overflow_x": null,
            "overflow_y": null,
            "padding": null,
            "right": null,
            "top": null,
            "visibility": null,
            "width": null
          }
        },
        "b7148dda4426414bbb4a24147c6aa1c9": {
          "model_module": "@jupyter-widgets/controls",
          "model_module_version": "1.5.0",
          "model_name": "HTMLModel",
          "state": {
            "_dom_classes": [],
            "_model_module": "@jupyter-widgets/controls",
            "_model_module_version": "1.5.0",
            "_model_name": "HTMLModel",
            "_view_count": null,
            "_view_module": "@jupyter-widgets/controls",
            "_view_module_version": "1.5.0",
            "_view_name": "HTMLView",
            "description": "",
            "description_tooltip": null,
            "layout": "IPY_MODEL_69c768b847a445ac9dd29fc9abc6d253",
            "placeholder": "​",
            "style": "IPY_MODEL_7da7399020b2428d9710f7fffd9fdcb4",
            "value": " 2/2 [00:12&lt;00:00,  5.15s/it]"
          }
        },
        "b7e11a24511e4fda8e55ce6d5757642c": {
          "model_module": "@jupyter-widgets/controls",
          "model_module_version": "1.5.0",
          "model_name": "DescriptionStyleModel",
          "state": {
            "_model_module": "@jupyter-widgets/controls",
            "_model_module_version": "1.5.0",
            "_model_name": "DescriptionStyleModel",
            "_view_count": null,
            "_view_module": "@jupyter-widgets/base",
            "_view_module_version": "1.2.0",
            "_view_name": "StyleView",
            "description_width": ""
          }
        },
        "baa9aac6455d4b25acd795b88051ff78": {
          "model_module": "@jupyter-widgets/base",
          "model_module_version": "1.2.0",
          "model_name": "LayoutModel",
          "state": {
            "_model_module": "@jupyter-widgets/base",
            "_model_module_version": "1.2.0",
            "_model_name": "LayoutModel",
            "_view_count": null,
            "_view_module": "@jupyter-widgets/base",
            "_view_module_version": "1.2.0",
            "_view_name": "LayoutView",
            "align_content": null,
            "align_items": null,
            "align_self": null,
            "border": null,
            "bottom": null,
            "display": null,
            "flex": null,
            "flex_flow": null,
            "grid_area": null,
            "grid_auto_columns": null,
            "grid_auto_flow": null,
            "grid_auto_rows": null,
            "grid_column": null,
            "grid_gap": null,
            "grid_row": null,
            "grid_template_areas": null,
            "grid_template_columns": null,
            "grid_template_rows": null,
            "height": null,
            "justify_content": null,
            "justify_items": null,
            "left": null,
            "margin": null,
            "max_height": null,
            "max_width": null,
            "min_height": null,
            "min_width": null,
            "object_fit": null,
            "object_position": null,
            "order": null,
            "overflow": null,
            "overflow_x": null,
            "overflow_y": null,
            "padding": null,
            "right": null,
            "top": null,
            "visibility": null,
            "width": null
          }
        },
        "ccd8f510ff424eb1a85fc16097c1ec82": {
          "model_module": "@jupyter-widgets/base",
          "model_module_version": "1.2.0",
          "model_name": "LayoutModel",
          "state": {
            "_model_module": "@jupyter-widgets/base",
            "_model_module_version": "1.2.0",
            "_model_name": "LayoutModel",
            "_view_count": null,
            "_view_module": "@jupyter-widgets/base",
            "_view_module_version": "1.2.0",
            "_view_name": "LayoutView",
            "align_content": null,
            "align_items": null,
            "align_self": null,
            "border": null,
            "bottom": null,
            "display": null,
            "flex": null,
            "flex_flow": null,
            "grid_area": null,
            "grid_auto_columns": null,
            "grid_auto_flow": null,
            "grid_auto_rows": null,
            "grid_column": null,
            "grid_gap": null,
            "grid_row": null,
            "grid_template_areas": null,
            "grid_template_columns": null,
            "grid_template_rows": null,
            "height": null,
            "justify_content": null,
            "justify_items": null,
            "left": null,
            "margin": null,
            "max_height": null,
            "max_width": null,
            "min_height": null,
            "min_width": null,
            "object_fit": null,
            "object_position": null,
            "order": null,
            "overflow": null,
            "overflow_x": null,
            "overflow_y": null,
            "padding": null,
            "right": null,
            "top": null,
            "visibility": null,
            "width": null
          }
        },
        "d9e2e026d98f4edc870618ca271e8e1c": {
          "model_module": "@jupyter-widgets/controls",
          "model_module_version": "1.5.0",
          "model_name": "DescriptionStyleModel",
          "state": {
            "_model_module": "@jupyter-widgets/controls",
            "_model_module_version": "1.5.0",
            "_model_name": "DescriptionStyleModel",
            "_view_count": null,
            "_view_module": "@jupyter-widgets/base",
            "_view_module_version": "1.2.0",
            "_view_name": "StyleView",
            "description_width": ""
          }
        },
        "e3622d0ec9554b9da09b6223dc741ec4": {
          "model_module": "@jupyter-widgets/controls",
          "model_module_version": "1.5.0",
          "model_name": "DescriptionStyleModel",
          "state": {
            "_model_module": "@jupyter-widgets/controls",
            "_model_module_version": "1.5.0",
            "_model_name": "DescriptionStyleModel",
            "_view_count": null,
            "_view_module": "@jupyter-widgets/base",
            "_view_module_version": "1.2.0",
            "_view_name": "StyleView",
            "description_width": ""
          }
        },
        "eb2b86a4bd3c48659a38c44010ba0b21": {
          "model_module": "@jupyter-widgets/controls",
          "model_module_version": "1.5.0",
          "model_name": "ProgressStyleModel",
          "state": {
            "_model_module": "@jupyter-widgets/controls",
            "_model_module_version": "1.5.0",
            "_model_name": "ProgressStyleModel",
            "_view_count": null,
            "_view_module": "@jupyter-widgets/base",
            "_view_module_version": "1.2.0",
            "_view_name": "StyleView",
            "bar_color": null,
            "description_width": ""
          }
        },
        "eff89b33ce31458a94a2b8a70854fc48": {
          "model_module": "@jupyter-widgets/controls",
          "model_module_version": "1.5.0",
          "model_name": "VBoxModel",
          "state": {
            "_dom_classes": [],
            "_model_module": "@jupyter-widgets/controls",
            "_model_module_version": "1.5.0",
            "_model_name": "VBoxModel",
            "_view_count": null,
            "_view_module": "@jupyter-widgets/controls",
            "_view_module_version": "1.5.0",
            "_view_name": "VBoxView",
            "box_style": "",
            "children": [
              "IPY_MODEL_58daf2f0a2e843d8aab0f714d2c77ce0",
              "IPY_MODEL_3080522e52f84060959f8c333d7d4a80",
              "IPY_MODEL_53e401753cfe4c2d95e9472149b44bb7",
              "IPY_MODEL_28c58992d54c4ef39e42ccbeca070864"
            ],
            "layout": "IPY_MODEL_14cd29d1a8bf47049c6f2fe8dda4707d"
          }
        },
        "f2f0969934174ac8a9ba0e1d59f999d4": {
          "model_module": "@jupyter-widgets/controls",
          "model_module_version": "1.5.0",
          "model_name": "HBoxModel",
          "state": {
            "_dom_classes": [],
            "_model_module": "@jupyter-widgets/controls",
            "_model_module_version": "1.5.0",
            "_model_name": "HBoxModel",
            "_view_count": null,
            "_view_module": "@jupyter-widgets/controls",
            "_view_module_version": "1.5.0",
            "_view_name": "HBoxView",
            "box_style": "",
            "children": [
              "IPY_MODEL_32cdc24944c04b73943f63cd5bae51ea",
              "IPY_MODEL_2446c826e4f1476283d0b399c81486ce",
              "IPY_MODEL_b7148dda4426414bbb4a24147c6aa1c9"
            ],
            "layout": "IPY_MODEL_8536a9058aa24212aca1dea936938c47"
          }
        },
        "f5c6413969f84b55bdd852d426e4295d": {
          "model_module": "@jupyter-widgets/base",
          "model_module_version": "1.2.0",
          "model_name": "LayoutModel",
          "state": {
            "_model_module": "@jupyter-widgets/base",
            "_model_module_version": "1.2.0",
            "_model_name": "LayoutModel",
            "_view_count": null,
            "_view_module": "@jupyter-widgets/base",
            "_view_module_version": "1.2.0",
            "_view_name": "LayoutView",
            "align_content": null,
            "align_items": null,
            "align_self": null,
            "border": null,
            "bottom": null,
            "display": null,
            "flex": null,
            "flex_flow": null,
            "grid_area": null,
            "grid_auto_columns": null,
            "grid_auto_flow": null,
            "grid_auto_rows": null,
            "grid_column": null,
            "grid_gap": null,
            "grid_row": null,
            "grid_template_areas": null,
            "grid_template_columns": null,
            "grid_template_rows": null,
            "height": null,
            "justify_content": null,
            "justify_items": null,
            "left": null,
            "margin": null,
            "max_height": null,
            "max_width": null,
            "min_height": null,
            "min_width": null,
            "object_fit": null,
            "object_position": null,
            "order": null,
            "overflow": null,
            "overflow_x": null,
            "overflow_y": null,
            "padding": null,
            "right": null,
            "top": null,
            "visibility": null,
            "width": null
          }
        },
        "fd938fddc4984428a8259dcabb96f1e1": {
          "model_module": "@jupyter-widgets/base",
          "model_module_version": "1.2.0",
          "model_name": "LayoutModel",
          "state": {
            "_model_module": "@jupyter-widgets/base",
            "_model_module_version": "1.2.0",
            "_model_name": "LayoutModel",
            "_view_count": null,
            "_view_module": "@jupyter-widgets/base",
            "_view_module_version": "1.2.0",
            "_view_name": "LayoutView",
            "align_content": null,
            "align_items": null,
            "align_self": null,
            "border": null,
            "bottom": null,
            "display": null,
            "flex": null,
            "flex_flow": null,
            "grid_area": null,
            "grid_auto_columns": null,
            "grid_auto_flow": null,
            "grid_auto_rows": null,
            "grid_column": null,
            "grid_gap": null,
            "grid_row": null,
            "grid_template_areas": null,
            "grid_template_columns": null,
            "grid_template_rows": null,
            "height": null,
            "justify_content": null,
            "justify_items": null,
            "left": null,
            "margin": null,
            "max_height": null,
            "max_width": null,
            "min_height": null,
            "min_width": null,
            "object_fit": null,
            "object_position": null,
            "order": null,
            "overflow": null,
            "overflow_x": null,
            "overflow_y": null,
            "padding": null,
            "right": null,
            "top": null,
            "visibility": null,
            "width": null
          }
        }
      }
    }
  },
  "nbformat": 4,
  "nbformat_minor": 0
}
